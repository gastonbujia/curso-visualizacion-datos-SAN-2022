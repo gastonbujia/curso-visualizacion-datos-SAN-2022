{
  "nbformat": 4,
  "nbformat_minor": 0,
  "metadata": {
    "colab": {
      "provenance": [],
      "collapsed_sections": [],
      "include_colab_link": true
    },
    "kernelspec": {
      "name": "python3",
      "display_name": "Python 3"
    }
  },
  "cells": [
    {
      "cell_type": "markdown",
      "metadata": {
        "id": "view-in-github",
        "colab_type": "text"
      },
      "source": [
        "<a href=\"https://colab.research.google.com/github/gastonbujia/curso-visualizacion-datos-SAN-2022/blob/main/notebooks/SAN_dia_1.ipynb\" target=\"_parent\"><img src=\"https://colab.research.google.com/assets/colab-badge.svg\" alt=\"Open In Colab\"/></a>"
      ]
    },
    {
      "cell_type": "markdown",
      "metadata": {
        "id": "xC2KRyZ1nVKq"
      },
      "source": [
        "# ¡Hola! Bienvenides al día 2 del taller :)\n",
        "\n",
        "<img src = \"https://media.giphy.com/media/1kkxWqT5nvLXupUTwK/giphy.gif\">"
      ]
    },
    {
      "cell_type": "markdown",
      "metadata": {
        "id": "8QaHOF3c4VWF"
      },
      "source": [
        "# Una funcionalidad importante en Google Colab\n",
        "\n",
        "Nos permite utilizar la línea de comandos de la computadora que estamos utilizando en la nube. Si chequean qué computadora están usando, van a ver que están corriendo en Linux! (**aprendan Linux**)\n",
        "\n",
        "Para eso necesitamos anteponer el caracter **!** antes del comando que queremos ejecutar.\n",
        "\n",
        "Una de las principales utilidades "
      ]
    },
    {
      "cell_type": "code",
      "source": [
        "!cat /etc/os-release"
      ],
      "metadata": {
        "colab": {
          "base_uri": "https://localhost:8080/"
        },
        "id": "AYYSCUC--a7i",
        "outputId": "8ce1e528-0e5e-4bc4-a3ba-258d6c402305"
      },
      "execution_count": null,
      "outputs": [
        {
          "output_type": "stream",
          "name": "stdout",
          "text": [
            "NAME=\"Ubuntu\"\n",
            "VERSION=\"18.04.6 LTS (Bionic Beaver)\"\n",
            "ID=ubuntu\n",
            "ID_LIKE=debian\n",
            "PRETTY_NAME=\"Ubuntu 18.04.6 LTS\"\n",
            "VERSION_ID=\"18.04\"\n",
            "HOME_URL=\"https://www.ubuntu.com/\"\n",
            "SUPPORT_URL=\"https://help.ubuntu.com/\"\n",
            "BUG_REPORT_URL=\"https://bugs.launchpad.net/ubuntu/\"\n",
            "PRIVACY_POLICY_URL=\"https://www.ubuntu.com/legal/terms-and-policies/privacy-policy\"\n",
            "VERSION_CODENAME=bionic\n",
            "UBUNTU_CODENAME=bionic\n"
          ]
        }
      ]
    },
    {
      "cell_type": "code",
      "metadata": {
        "id": "KBx9ny8U4xmK"
      },
      "source": [
        "# Averiguar la version de Python que está corriendo\n",
        "!python --version"
      ],
      "execution_count": null,
      "outputs": []
    },
    {
      "cell_type": "code",
      "metadata": {
        "id": "RW9IfQTY472U"
      },
      "source": [
        "#Instalar una librería que no venga instalada\n",
        "!pip install miLibreriaLoca"
      ],
      "execution_count": null,
      "outputs": []
    },
    {
      "cell_type": "markdown",
      "metadata": {
        "id": "eyRdol_z5FED"
      },
      "source": [
        "# Todo muy lindo pero... ¿Qué son las librerías?\n",
        "\n",
        "<center>\n",
        "<img width=\"500\" height=\"auto\" src=\"https://blog-c7ff.kxcdn.com/blog/wp-content/uploads/2017/01/ML_Lie-01-compressed.jpg\"> \n",
        "<p>Fuente: https://blog-c7ff.kxcdn.com/blog/wp-content/uploads/2017/01/ML_Lie-01-compressed.jpg </p>\n",
        "</center>\n",
        "\n"
      ]
    },
    {
      "cell_type": "markdown",
      "metadata": {
        "id": "JVpsmVvOqx28"
      },
      "source": [
        "# Importando las librerías\n",
        "\n",
        "* Importar una librería es como ir a buscar la caja de herramientas y ponerla sobre una mesa de trabajo lista para que su contenido sea utilizado.\n",
        "\n",
        "* Las librerías (del inglés *library* que significa biblioteca pero nadie les dice así) son bloques de código que están agrupados para cumplir una función o conjunto de funciones.\n",
        "\n",
        "* En este caso vamos a hacer uso de las siguientes:\n",
        "  * **Numpy**: Librería para álgebra lineal. Nos permitirá, entre otras cosas, utilizar arreglos (*arrays*) y por lo tanto potenciar nuetras capacidades matemáticas. \n",
        "  * **Pandas** : Para trabajar con *data frames*, un tipo de dato similar a una tabla de excel. Necesita a Numpy para funcionar.\n",
        "  * **matplotlib**: Para realizar gráficos y visualizaciones en general.\n",
        "  * **scipy** : Para análisis estadístico."
      ]
    },
    {
      "cell_type": "code",
      "metadata": {
        "id": "weZWbVdx_cyC"
      },
      "source": [
        "# Sintaxis para importar librerias, el \"as\" es una manera de definirla con un nombre más sencillo, pero no es obligatorio.\n",
        "# Normalmente habría que instalarlas en nuestra compu, pero vienen ya instaladas en las compus donde Google Colab está corriendo nuestro código.\n",
        "import numpy as np\n",
        "import pandas as pd\n",
        "from matplotlib import pyplot as plt\n",
        "from scipy import stats"
      ],
      "execution_count": null,
      "outputs": []
    },
    {
      "cell_type": "code",
      "metadata": {
        "id": "oY2wF9xTyahN",
        "colab": {
          "base_uri": "https://localhost:8080/",
          "height": 336
        },
        "cellView": "form",
        "outputId": "378067d5-5a3a-4ff4-e485-b78f954b9147"
      },
      "source": [
        "# @title Video para musicalizar el aprendizaje y mostrar que en Google Colab se puede insertar prácticamente cualquier tipo de contenido. Dale doble click a esta celda para ver el código.\n",
        "\n",
        "from IPython.display import HTML\n",
        "\n",
        "HTML('<iframe width=\"560\" height=\"315\" src=\"https://www.youtube.com/embed/D2yymMhjRu8\" frameborder=\"0\" allow=\"accelerometer; autoplay; clipboard-write; encrypted-media; gyroscope; picture-in-picture\" allowfullscreen></iframe>')"
      ],
      "execution_count": null,
      "outputs": [
        {
          "output_type": "execute_result",
          "data": {
            "text/html": [
              "<iframe width=\"560\" height=\"315\" src=\"https://www.youtube.com/embed/D2yymMhjRu8\" frameborder=\"0\" allow=\"accelerometer; autoplay; clipboard-write; encrypted-media; gyroscope; picture-in-picture\" allowfullscreen></iframe>"
            ],
            "text/plain": [
              "<IPython.core.display.HTML object>"
            ]
          },
          "metadata": {
            "tags": []
          },
          "execution_count": 4
        }
      ]
    },
    {
      "cell_type": "markdown",
      "metadata": {
        "id": "aiC5WgCPJJ_j"
      },
      "source": [
        "# Vamos a ver algunas de las principales librerías del ecosistema de datos de Python\n",
        "\n",
        "<center>\n",
        "<img width=\"500\" height=\"auto\" src=\"https://atrebas.github.io/images/python.png\">\n",
        "</center>\n",
        "\n",
        "## **Para ver la documentación oficial pueden clickear sobre el logo de cada una más abajo**"
      ]
    },
    {
      "cell_type": "markdown",
      "metadata": {
        "id": "QRkYfDh8CjzT"
      },
      "source": [
        "# Numpy en 5 minutos\n",
        "\n",
        "<a href= 'https://numpy.org/doc/'>\n",
        "<img width=\"250\" height=\"auto\" src=\"https://upload.wikimedia.org/wikipedia/commons/3/31/NumPy_logo_2020.svg\"> </a>\n",
        "\n",
        "Nos proporciona un nuevo tipo de dato que se llama arreglo o *array* que posee las siguientes características:\n",
        "\n",
        " 1. Puede guardar elementos como en una lista y la manera de acceder a ellos es similar.\n",
        " 2. Permite realizar operaciones entre arreglos, cosa que en una lista no es posible.\n",
        " 2. Es mucho más rápido por cuestiones de eficiencia en el uso de la memoria.\n",
        " 3. Es la base de todo el ecosistema de librerías científicas de Python.\n",
        " 4. Evita que usemos MATLAB    <img width=\"20\" height=\"auto\" src=\"https://images.emojiterra.com/google/android-11/512px/1f625.png\n",
        "\">  \n",
        "<center>\n",
        "<img width=\"500\" height=\"auto\" src=\"https://i.stack.imgur.com/Tbe9W.png\"> \n",
        "<p>Fuente: https://medium.com/@mo000007/numpy-for-beginners-19d64e164df6 </p>\n",
        "</center>\n",
        "\n",
        "\n",
        "\n"
      ]
    },
    {
      "cell_type": "code",
      "metadata": {
        "id": "eKE4u3qmHrQh"
      },
      "source": [
        "# Creando arrays\n",
        "\n",
        "# Array de 1 dimensión en numpy\n",
        "array_1D = np.array([7,2,9,0])\n",
        "# print(array_1D)\n",
        "\n",
        "# Array 2D en numpy\n",
        "array_2D = np.array([[5.2, 3.0, 4.5], [9.1, 0.1,0.3]])\n",
        "# print(array_2D)\n",
        "\n",
        "# Creando arrays de \"ceros\" de la dimension que uno quiera\n",
        "ceros = np.zeros((2,3,2)) \n",
        "# print(zeros)\n",
        "\n",
        "# Creando arrays de \"unos\" de la dimension que uno quiera\n",
        "unos = np.ones((4,2)) \n",
        "# print(unos)\n",
        "\n"
      ],
      "execution_count": null,
      "outputs": []
    },
    {
      "cell_type": "code",
      "metadata": {
        "id": "Rc2Dm-6jMeLp"
      },
      "source": [
        "# Tamaño del array en formato (filas,columnas)\n",
        "array_2D.shape"
      ],
      "execution_count": null,
      "outputs": []
    },
    {
      "cell_type": "code",
      "metadata": {
        "id": "Mi7-MIxVNlrv"
      },
      "source": [
        "# Operaciones\n",
        "\n",
        "# Multiplicación por un escalar\n",
        "cincos = unos * 5\n",
        "# print(fives)\n",
        "\n",
        "# multiplicacion de matrices\n",
        "cuatros = unos * 4\n",
        "# print(fives * fours)\n",
        "\n",
        "# suma\n",
        "\n",
        "print(cuatros + cincos)\n"
      ],
      "execution_count": null,
      "outputs": []
    },
    {
      "cell_type": "code",
      "metadata": {
        "id": "Hlsi9FiYuauw"
      },
      "source": [
        "array_2D"
      ],
      "execution_count": null,
      "outputs": []
    },
    {
      "cell_type": "code",
      "metadata": {
        "id": "PlpexavltbKT"
      },
      "source": [
        "# Slicing\n",
        "\n",
        "# Todo\n",
        "# array_2D[:]\n",
        "array_1D[1:4]\n",
        "\n",
        "# Primera fila\n",
        "# array_2D[0,:]\n",
        "\n",
        "# Segunda columna\n",
        "# array_2D[:,1]\n",
        "\n"
      ],
      "execution_count": null,
      "outputs": []
    },
    {
      "cell_type": "markdown",
      "metadata": {
        "id": "Y4L7llBAv0Iu"
      },
      "source": [
        "# Pandas en 5 minutos\n",
        "\n",
        "<a href= 'https://pandas.pydata.org/docs/'>\n",
        "<img width=\"250\" height=\"auto\" src=\"https://upload.wikimedia.org/wikipedia/commons/thumb/e/ed/Pandas_logo.svg/1200px-Pandas_logo.svg.png\"> <img width=\"250\" height=\"auto\" src=\"https://i.pinimg.com/originals/ce/d4/d9/ced4d9f94106ac92584305410bc72427.gif\"> </a>\n",
        "\n",
        "\n",
        "\n",
        "Nos proporciona un nuevo tipo de dato que se llama *dataframe*:\n",
        "\n",
        " 1. Tiene una estructura parecida a una hoja de cálculo tipo Excel.\n",
        " 2. Funciona utilizando Numpy.\n",
        " 2. Es una herramienta muy poderosa para manejar conjuntos de datos o *data sets* .\n",
        "\n",
        "<center>\n",
        "<img width=\"500\" height=\"auto\" src=\"https://bookdata.readthedocs.io/en/latest/_images/base_01_pandas_5_0.png\"> \n",
        "<p>Fuente: https://bookdata.readthedocs.io/en/latest/base/01_pandas.html </p>\n",
        "</center>\n",
        "\n"
      ]
    },
    {
      "cell_type": "code",
      "metadata": {
        "id": "hr80KlkwGk91"
      },
      "source": [
        "df = pd.DataFrame([[1,2],[3,4],[5,6]],['Fila1','Fila2','Fila3'],['Col1','Col2'])"
      ],
      "execution_count": null,
      "outputs": []
    },
    {
      "cell_type": "code",
      "metadata": {
        "id": "KXHFFBqrISFH"
      },
      "source": [
        "df"
      ],
      "execution_count": null,
      "outputs": []
    },
    {
      "cell_type": "code",
      "metadata": {
        "id": "VXbZujap5uzm"
      },
      "source": [
        "# Dos formas de hacer indexing\n",
        "\n",
        "# Por numero con el .iloc - formato filas,columnas\n",
        "\n",
        "# Primera fila, segunda columna\n",
        "# df.iloc[0,1]\n",
        "\n",
        "# Segunda fila, todas las columnas\n",
        "# df.iloc[1,:]\n",
        "\n",
        "\n",
        "# Por nombre con .loc\n",
        "# df.loc[indice_de_fila,indice_de_columna]\n",
        "\n",
        "# Accediendo a una fila\n",
        "# df.loc['Fila1', :]\n",
        "\n",
        "# Accediendo a una columna\n",
        "# df.loc[:, 'Col2']\n",
        "\n",
        "# Accediendo a un valor\n",
        "# df.loc['Fila1', 'Col2']\n",
        "\n"
      ],
      "execution_count": null,
      "outputs": []
    },
    {
      "cell_type": "code",
      "metadata": {
        "id": "xoqCIa11EMe9"
      },
      "source": [
        "# Creando una nueva columna en base a operaciones entre columnas\n",
        "\n",
        "df['Nueva columna'] = df['Col1'] + df['Col2']"
      ],
      "execution_count": null,
      "outputs": []
    },
    {
      "cell_type": "code",
      "metadata": {
        "id": "C4mEwL_8EYAW"
      },
      "source": [
        "df"
      ],
      "execution_count": null,
      "outputs": []
    },
    {
      "cell_type": "code",
      "metadata": {
        "id": "8aRi4sKeN1Qu"
      },
      "source": [
        "# Eliminando una columna o una fila\n",
        "\n",
        "# df.drop('NombreDeLaColumnaAEliminar', axis=1) # axis = 0 para filas, axis = 1 para columnas\n",
        "df.drop('Fila2', axis = 0) # axis = 0 para filas"
      ],
      "execution_count": null,
      "outputs": []
    },
    {
      "cell_type": "code",
      "metadata": {
        "id": "_o50OqJWvK_L"
      },
      "source": [
        "# Veamos cómo queda\n",
        "df"
      ],
      "execution_count": null,
      "outputs": []
    },
    {
      "cell_type": "code",
      "metadata": {
        "id": "l8TUsE3qOruJ"
      },
      "source": [
        "# Ooopss se ve igual?\n",
        "# Ojo: Si no ponemos el parametro inplace=True los cambios no se van a guardar\n",
        "df.drop('Fila2', axis = 0, inplace = True) # axis = 0 para filas"
      ],
      "execution_count": null,
      "outputs": []
    },
    {
      "cell_type": "code",
      "metadata": {
        "id": "8j_rYCYIO4Xt"
      },
      "source": [
        "df"
      ],
      "execution_count": null,
      "outputs": []
    },
    {
      "cell_type": "markdown",
      "source": [
        "# Librerias de graficación\n",
        "\n",
        "Hoy al final de la clase vamos a ver algo de gráficos, pero lo fuerte va a ser la clase que viene\n",
        "\n",
        "Vamos a ver muy por arriba matplotlib y seaborn\n"
      ],
      "metadata": {
        "id": "TJvj1i24AWWi"
      }
    },
    {
      "cell_type": "markdown",
      "metadata": {
        "id": "0mz3cGJstYHo"
      },
      "source": [
        "# ¡Manos a la data!\n",
        "\n",
        "Vamos a trabajar con los datos de un experimento online muy sencillo que involucra percepción y tiempos de reaccción.\n",
        "\n",
        "Pueden probarlo entrando [acá](https://blc773s5ko.cognition.run/)\n",
        "\n",
        "* La tarea consistía en presionar la tecla <STRONG><font color=orange>J</font></STRONG> si aparecía en la pantalla un círculo naranja y la tecla <STRONG><font color=blue>F</font></STRONG> si aparecía un círculo azul. Los estímulos aparecían solo durante una fracción de segundo.\n",
        "<br><br>\n",
        "<center>\n",
        "<img width=\"500\" height=\"auto\" src=\"https://miro.medium.com/max/729/1*KBXJ2QKaHUgrxLZaHxuksA.png\"> \n",
        "<p>Fuente: https://www.jspsych.org/tutorials/rt-task/</p>\n",
        "</center>\n",
        "\n"
      ]
    },
    {
      "cell_type": "markdown",
      "metadata": {
        "id": "A7Ho3iQ84Tzv"
      },
      "source": [
        "# Montamos nuestro drive en Colab"
      ]
    },
    {
      "cell_type": "code",
      "metadata": {
        "id": "ooWsd1ApUvlp",
        "colab": {
          "base_uri": "https://localhost:8080/"
        },
        "outputId": "bcb38da1-d886-44fe-a1e8-a290fe8320e3"
      },
      "source": [
        "from google.colab import drive\n",
        "drive.mount('/content/drive')"
      ],
      "execution_count": null,
      "outputs": [
        {
          "output_type": "stream",
          "text": [
            "Mounted at /content/drive\n"
          ],
          "name": "stdout"
        }
      ]
    },
    {
      "cell_type": "markdown",
      "metadata": {
        "id": "Je3auXOf4Zua"
      },
      "source": [
        "# Cargamos nuestro archivo\n",
        "\n",
        "Existen [muuuuchas formas](https://pandas.pydata.org/docs/user_guide/io.html) de cargar datos a Pandas dependiendo del formato de origen (incluso existe un método para cargar desde archivos *.sav* de SPSS)\n",
        "\n",
        "Normalemente vamos a querer generar un dataframe a partir de un archivo de Excel o un [CSV](https://es.wikipedia.org/wiki/Valores_separados_por_comas)\n"
      ]
    },
    {
      "cell_type": "code",
      "metadata": {
        "id": "YnVtWROy_3FM"
      },
      "source": [
        "# Creamos nuestro DataFrame con los datos de nuestro experimento\n",
        "df = pd.read_csv('/content/drive/MyDrive/datos_de_mi_experimento/data_psicodea_dia2.csv')"
      ],
      "execution_count": null,
      "outputs": []
    },
    {
      "cell_type": "code",
      "metadata": {
        "id": "4uhw8blVZf--"
      },
      "source": [
        "# Dimensiones descriptas en formato (filas, columnas)\n",
        "df.shape"
      ],
      "execution_count": null,
      "outputs": []
    },
    {
      "cell_type": "code",
      "source": [
        "print(df.columns)"
      ],
      "metadata": {
        "id": "q3zw4C_QDuBV"
      },
      "execution_count": null,
      "outputs": []
    },
    {
      "cell_type": "code",
      "metadata": {
        "id": "krm6lg4ybs6M"
      },
      "source": [
        "# También lo podríamos haber obtenido así individualmente\n",
        "\n",
        "print(df['trial_index'].dtypes)\n",
        "print(df['rt'].dtypes)\n",
        "print(df['stimulus'].dtypes)\n",
        "print(df['test_part'].dtypes)\n",
        "print(df['correct'].dtypes)  "
      ],
      "execution_count": null,
      "outputs": []
    },
    {
      "cell_type": "code",
      "metadata": {
        "id": "rjZ8uqdxAy8K"
      },
      "source": [
        "# Miramos los primeros 5 valores\n",
        "df.head(20)"
      ],
      "execution_count": null,
      "outputs": []
    },
    {
      "cell_type": "code",
      "metadata": {
        "id": "gczVHsR7w40E"
      },
      "source": [
        "# También podemos mirar las últimas filas\n",
        "df.tail()"
      ],
      "execution_count": null,
      "outputs": []
    },
    {
      "cell_type": "code",
      "metadata": {
        "id": "ofclV2vzzEmL"
      },
      "source": [
        "# Comando para estadísticas básicas\n",
        "df.describe()"
      ],
      "execution_count": null,
      "outputs": []
    },
    {
      "cell_type": "code",
      "metadata": {
        "id": "WwKo0EDFA5HM"
      },
      "source": [
        "# Obtenemos información, en particular nos interesa conocer el tipo de datos\n",
        "df.info()"
      ],
      "execution_count": null,
      "outputs": []
    },
    {
      "cell_type": "markdown",
      "source": [
        "↓↓↓↓↓↓ CAMBIAR ESTE TIPO DE PLOTEO POR EL PLOT PROPIO DE PANDAS (que es lo mismo en el fondo) ↓↓↓↓↓↓"
      ],
      "metadata": {
        "id": "wTDHfs6sC8oe"
      }
    },
    {
      "cell_type": "code",
      "metadata": {
        "id": "FBNqfv4A6fcB"
      },
      "source": [
        "# Exploremos los tiempos de respuesta\n",
        "rt = df['rt']"
      ],
      "execution_count": null,
      "outputs": []
    },
    {
      "cell_type": "code",
      "metadata": {
        "id": "y5d2rVSXAmlL"
      },
      "source": [
        "# Histograma\n",
        "n, bins, patches = plt.hist(rt, bins = 20, density = 1, facecolor='g')\n",
        "plt.xlabel('RT')\n",
        "plt.ylabel('Probability')\n",
        "plt.title('Histogram of response time')\n",
        "\n",
        "plt.show()"
      ],
      "execution_count": null,
      "outputs": []
    },
    {
      "cell_type": "markdown",
      "metadata": {
        "id": "7SPHdIoYyMOW"
      },
      "source": [
        "# ¿Cómo se comparan los RT entre azules y naranjas?"
      ]
    },
    {
      "cell_type": "code",
      "metadata": {
        "id": "K1TC7kCXENXz"
      },
      "source": [
        "# Filtro los tiempos de respuesta para estímulos naranjas y creo una nueva columna para ellos\n",
        "df['rt_naranjas'] = df[df['stimulus'].str.contains(\"orange\")]['rt']\n",
        "# df['rt_naranjas]"
      ],
      "execution_count": null,
      "outputs": []
    },
    {
      "cell_type": "code",
      "metadata": {
        "id": "-AuuXfwXEBD-"
      },
      "source": [
        "# Filtro los tiempos de respuesta para estímulos azules y creo una nueva columna para ellos\n",
        "\n",
        "# Ejercicio!\n",
        "df['rt_azules'] = ___\n",
        "# df['rt_azules']"
      ],
      "execution_count": null,
      "outputs": []
    },
    {
      "cell_type": "code",
      "metadata": {
        "id": "WXilVe5B9onL"
      },
      "source": [
        "# Preparo los naranjas y azules para utilizarlos eliminando los NaN y\n",
        "# asegurándome de que los valores sean tipo numérico.\n",
        "naranjas = df['rt_naranjas'].dropna()\n",
        "azules = df['rt_azules'].dropna()"
      ],
      "execution_count": null,
      "outputs": []
    },
    {
      "cell_type": "code",
      "metadata": {
        "id": "05p_g9_5Rj_G"
      },
      "source": [
        "#Histograma de naranjas\n",
        "n, bins, patches = plt.hist(naranjas, 10, facecolor = 'orange')\n"
      ],
      "execution_count": null,
      "outputs": []
    },
    {
      "cell_type": "code",
      "metadata": {
        "id": "zM26xQ2aR5XY"
      },
      "source": [
        "#Histograma de azules\n",
        "n, bins, patches = plt.hist(azules, 10, density = 1, facecolor='blue')"
      ],
      "execution_count": null,
      "outputs": []
    },
    {
      "cell_type": "code",
      "metadata": {
        "id": "ENW9Tj94f83V"
      },
      "source": [
        "# Las dos en un mismo gráfico\n",
        "\n",
        "plt.hist(naranjas, bins = 20, label='naranjas')\n",
        "plt.hist(azules, bins = 25, label='azules')\n",
        "plt.legend(loc='upper right')\n",
        "plt.show()"
      ],
      "execution_count": null,
      "outputs": []
    },
    {
      "cell_type": "code",
      "metadata": {
        "id": "G0Xgpt16LaPT"
      },
      "source": [
        "# Boxplot para los azules\n",
        "\n",
        "fig2, ax2 = plt.subplots()\n",
        "ax2.set_title('boxplot')\n",
        "ax2.boxplot(azules)\n",
        "\n",
        "plt.show()"
      ],
      "execution_count": null,
      "outputs": []
    },
    {
      "cell_type": "code",
      "metadata": {
        "id": "PigTxB1HMTCH"
      },
      "source": [
        "# Boxplot para los naranjas\n",
        "fig2, ax2 = plt.subplots()\n",
        "ax2.set_title('boxplot')\n",
        "ax2.boxplot(naranjas)\n",
        "\n",
        "plt.show()"
      ],
      "execution_count": null,
      "outputs": []
    },
    {
      "cell_type": "code",
      "metadata": {
        "id": "vanGwSrOMFwL"
      },
      "source": [
        "# Pongamos los dos en el mismo gráfico!\n",
        "data = [azules,naranjas]\n",
        "fig1, panel = plt.subplots()\n",
        "panel.set_title('Tiempo de reacción')\n",
        "panel.boxplot(data)\n",
        "\n",
        "# Etiqueta eje x \n",
        "panel.set_xticklabels(['azules', 'naranjas'])\n",
        "\n",
        "# Estilo y colores de las cajas\n",
        "bp = panel.boxplot(data, patch_artist = True) \n",
        "colors = ['#0000FF',  '#f44611'] \n",
        "  \n",
        "for patch, color in zip(bp['boxes'], colors): \n",
        "    patch.set_facecolor(color) \n",
        "\n",
        "# Estilos de los puntos \n",
        "for flier in bp['fliers']: \n",
        "    flier.set(marker ='x', \n",
        "              color ='#e7298a', \n",
        "              alpha = 0.5) \n",
        "    \n",
        "# Color y grosor de las líneas que marcan las medianas \n",
        "for median in bp['medians']: \n",
        "    median.set(color ='black', \n",
        "               linewidth = 3) \n",
        "# Mostrar el gráfico\n",
        "plt.show()"
      ],
      "execution_count": null,
      "outputs": []
    },
    {
      "cell_type": "markdown",
      "metadata": {
        "id": "d8Ay1_KH0JEy"
      },
      "source": [
        "# ¿Hay diferencias significativas entre el RT de naranjas vs. azules?"
      ]
    },
    {
      "cell_type": "code",
      "metadata": {
        "id": "qcEbC4E8E76M"
      },
      "source": [
        "# Hacemos un  t-test de naranjas vs. azules\n",
        "\n",
        "[tvalue,pvalue] = stats.ttest_ind(naranjas, azules)\n",
        "\n",
        "print('El t valor es: ' + str(tvalue))\n",
        "\n",
        "print('El p valor es: ' + str(pvalue))\n",
        "\n",
        "print('\\n') # Imprimo un espacio\n",
        "\n",
        "if float(pvalue) > 0.05:\n",
        "  print('El test no es estadísticamente significativo :(')\n",
        "\n",
        "print('El test es estadísticamente significativo! :D') \n",
        "\n",
        "#Nota: No se dejen llevar solo por un p-valor, son tremendamente engañosos pero eso querdará para otro curso...\n",
        "\n"
      ],
      "execution_count": null,
      "outputs": []
    },
    {
      "cell_type": "code",
      "metadata": {
        "id": "PvNN5q8s0kTZ"
      },
      "source": [
        "float(pvalue) > 0.05\n"
      ],
      "execution_count": null,
      "outputs": []
    },
    {
      "cell_type": "markdown",
      "metadata": {
        "id": "w4nI_AlR0WZU"
      },
      "source": [
        "# ¿Hay diferencias significativas entre el RT de respuestas correctas vs. incorrectas?"
      ]
    },
    {
      "cell_type": "code",
      "metadata": {
        "id": "swnIbr120drU"
      },
      "source": [
        "# RT de respuestas correctas\n",
        "df['correctas'] = ___"
      ],
      "execution_count": null,
      "outputs": []
    },
    {
      "cell_type": "code",
      "metadata": {
        "id": "BIXziSfE0iJX"
      },
      "source": [
        "# RT de respuestas incorrectas\n",
        "df['incorrectas'] = ___"
      ],
      "execution_count": null,
      "outputs": []
    },
    {
      "cell_type": "code",
      "metadata": {
        "id": "7Y5wkOdO0qdU"
      },
      "source": [
        "# Visualización: ¿qué gráfico elegimos?\n"
      ],
      "execution_count": null,
      "outputs": []
    },
    {
      "cell_type": "code",
      "metadata": {
        "id": "_A_vdfNQ0zEU"
      },
      "source": [
        "# Genial. Ahora hagamos un test estadístico para ver si las diferencias son significativas o no\n"
      ],
      "execution_count": null,
      "outputs": []
    },
    {
      "cell_type": "markdown",
      "metadata": {
        "id": "-52vlueG08dG"
      },
      "source": [
        "# Ejercicio bonus\n",
        "¿Cuál es la relación entre los días que llevamos estudiando y las ganas de estudiar?"
      ]
    },
    {
      "cell_type": "code",
      "metadata": {
        "id": "GiTabOmj1N31"
      },
      "source": [
        "# ¿Qué test usarían?\n"
      ],
      "execution_count": null,
      "outputs": []
    },
    {
      "cell_type": "markdown",
      "metadata": {
        "id": "9ONYeqn-RrK6"
      },
      "source": [
        "# Para saber más...\n",
        "\n",
        "### Algunas librerías para estadística:\n",
        "\n",
        "\n",
        "*   [StatModels para modelos estadísticos](https://www.statsmodels.org/)\n",
        "\n",
        "*   [Pingouin-stats otra opción para estadística](https://pingouin-stats.org/)\n",
        "\n",
        "*   [Scikit-learn para Machine Learning](https://scikit-learn.org/stable/)\n",
        "\n",
        "### Para hacer experimentos psicológicos:\n",
        "\n",
        "* [PsicoPy](https://psychopy.org/)\n",
        "\n",
        "\n",
        "### Psico en general:\n",
        "\n",
        "* [Best Python libraries for psychology researchers](http://www.pybloggers.com/2016/06/best-python-libraries-for-psychology-researchers/)\n",
        "\n",
        "* [Python programming in psychology – from data collection to analysis](https://blog.efpsa.org/2016/07/12/python-programming-in-psychology-from-data-collection-to-analysis/)\n",
        "\n",
        "\n",
        "\n"
      ]
    },
    {
      "cell_type": "markdown",
      "metadata": {
        "id": "SQbICzMincVE"
      },
      "source": [
        "# Hora de Kahoot!\n",
        "Entren a www.kahoot.it preferentemente desde el celu y pongan el código que aparece en pantalla.\n",
        "\n",
        "<img src = \"https://media.giphy.com/media/7Jplyo45Cd8Pp8A4PO/giphy.gif\">"
      ]
    },
    {
      "cell_type": "markdown",
      "metadata": {
        "id": "W6Ce7B5qIfFK"
      },
      "source": [
        "# Matplotlib en 5 minutos\n",
        "\n",
        "<a href = https://pandas.pydata.org/docs/>\n",
        "<img width=\"250\" height=\"auto\" src='https://matplotlib.org/_static/logo2_compressed.svg'> </a>\n",
        "\n",
        "1. Nos permitirá realizar gráficos y visualizaciones en general.\n",
        "2. Es una herramienta indispensable para explorar los datos y comunicar información.\n",
        "3. No es la única librería de Python para hacer gráficos, otra muy utilizada es Seaborn que corre sobre ella.\n",
        "\n",
        "<center>\n",
        "<img width=\"700\" height=\"auto\" src='https://datascienceplus.com/wp-content/uploads/2018/07/Data-Visualization-1.png'>\n",
        "\n",
        "Fuente: https://datascienceplus.com/matplotlib-library-tutorial-with-examples-python/\n",
        "</center><br>\n",
        "\n",
        "Bocha de ejemplos de uso: https://matplotlib.org/3.3.3/gallery/index.html\n",
        "\n"
      ]
    },
    {
      "cell_type": "code",
      "metadata": {
        "id": "HisZ2CsIKUcB"
      },
      "source": [
        "dia = [1,2,3,4,5,6,7,8,9]\n",
        "ganas_de_estudiar = [10,9,8,7,6,5,4,3,2]\n",
        "\n",
        "# Gráfico de línea\n",
        "plt.plot(dia, ganas_de_estudiar, linestyle = 'dashed')\n",
        "plt.show()\n",
        "\n",
        "# Scatter plot\n",
        "plt.scatter(dia, ganas_de_estudiar, color = 'red')\n",
        "plt.show()\n",
        "\n",
        "# Gráfico de barras con labels\n",
        "plt.bar(dia, ganas_de_estudiar)\n",
        "plt.xlabel('Día')\n",
        "plt.ylabel('Ganas de estudiar')\n",
        "plt.title('¿¿Cuándo se termina el año??')\n",
        "plt.show()\n"
      ],
      "execution_count": null,
      "outputs": []
    },
    {
      "cell_type": "code",
      "metadata": {
        "id": "ZakMl5UJYV3J"
      },
      "source": [
        "# Para guardar un grafico\n",
        "\n",
        "root_dir = '/content/'\n",
        "nombre_del_grafico = 'mi_grafiquito.jpeg'\n",
        "path_imagen = root_dir + nombre_del_grafico\n",
        "plt.savefig(path_imagen, dpi = 500)\n",
        "\n",
        "# Gráfico de barras con labels\n",
        "plt.bar(dia, ganas_de_estudiar)\n",
        "plt.xlabel('Día')\n",
        "plt.ylabel('Ganas de estudiar')\n",
        "plt.title('¿¿Cuándo se termina el año??')\n",
        "plt.savefig(path_imagen, dpi = 50)\n",
        "plt.show()"
      ],
      "execution_count": null,
      "outputs": []
    },
    {
      "cell_type": "code",
      "metadata": {
        "id": "TuE8pAx67z6w"
      },
      "source": [
        "# Les dejamos un ejemplo de subplots, que se suelen usar bastante en publicaciones cientificas\n",
        "# Fuente: Documentacion oficial de matplotlib -> https://matplotlib.org/3.3.3/api/_as_gen/matplotlib.pyplot.subplots.html\n",
        "# Creamos datos de juguete:\n",
        "x = np.linspace(0, 2*np.pi, 400)\n",
        "y = np.sin(x**2)\n",
        "\n",
        "# Creamos una figura y 1 subplot\n",
        "# ax es el panel\n",
        "fig, ax = plt.subplots()\n",
        "ax.plot(x, y)\n",
        "ax.set_title('Simple plot')\n",
        "\n",
        "# Creamos 2 subplots y ploteamos la misma data\n",
        "f, (ax1, ax2) = plt.subplots(1, 2, sharey=True)\n",
        "ax1.plot(x, y)\n",
        "ax1.set_title('Sharing Y axis')\n",
        "ax2.scatter(x, y)"
      ],
      "execution_count": null,
      "outputs": []
    }
  ]
}
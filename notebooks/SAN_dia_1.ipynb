{
  "nbformat": 4,
  "nbformat_minor": 0,
  "metadata": {
    "colab": {
      "provenance": [],
      "collapsed_sections": [],
      "include_colab_link": true
    },
    "kernelspec": {
      "name": "python3",
      "display_name": "Python 3"
    }
  },
  "cells": [
    {
      "cell_type": "markdown",
      "metadata": {
        "id": "view-in-github",
        "colab_type": "text"
      },
      "source": [
        "<a href=\"https://colab.research.google.com/github/gastonbujia/curso-visualizacion-datos-SAN-2022/blob/main/notebooks/SAN_dia_1.ipynb\" target=\"_parent\"><img src=\"https://colab.research.google.com/assets/colab-badge.svg\" alt=\"Open In Colab\"/></a>"
      ]
    },
    {
      "cell_type": "markdown",
      "metadata": {
        "id": "xC2KRyZ1nVKq"
      },
      "source": [
        "# **DÍA 1 - Curso de Procesamiento y Visualización de Datos con Python - SAN 2022**\n",
        "<img src=\"https://user-images.githubusercontent.com/23127315/192603622-464afd75-0267-48d0-8534-30ae80aca7fb.png\">\n",
        "\n",
        "## ¡Hola! Pongamos manos en la data :)\n",
        "\n",
        "<!-- <img src = \"https://media.giphy.com/media/1kkxWqT5nvLXupUTwK/giphy.gif\"> -->"
      ]
    },
    {
      "cell_type": "markdown",
      "metadata": {
        "id": "8QaHOF3c4VWF"
      },
      "source": [
        "# Una funcionalidad importante en Google Colab\n",
        "\n",
        "Nos permite utilizar la línea de comandos de la computadora que estamos utilizando en la nube. Si chequean qué computadora están usando, van a ver que están corriendo en Linux! (**aprendan Linux**)\n",
        "\n",
        "Para eso necesitamos anteponer el caracter **!** antes del comando que queremos ejecutar.\n",
        "\n",
        "Una de las principales utilidades "
      ]
    },
    {
      "cell_type": "code",
      "source": [
        "!cat /etc/os-release"
      ],
      "metadata": {
        "colab": {
          "base_uri": "https://localhost:8080/"
        },
        "id": "AYYSCUC--a7i",
        "outputId": "405ae37f-8bfd-489f-b9b1-843172bc79c0"
      },
      "execution_count": 1,
      "outputs": [
        {
          "output_type": "stream",
          "name": "stdout",
          "text": [
            "NAME=\"Ubuntu\"\n",
            "VERSION=\"18.04.6 LTS (Bionic Beaver)\"\n",
            "ID=ubuntu\n",
            "ID_LIKE=debian\n",
            "PRETTY_NAME=\"Ubuntu 18.04.6 LTS\"\n",
            "VERSION_ID=\"18.04\"\n",
            "HOME_URL=\"https://www.ubuntu.com/\"\n",
            "SUPPORT_URL=\"https://help.ubuntu.com/\"\n",
            "BUG_REPORT_URL=\"https://bugs.launchpad.net/ubuntu/\"\n",
            "PRIVACY_POLICY_URL=\"https://www.ubuntu.com/legal/terms-and-policies/privacy-policy\"\n",
            "VERSION_CODENAME=bionic\n",
            "UBUNTU_CODENAME=bionic\n"
          ]
        }
      ]
    },
    {
      "cell_type": "code",
      "metadata": {
        "id": "KBx9ny8U4xmK",
        "colab": {
          "base_uri": "https://localhost:8080/"
        },
        "outputId": "97958887-098c-43b2-c281-dc4e8080f37a"
      },
      "source": [
        "# Averiguar la version de Python que está corriendo\n",
        "!python --version"
      ],
      "execution_count": 2,
      "outputs": [
        {
          "output_type": "stream",
          "name": "stdout",
          "text": [
            "Python 3.7.14\n"
          ]
        }
      ]
    },
    {
      "cell_type": "code",
      "metadata": {
        "id": "RW9IfQTY472U",
        "colab": {
          "base_uri": "https://localhost:8080/"
        },
        "outputId": "5a31a4c6-2570-4343-8246-55f09d2f3cc0"
      },
      "source": [
        "#Instalar una librería que no venga instalada\n",
        "!pip install miLibreriaLoca"
      ],
      "execution_count": 3,
      "outputs": [
        {
          "output_type": "stream",
          "name": "stdout",
          "text": [
            "Looking in indexes: https://pypi.org/simple, https://us-python.pkg.dev/colab-wheels/public/simple/\n",
            "\u001b[31mERROR: Could not find a version that satisfies the requirement miLibreriaLoca (from versions: none)\u001b[0m\n",
            "\u001b[31mERROR: No matching distribution found for miLibreriaLoca\u001b[0m\n"
          ]
        }
      ]
    },
    {
      "cell_type": "markdown",
      "metadata": {
        "id": "eyRdol_z5FED"
      },
      "source": [
        "# Todo muy lindo pero... ¿Qué son las librerías?\n",
        "\n",
        "<center>\n",
        "<img width=\"500\" height=\"auto\" src=\"https://blog-c7ff.kxcdn.com/blog/wp-content/uploads/2017/01/ML_Lie-01-compressed.jpg\"> \n",
        "<p>Fuente: https://blog-c7ff.kxcdn.com/blog/wp-content/uploads/2017/01/ML_Lie-01-compressed.jpg </p>\n",
        "</center>\n",
        "\n"
      ]
    },
    {
      "cell_type": "markdown",
      "metadata": {
        "id": "JVpsmVvOqx28"
      },
      "source": [
        "# Importando las librerías\n",
        "\n",
        "* Importar una librería es como ir a buscar la caja de herramientas y ponerla sobre una mesa de trabajo lista para que su contenido sea utilizado.\n",
        "\n",
        "* Las librerías (del inglés *library* que significa biblioteca pero nadie les dice así) son bloques de código que están agrupados para cumplir una función o conjunto de funciones.\n",
        "\n",
        "* En este caso vamos a hacer uso de las siguientes:\n",
        "  * **Numpy**: Librería para álgebra lineal. Nos permitirá, entre otras cosas, utilizar arreglos (*arrays*) y por lo tanto potenciar nuetras capacidades matemáticas. \n",
        "  * **Pandas** : Para trabajar con *data frames*, un tipo de dato similar a una tabla de excel. Necesita a Numpy para funcionar.\n",
        "  * **matplotlib**: Para realizar gráficos y visualizaciones en general.\n",
        "  * **scipy** : Para análisis estadístico."
      ]
    },
    {
      "cell_type": "code",
      "metadata": {
        "id": "weZWbVdx_cyC"
      },
      "source": [
        "# Sintaxis para importar librerias, el \"as\" es una manera de definirla con un nombre más sencillo, pero no es obligatorio.\n",
        "# Normalmente habría que instalarlas en nuestra compu, pero vienen ya instaladas en las compus donde Google Colab está corriendo nuestro código.\n",
        "import numpy as np\n",
        "import pandas as pd\n",
        "import matplotlib.pyplot as plt\n",
        "from scipy import stats"
      ],
      "execution_count": 86,
      "outputs": []
    },
    {
      "cell_type": "markdown",
      "metadata": {
        "id": "aiC5WgCPJJ_j"
      },
      "source": [
        "# Vamos a ver algunas de las principales librerías del ecosistema de datos de Python\n",
        "\n",
        "<center>\n",
        "<img width=\"600\" height=\"auto\" src=\"https://atrebas.github.io/images/python.png\">\n",
        "</center>\n",
        "\n",
        "## **Para ver la documentación oficial pueden clickear sobre el logo de cada una más abajo**"
      ]
    },
    {
      "cell_type": "markdown",
      "metadata": {
        "id": "QRkYfDh8CjzT"
      },
      "source": [
        "# Numpy en 5 minutos\n",
        "\n",
        "<a href= 'https://numpy.org/doc/'>\n",
        "<img width=\"250\" height=\"auto\" src=\"https://upload.wikimedia.org/wikipedia/commons/3/31/NumPy_logo_2020.svg\"> </a>\n",
        "\n",
        "Nos proporciona un nuevo tipo de dato que se llama arreglo o *array* que posee las siguientes características:\n",
        "\n",
        " 1. Puede guardar elementos como en una lista y la manera de acceder a ellos es similar.\n",
        " 2. Permite realizar operaciones entre arreglos, cosa que en una lista no es posible.\n",
        " 2. Es mucho más rápido por cuestiones de eficiencia en el uso de la memoria.\n",
        " 3. Es la base de todo el ecosistema de librerías científicas de Python.\n",
        "\n",
        "<center>\n",
        "<img width=\"500\" height=\"auto\" src=\"https://i.stack.imgur.com/Tbe9W.png\"> \n",
        "<p>Fuente: https://medium.com/@mo000007/numpy-for-beginners-19d64e164df6 </p>\n",
        "</center>\n",
        "\n",
        "\n",
        "\n"
      ]
    },
    {
      "cell_type": "code",
      "metadata": {
        "id": "eKE4u3qmHrQh"
      },
      "source": [
        "# Creando arrays\n",
        "\n",
        "# Array de 1 dimensión en numpy\n",
        "array_1D = np.array([7,2,9,0])\n",
        "# print(array_1D)\n",
        "\n",
        "# Array 2D en numpy\n",
        "array_2D = np.array([[5.2, 3.0, 4.5], [9.1, 0.1,0.3]])\n",
        "# print(array_2D)\n",
        "\n",
        "# Creando arrays de \"ceros\" de la dimension que uno quiera\n",
        "ceros = np.zeros((2,3,2)) \n",
        "# print(zeros)\n",
        "\n",
        "# Creando arrays de \"unos\" de la dimension que uno quiera\n",
        "unos = np.ones((4,2)) \n",
        "# print(unos)"
      ],
      "execution_count": 9,
      "outputs": []
    },
    {
      "cell_type": "code",
      "metadata": {
        "id": "Rc2Dm-6jMeLp",
        "colab": {
          "base_uri": "https://localhost:8080/"
        },
        "outputId": "103fdb4b-4504-4736-a7d1-7d6150025064"
      },
      "source": [
        "# Tamaño del array en formato (filas,columnas)\n",
        "array_2D.shape"
      ],
      "execution_count": 10,
      "outputs": [
        {
          "output_type": "execute_result",
          "data": {
            "text/plain": [
              "(2, 3)"
            ]
          },
          "metadata": {},
          "execution_count": 10
        }
      ]
    },
    {
      "cell_type": "code",
      "metadata": {
        "id": "Mi7-MIxVNlrv",
        "colab": {
          "base_uri": "https://localhost:8080/"
        },
        "outputId": "1ac71b01-5dd9-42df-abbe-51a51efcdd41"
      },
      "source": [
        "# Operaciones\n",
        "\n",
        "# Multiplicación por un escalar\n",
        "cincos = unos * 5\n",
        "# print(fives)\n",
        "\n",
        "# multiplicacion de matrices\n",
        "cuatros = unos * 4\n",
        "# print(fives * fours)\n",
        "\n",
        "# suma\n",
        "\n",
        "print(cuatros + cincos)\n"
      ],
      "execution_count": 11,
      "outputs": [
        {
          "output_type": "stream",
          "name": "stdout",
          "text": [
            "[[9. 9.]\n",
            " [9. 9.]\n",
            " [9. 9.]\n",
            " [9. 9.]]\n"
          ]
        }
      ]
    },
    {
      "cell_type": "code",
      "metadata": {
        "id": "Hlsi9FiYuauw",
        "colab": {
          "base_uri": "https://localhost:8080/"
        },
        "outputId": "bdd473dc-3fae-4efd-c52f-6cd8965cd238"
      },
      "source": [
        "array_2D"
      ],
      "execution_count": 12,
      "outputs": [
        {
          "output_type": "execute_result",
          "data": {
            "text/plain": [
              "array([[5.2, 3. , 4.5],\n",
              "       [9.1, 0.1, 0.3]])"
            ]
          },
          "metadata": {},
          "execution_count": 12
        }
      ]
    },
    {
      "cell_type": "code",
      "metadata": {
        "id": "PlpexavltbKT",
        "colab": {
          "base_uri": "https://localhost:8080/"
        },
        "outputId": "1e77bb5a-a918-4465-ca1e-6321c591c18d"
      },
      "source": [
        "# Slicing\n",
        "\n",
        "# Todo\n",
        "# array_2D[:]\n",
        "array_1D[1:4]\n",
        "\n",
        "# Primera fila\n",
        "# array_2D[0,:]\n",
        "\n",
        "# Segunda columna\n",
        "# array_2D[:,1]\n",
        "\n"
      ],
      "execution_count": 13,
      "outputs": [
        {
          "output_type": "execute_result",
          "data": {
            "text/plain": [
              "array([2, 9, 0])"
            ]
          },
          "metadata": {},
          "execution_count": 13
        }
      ]
    },
    {
      "cell_type": "markdown",
      "metadata": {
        "id": "Y4L7llBAv0Iu"
      },
      "source": [
        "# Pandas en 5 minutos\n",
        "\n",
        "<a href= 'https://pandas.pydata.org/docs/'>\n",
        "<img width=\"250\" height=\"auto\" src=\"https://upload.wikimedia.org/wikipedia/commons/thumb/e/ed/Pandas_logo.svg/1200px-Pandas_logo.svg.png\"> <img width=\"250\" height=\"auto\" src=\"https://i.pinimg.com/originals/ce/d4/d9/ced4d9f94106ac92584305410bc72427.gif\"> </a>\n",
        "\n",
        "\n",
        "\n",
        "Nos proporciona un nuevo tipo de dato que se llama *dataframe*:\n",
        "\n",
        " 1. Tiene una estructura parecida a una hoja de cálculo tipo Excel.\n",
        " 2. Funciona utilizando Numpy.\n",
        " 2. Es una herramienta muy poderosa para manejar conjuntos de datos o *data sets* .\n",
        "\n",
        "<center>\n",
        "<img width=\"500\" height=\"auto\" src=\"https://bookdata.readthedocs.io/en/latest/_images/base_01_pandas_5_0.png\"> \n",
        "<p>Fuente: https://bookdata.readthedocs.io/en/latest/base/01_pandas.html </p>\n",
        "</center>\n",
        "\n"
      ]
    },
    {
      "cell_type": "code",
      "metadata": {
        "id": "hr80KlkwGk91"
      },
      "source": [
        "df = pd.DataFrame([[1,2],[3,4],[5,6]],['Fila1','Fila2','Fila3'],['Col1','Col2'])"
      ],
      "execution_count": 14,
      "outputs": []
    },
    {
      "cell_type": "code",
      "metadata": {
        "id": "KXHFFBqrISFH",
        "colab": {
          "base_uri": "https://localhost:8080/",
          "height": 143
        },
        "outputId": "737e6bbe-680c-4e66-d1be-e2855ca397ad"
      },
      "source": [
        "df"
      ],
      "execution_count": 15,
      "outputs": [
        {
          "output_type": "execute_result",
          "data": {
            "text/plain": [
              "       Col1  Col2\n",
              "Fila1     1     2\n",
              "Fila2     3     4\n",
              "Fila3     5     6"
            ],
            "text/html": [
              "\n",
              "  <div id=\"df-0a5b2a85-029d-47e4-b9c3-110e7a084d62\">\n",
              "    <div class=\"colab-df-container\">\n",
              "      <div>\n",
              "<style scoped>\n",
              "    .dataframe tbody tr th:only-of-type {\n",
              "        vertical-align: middle;\n",
              "    }\n",
              "\n",
              "    .dataframe tbody tr th {\n",
              "        vertical-align: top;\n",
              "    }\n",
              "\n",
              "    .dataframe thead th {\n",
              "        text-align: right;\n",
              "    }\n",
              "</style>\n",
              "<table border=\"1\" class=\"dataframe\">\n",
              "  <thead>\n",
              "    <tr style=\"text-align: right;\">\n",
              "      <th></th>\n",
              "      <th>Col1</th>\n",
              "      <th>Col2</th>\n",
              "    </tr>\n",
              "  </thead>\n",
              "  <tbody>\n",
              "    <tr>\n",
              "      <th>Fila1</th>\n",
              "      <td>1</td>\n",
              "      <td>2</td>\n",
              "    </tr>\n",
              "    <tr>\n",
              "      <th>Fila2</th>\n",
              "      <td>3</td>\n",
              "      <td>4</td>\n",
              "    </tr>\n",
              "    <tr>\n",
              "      <th>Fila3</th>\n",
              "      <td>5</td>\n",
              "      <td>6</td>\n",
              "    </tr>\n",
              "  </tbody>\n",
              "</table>\n",
              "</div>\n",
              "      <button class=\"colab-df-convert\" onclick=\"convertToInteractive('df-0a5b2a85-029d-47e4-b9c3-110e7a084d62')\"\n",
              "              title=\"Convert this dataframe to an interactive table.\"\n",
              "              style=\"display:none;\">\n",
              "        \n",
              "  <svg xmlns=\"http://www.w3.org/2000/svg\" height=\"24px\"viewBox=\"0 0 24 24\"\n",
              "       width=\"24px\">\n",
              "    <path d=\"M0 0h24v24H0V0z\" fill=\"none\"/>\n",
              "    <path d=\"M18.56 5.44l.94 2.06.94-2.06 2.06-.94-2.06-.94-.94-2.06-.94 2.06-2.06.94zm-11 1L8.5 8.5l.94-2.06 2.06-.94-2.06-.94L8.5 2.5l-.94 2.06-2.06.94zm10 10l.94 2.06.94-2.06 2.06-.94-2.06-.94-.94-2.06-.94 2.06-2.06.94z\"/><path d=\"M17.41 7.96l-1.37-1.37c-.4-.4-.92-.59-1.43-.59-.52 0-1.04.2-1.43.59L10.3 9.45l-7.72 7.72c-.78.78-.78 2.05 0 2.83L4 21.41c.39.39.9.59 1.41.59.51 0 1.02-.2 1.41-.59l7.78-7.78 2.81-2.81c.8-.78.8-2.07 0-2.86zM5.41 20L4 18.59l7.72-7.72 1.47 1.35L5.41 20z\"/>\n",
              "  </svg>\n",
              "      </button>\n",
              "      \n",
              "  <style>\n",
              "    .colab-df-container {\n",
              "      display:flex;\n",
              "      flex-wrap:wrap;\n",
              "      gap: 12px;\n",
              "    }\n",
              "\n",
              "    .colab-df-convert {\n",
              "      background-color: #E8F0FE;\n",
              "      border: none;\n",
              "      border-radius: 50%;\n",
              "      cursor: pointer;\n",
              "      display: none;\n",
              "      fill: #1967D2;\n",
              "      height: 32px;\n",
              "      padding: 0 0 0 0;\n",
              "      width: 32px;\n",
              "    }\n",
              "\n",
              "    .colab-df-convert:hover {\n",
              "      background-color: #E2EBFA;\n",
              "      box-shadow: 0px 1px 2px rgba(60, 64, 67, 0.3), 0px 1px 3px 1px rgba(60, 64, 67, 0.15);\n",
              "      fill: #174EA6;\n",
              "    }\n",
              "\n",
              "    [theme=dark] .colab-df-convert {\n",
              "      background-color: #3B4455;\n",
              "      fill: #D2E3FC;\n",
              "    }\n",
              "\n",
              "    [theme=dark] .colab-df-convert:hover {\n",
              "      background-color: #434B5C;\n",
              "      box-shadow: 0px 1px 3px 1px rgba(0, 0, 0, 0.15);\n",
              "      filter: drop-shadow(0px 1px 2px rgba(0, 0, 0, 0.3));\n",
              "      fill: #FFFFFF;\n",
              "    }\n",
              "  </style>\n",
              "\n",
              "      <script>\n",
              "        const buttonEl =\n",
              "          document.querySelector('#df-0a5b2a85-029d-47e4-b9c3-110e7a084d62 button.colab-df-convert');\n",
              "        buttonEl.style.display =\n",
              "          google.colab.kernel.accessAllowed ? 'block' : 'none';\n",
              "\n",
              "        async function convertToInteractive(key) {\n",
              "          const element = document.querySelector('#df-0a5b2a85-029d-47e4-b9c3-110e7a084d62');\n",
              "          const dataTable =\n",
              "            await google.colab.kernel.invokeFunction('convertToInteractive',\n",
              "                                                     [key], {});\n",
              "          if (!dataTable) return;\n",
              "\n",
              "          const docLinkHtml = 'Like what you see? Visit the ' +\n",
              "            '<a target=\"_blank\" href=https://colab.research.google.com/notebooks/data_table.ipynb>data table notebook</a>'\n",
              "            + ' to learn more about interactive tables.';\n",
              "          element.innerHTML = '';\n",
              "          dataTable['output_type'] = 'display_data';\n",
              "          await google.colab.output.renderOutput(dataTable, element);\n",
              "          const docLink = document.createElement('div');\n",
              "          docLink.innerHTML = docLinkHtml;\n",
              "          element.appendChild(docLink);\n",
              "        }\n",
              "      </script>\n",
              "    </div>\n",
              "  </div>\n",
              "  "
            ]
          },
          "metadata": {},
          "execution_count": 15
        }
      ]
    },
    {
      "cell_type": "code",
      "metadata": {
        "id": "VXbZujap5uzm"
      },
      "source": [
        "# Dos formas de hacer indexing\n",
        "\n",
        "# Por numero con el .iloc - formato filas,columnas\n",
        "\n",
        "# Primera fila, segunda columna\n",
        "# df.iloc[0,1]\n",
        "\n",
        "# Segunda fila, todas las columnas\n",
        "# df.iloc[1,:]\n",
        "\n",
        "\n",
        "# Por nombre con .loc\n",
        "# df.loc[indice_de_fila,indice_de_columna]\n",
        "\n",
        "# Accediendo a una fila\n",
        "# df.loc['Fila1', :]\n",
        "\n",
        "# Accediendo a una columna\n",
        "# df.loc[:, 'Col2']\n",
        "\n",
        "# Accediendo a un valor\n",
        "# df.loc['Fila1', 'Col2']\n",
        "\n"
      ],
      "execution_count": 16,
      "outputs": []
    },
    {
      "cell_type": "code",
      "metadata": {
        "id": "xoqCIa11EMe9"
      },
      "source": [
        "# Creando una nueva columna en base a operaciones entre columnas\n",
        "\n",
        "df['Nueva columna'] = df['Col1'] + df['Col2']"
      ],
      "execution_count": 17,
      "outputs": []
    },
    {
      "cell_type": "code",
      "metadata": {
        "id": "C4mEwL_8EYAW",
        "colab": {
          "base_uri": "https://localhost:8080/",
          "height": 143
        },
        "outputId": "d0960b79-b075-4b22-f4a2-c95d4751e2d4"
      },
      "source": [
        "df"
      ],
      "execution_count": 18,
      "outputs": [
        {
          "output_type": "execute_result",
          "data": {
            "text/plain": [
              "       Col1  Col2  Nueva columna\n",
              "Fila1     1     2              3\n",
              "Fila2     3     4              7\n",
              "Fila3     5     6             11"
            ],
            "text/html": [
              "\n",
              "  <div id=\"df-faf8e3b9-4887-4b11-95fd-008b4373d678\">\n",
              "    <div class=\"colab-df-container\">\n",
              "      <div>\n",
              "<style scoped>\n",
              "    .dataframe tbody tr th:only-of-type {\n",
              "        vertical-align: middle;\n",
              "    }\n",
              "\n",
              "    .dataframe tbody tr th {\n",
              "        vertical-align: top;\n",
              "    }\n",
              "\n",
              "    .dataframe thead th {\n",
              "        text-align: right;\n",
              "    }\n",
              "</style>\n",
              "<table border=\"1\" class=\"dataframe\">\n",
              "  <thead>\n",
              "    <tr style=\"text-align: right;\">\n",
              "      <th></th>\n",
              "      <th>Col1</th>\n",
              "      <th>Col2</th>\n",
              "      <th>Nueva columna</th>\n",
              "    </tr>\n",
              "  </thead>\n",
              "  <tbody>\n",
              "    <tr>\n",
              "      <th>Fila1</th>\n",
              "      <td>1</td>\n",
              "      <td>2</td>\n",
              "      <td>3</td>\n",
              "    </tr>\n",
              "    <tr>\n",
              "      <th>Fila2</th>\n",
              "      <td>3</td>\n",
              "      <td>4</td>\n",
              "      <td>7</td>\n",
              "    </tr>\n",
              "    <tr>\n",
              "      <th>Fila3</th>\n",
              "      <td>5</td>\n",
              "      <td>6</td>\n",
              "      <td>11</td>\n",
              "    </tr>\n",
              "  </tbody>\n",
              "</table>\n",
              "</div>\n",
              "      <button class=\"colab-df-convert\" onclick=\"convertToInteractive('df-faf8e3b9-4887-4b11-95fd-008b4373d678')\"\n",
              "              title=\"Convert this dataframe to an interactive table.\"\n",
              "              style=\"display:none;\">\n",
              "        \n",
              "  <svg xmlns=\"http://www.w3.org/2000/svg\" height=\"24px\"viewBox=\"0 0 24 24\"\n",
              "       width=\"24px\">\n",
              "    <path d=\"M0 0h24v24H0V0z\" fill=\"none\"/>\n",
              "    <path d=\"M18.56 5.44l.94 2.06.94-2.06 2.06-.94-2.06-.94-.94-2.06-.94 2.06-2.06.94zm-11 1L8.5 8.5l.94-2.06 2.06-.94-2.06-.94L8.5 2.5l-.94 2.06-2.06.94zm10 10l.94 2.06.94-2.06 2.06-.94-2.06-.94-.94-2.06-.94 2.06-2.06.94z\"/><path d=\"M17.41 7.96l-1.37-1.37c-.4-.4-.92-.59-1.43-.59-.52 0-1.04.2-1.43.59L10.3 9.45l-7.72 7.72c-.78.78-.78 2.05 0 2.83L4 21.41c.39.39.9.59 1.41.59.51 0 1.02-.2 1.41-.59l7.78-7.78 2.81-2.81c.8-.78.8-2.07 0-2.86zM5.41 20L4 18.59l7.72-7.72 1.47 1.35L5.41 20z\"/>\n",
              "  </svg>\n",
              "      </button>\n",
              "      \n",
              "  <style>\n",
              "    .colab-df-container {\n",
              "      display:flex;\n",
              "      flex-wrap:wrap;\n",
              "      gap: 12px;\n",
              "    }\n",
              "\n",
              "    .colab-df-convert {\n",
              "      background-color: #E8F0FE;\n",
              "      border: none;\n",
              "      border-radius: 50%;\n",
              "      cursor: pointer;\n",
              "      display: none;\n",
              "      fill: #1967D2;\n",
              "      height: 32px;\n",
              "      padding: 0 0 0 0;\n",
              "      width: 32px;\n",
              "    }\n",
              "\n",
              "    .colab-df-convert:hover {\n",
              "      background-color: #E2EBFA;\n",
              "      box-shadow: 0px 1px 2px rgba(60, 64, 67, 0.3), 0px 1px 3px 1px rgba(60, 64, 67, 0.15);\n",
              "      fill: #174EA6;\n",
              "    }\n",
              "\n",
              "    [theme=dark] .colab-df-convert {\n",
              "      background-color: #3B4455;\n",
              "      fill: #D2E3FC;\n",
              "    }\n",
              "\n",
              "    [theme=dark] .colab-df-convert:hover {\n",
              "      background-color: #434B5C;\n",
              "      box-shadow: 0px 1px 3px 1px rgba(0, 0, 0, 0.15);\n",
              "      filter: drop-shadow(0px 1px 2px rgba(0, 0, 0, 0.3));\n",
              "      fill: #FFFFFF;\n",
              "    }\n",
              "  </style>\n",
              "\n",
              "      <script>\n",
              "        const buttonEl =\n",
              "          document.querySelector('#df-faf8e3b9-4887-4b11-95fd-008b4373d678 button.colab-df-convert');\n",
              "        buttonEl.style.display =\n",
              "          google.colab.kernel.accessAllowed ? 'block' : 'none';\n",
              "\n",
              "        async function convertToInteractive(key) {\n",
              "          const element = document.querySelector('#df-faf8e3b9-4887-4b11-95fd-008b4373d678');\n",
              "          const dataTable =\n",
              "            await google.colab.kernel.invokeFunction('convertToInteractive',\n",
              "                                                     [key], {});\n",
              "          if (!dataTable) return;\n",
              "\n",
              "          const docLinkHtml = 'Like what you see? Visit the ' +\n",
              "            '<a target=\"_blank\" href=https://colab.research.google.com/notebooks/data_table.ipynb>data table notebook</a>'\n",
              "            + ' to learn more about interactive tables.';\n",
              "          element.innerHTML = '';\n",
              "          dataTable['output_type'] = 'display_data';\n",
              "          await google.colab.output.renderOutput(dataTable, element);\n",
              "          const docLink = document.createElement('div');\n",
              "          docLink.innerHTML = docLinkHtml;\n",
              "          element.appendChild(docLink);\n",
              "        }\n",
              "      </script>\n",
              "    </div>\n",
              "  </div>\n",
              "  "
            ]
          },
          "metadata": {},
          "execution_count": 18
        }
      ]
    },
    {
      "cell_type": "code",
      "metadata": {
        "id": "8aRi4sKeN1Qu",
        "colab": {
          "base_uri": "https://localhost:8080/",
          "height": 112
        },
        "outputId": "e63ad27b-bbe5-4e1d-884a-e09c13edca5e"
      },
      "source": [
        "# Eliminando una columna o una fila\n",
        "\n",
        "# df.drop('NombreDeLaColumnaAEliminar', axis=1) # axis = 0 para filas, axis = 1 para columnas\n",
        "df.drop('Fila2', axis = 0) # axis = 0 para filas"
      ],
      "execution_count": 19,
      "outputs": [
        {
          "output_type": "execute_result",
          "data": {
            "text/plain": [
              "       Col1  Col2  Nueva columna\n",
              "Fila1     1     2              3\n",
              "Fila3     5     6             11"
            ],
            "text/html": [
              "\n",
              "  <div id=\"df-fa9fb8a4-5309-40c9-bc32-a9cd9c2b8959\">\n",
              "    <div class=\"colab-df-container\">\n",
              "      <div>\n",
              "<style scoped>\n",
              "    .dataframe tbody tr th:only-of-type {\n",
              "        vertical-align: middle;\n",
              "    }\n",
              "\n",
              "    .dataframe tbody tr th {\n",
              "        vertical-align: top;\n",
              "    }\n",
              "\n",
              "    .dataframe thead th {\n",
              "        text-align: right;\n",
              "    }\n",
              "</style>\n",
              "<table border=\"1\" class=\"dataframe\">\n",
              "  <thead>\n",
              "    <tr style=\"text-align: right;\">\n",
              "      <th></th>\n",
              "      <th>Col1</th>\n",
              "      <th>Col2</th>\n",
              "      <th>Nueva columna</th>\n",
              "    </tr>\n",
              "  </thead>\n",
              "  <tbody>\n",
              "    <tr>\n",
              "      <th>Fila1</th>\n",
              "      <td>1</td>\n",
              "      <td>2</td>\n",
              "      <td>3</td>\n",
              "    </tr>\n",
              "    <tr>\n",
              "      <th>Fila3</th>\n",
              "      <td>5</td>\n",
              "      <td>6</td>\n",
              "      <td>11</td>\n",
              "    </tr>\n",
              "  </tbody>\n",
              "</table>\n",
              "</div>\n",
              "      <button class=\"colab-df-convert\" onclick=\"convertToInteractive('df-fa9fb8a4-5309-40c9-bc32-a9cd9c2b8959')\"\n",
              "              title=\"Convert this dataframe to an interactive table.\"\n",
              "              style=\"display:none;\">\n",
              "        \n",
              "  <svg xmlns=\"http://www.w3.org/2000/svg\" height=\"24px\"viewBox=\"0 0 24 24\"\n",
              "       width=\"24px\">\n",
              "    <path d=\"M0 0h24v24H0V0z\" fill=\"none\"/>\n",
              "    <path d=\"M18.56 5.44l.94 2.06.94-2.06 2.06-.94-2.06-.94-.94-2.06-.94 2.06-2.06.94zm-11 1L8.5 8.5l.94-2.06 2.06-.94-2.06-.94L8.5 2.5l-.94 2.06-2.06.94zm10 10l.94 2.06.94-2.06 2.06-.94-2.06-.94-.94-2.06-.94 2.06-2.06.94z\"/><path d=\"M17.41 7.96l-1.37-1.37c-.4-.4-.92-.59-1.43-.59-.52 0-1.04.2-1.43.59L10.3 9.45l-7.72 7.72c-.78.78-.78 2.05 0 2.83L4 21.41c.39.39.9.59 1.41.59.51 0 1.02-.2 1.41-.59l7.78-7.78 2.81-2.81c.8-.78.8-2.07 0-2.86zM5.41 20L4 18.59l7.72-7.72 1.47 1.35L5.41 20z\"/>\n",
              "  </svg>\n",
              "      </button>\n",
              "      \n",
              "  <style>\n",
              "    .colab-df-container {\n",
              "      display:flex;\n",
              "      flex-wrap:wrap;\n",
              "      gap: 12px;\n",
              "    }\n",
              "\n",
              "    .colab-df-convert {\n",
              "      background-color: #E8F0FE;\n",
              "      border: none;\n",
              "      border-radius: 50%;\n",
              "      cursor: pointer;\n",
              "      display: none;\n",
              "      fill: #1967D2;\n",
              "      height: 32px;\n",
              "      padding: 0 0 0 0;\n",
              "      width: 32px;\n",
              "    }\n",
              "\n",
              "    .colab-df-convert:hover {\n",
              "      background-color: #E2EBFA;\n",
              "      box-shadow: 0px 1px 2px rgba(60, 64, 67, 0.3), 0px 1px 3px 1px rgba(60, 64, 67, 0.15);\n",
              "      fill: #174EA6;\n",
              "    }\n",
              "\n",
              "    [theme=dark] .colab-df-convert {\n",
              "      background-color: #3B4455;\n",
              "      fill: #D2E3FC;\n",
              "    }\n",
              "\n",
              "    [theme=dark] .colab-df-convert:hover {\n",
              "      background-color: #434B5C;\n",
              "      box-shadow: 0px 1px 3px 1px rgba(0, 0, 0, 0.15);\n",
              "      filter: drop-shadow(0px 1px 2px rgba(0, 0, 0, 0.3));\n",
              "      fill: #FFFFFF;\n",
              "    }\n",
              "  </style>\n",
              "\n",
              "      <script>\n",
              "        const buttonEl =\n",
              "          document.querySelector('#df-fa9fb8a4-5309-40c9-bc32-a9cd9c2b8959 button.colab-df-convert');\n",
              "        buttonEl.style.display =\n",
              "          google.colab.kernel.accessAllowed ? 'block' : 'none';\n",
              "\n",
              "        async function convertToInteractive(key) {\n",
              "          const element = document.querySelector('#df-fa9fb8a4-5309-40c9-bc32-a9cd9c2b8959');\n",
              "          const dataTable =\n",
              "            await google.colab.kernel.invokeFunction('convertToInteractive',\n",
              "                                                     [key], {});\n",
              "          if (!dataTable) return;\n",
              "\n",
              "          const docLinkHtml = 'Like what you see? Visit the ' +\n",
              "            '<a target=\"_blank\" href=https://colab.research.google.com/notebooks/data_table.ipynb>data table notebook</a>'\n",
              "            + ' to learn more about interactive tables.';\n",
              "          element.innerHTML = '';\n",
              "          dataTable['output_type'] = 'display_data';\n",
              "          await google.colab.output.renderOutput(dataTable, element);\n",
              "          const docLink = document.createElement('div');\n",
              "          docLink.innerHTML = docLinkHtml;\n",
              "          element.appendChild(docLink);\n",
              "        }\n",
              "      </script>\n",
              "    </div>\n",
              "  </div>\n",
              "  "
            ]
          },
          "metadata": {},
          "execution_count": 19
        }
      ]
    },
    {
      "cell_type": "code",
      "metadata": {
        "id": "_o50OqJWvK_L",
        "colab": {
          "base_uri": "https://localhost:8080/",
          "height": 143
        },
        "outputId": "9e5a8ff0-b75e-4b1e-9e14-bac60bea248c"
      },
      "source": [
        "# Veamos cómo queda\n",
        "df"
      ],
      "execution_count": 20,
      "outputs": [
        {
          "output_type": "execute_result",
          "data": {
            "text/plain": [
              "       Col1  Col2  Nueva columna\n",
              "Fila1     1     2              3\n",
              "Fila2     3     4              7\n",
              "Fila3     5     6             11"
            ],
            "text/html": [
              "\n",
              "  <div id=\"df-1dc41258-f806-42db-a315-a2da4c25ad97\">\n",
              "    <div class=\"colab-df-container\">\n",
              "      <div>\n",
              "<style scoped>\n",
              "    .dataframe tbody tr th:only-of-type {\n",
              "        vertical-align: middle;\n",
              "    }\n",
              "\n",
              "    .dataframe tbody tr th {\n",
              "        vertical-align: top;\n",
              "    }\n",
              "\n",
              "    .dataframe thead th {\n",
              "        text-align: right;\n",
              "    }\n",
              "</style>\n",
              "<table border=\"1\" class=\"dataframe\">\n",
              "  <thead>\n",
              "    <tr style=\"text-align: right;\">\n",
              "      <th></th>\n",
              "      <th>Col1</th>\n",
              "      <th>Col2</th>\n",
              "      <th>Nueva columna</th>\n",
              "    </tr>\n",
              "  </thead>\n",
              "  <tbody>\n",
              "    <tr>\n",
              "      <th>Fila1</th>\n",
              "      <td>1</td>\n",
              "      <td>2</td>\n",
              "      <td>3</td>\n",
              "    </tr>\n",
              "    <tr>\n",
              "      <th>Fila2</th>\n",
              "      <td>3</td>\n",
              "      <td>4</td>\n",
              "      <td>7</td>\n",
              "    </tr>\n",
              "    <tr>\n",
              "      <th>Fila3</th>\n",
              "      <td>5</td>\n",
              "      <td>6</td>\n",
              "      <td>11</td>\n",
              "    </tr>\n",
              "  </tbody>\n",
              "</table>\n",
              "</div>\n",
              "      <button class=\"colab-df-convert\" onclick=\"convertToInteractive('df-1dc41258-f806-42db-a315-a2da4c25ad97')\"\n",
              "              title=\"Convert this dataframe to an interactive table.\"\n",
              "              style=\"display:none;\">\n",
              "        \n",
              "  <svg xmlns=\"http://www.w3.org/2000/svg\" height=\"24px\"viewBox=\"0 0 24 24\"\n",
              "       width=\"24px\">\n",
              "    <path d=\"M0 0h24v24H0V0z\" fill=\"none\"/>\n",
              "    <path d=\"M18.56 5.44l.94 2.06.94-2.06 2.06-.94-2.06-.94-.94-2.06-.94 2.06-2.06.94zm-11 1L8.5 8.5l.94-2.06 2.06-.94-2.06-.94L8.5 2.5l-.94 2.06-2.06.94zm10 10l.94 2.06.94-2.06 2.06-.94-2.06-.94-.94-2.06-.94 2.06-2.06.94z\"/><path d=\"M17.41 7.96l-1.37-1.37c-.4-.4-.92-.59-1.43-.59-.52 0-1.04.2-1.43.59L10.3 9.45l-7.72 7.72c-.78.78-.78 2.05 0 2.83L4 21.41c.39.39.9.59 1.41.59.51 0 1.02-.2 1.41-.59l7.78-7.78 2.81-2.81c.8-.78.8-2.07 0-2.86zM5.41 20L4 18.59l7.72-7.72 1.47 1.35L5.41 20z\"/>\n",
              "  </svg>\n",
              "      </button>\n",
              "      \n",
              "  <style>\n",
              "    .colab-df-container {\n",
              "      display:flex;\n",
              "      flex-wrap:wrap;\n",
              "      gap: 12px;\n",
              "    }\n",
              "\n",
              "    .colab-df-convert {\n",
              "      background-color: #E8F0FE;\n",
              "      border: none;\n",
              "      border-radius: 50%;\n",
              "      cursor: pointer;\n",
              "      display: none;\n",
              "      fill: #1967D2;\n",
              "      height: 32px;\n",
              "      padding: 0 0 0 0;\n",
              "      width: 32px;\n",
              "    }\n",
              "\n",
              "    .colab-df-convert:hover {\n",
              "      background-color: #E2EBFA;\n",
              "      box-shadow: 0px 1px 2px rgba(60, 64, 67, 0.3), 0px 1px 3px 1px rgba(60, 64, 67, 0.15);\n",
              "      fill: #174EA6;\n",
              "    }\n",
              "\n",
              "    [theme=dark] .colab-df-convert {\n",
              "      background-color: #3B4455;\n",
              "      fill: #D2E3FC;\n",
              "    }\n",
              "\n",
              "    [theme=dark] .colab-df-convert:hover {\n",
              "      background-color: #434B5C;\n",
              "      box-shadow: 0px 1px 3px 1px rgba(0, 0, 0, 0.15);\n",
              "      filter: drop-shadow(0px 1px 2px rgba(0, 0, 0, 0.3));\n",
              "      fill: #FFFFFF;\n",
              "    }\n",
              "  </style>\n",
              "\n",
              "      <script>\n",
              "        const buttonEl =\n",
              "          document.querySelector('#df-1dc41258-f806-42db-a315-a2da4c25ad97 button.colab-df-convert');\n",
              "        buttonEl.style.display =\n",
              "          google.colab.kernel.accessAllowed ? 'block' : 'none';\n",
              "\n",
              "        async function convertToInteractive(key) {\n",
              "          const element = document.querySelector('#df-1dc41258-f806-42db-a315-a2da4c25ad97');\n",
              "          const dataTable =\n",
              "            await google.colab.kernel.invokeFunction('convertToInteractive',\n",
              "                                                     [key], {});\n",
              "          if (!dataTable) return;\n",
              "\n",
              "          const docLinkHtml = 'Like what you see? Visit the ' +\n",
              "            '<a target=\"_blank\" href=https://colab.research.google.com/notebooks/data_table.ipynb>data table notebook</a>'\n",
              "            + ' to learn more about interactive tables.';\n",
              "          element.innerHTML = '';\n",
              "          dataTable['output_type'] = 'display_data';\n",
              "          await google.colab.output.renderOutput(dataTable, element);\n",
              "          const docLink = document.createElement('div');\n",
              "          docLink.innerHTML = docLinkHtml;\n",
              "          element.appendChild(docLink);\n",
              "        }\n",
              "      </script>\n",
              "    </div>\n",
              "  </div>\n",
              "  "
            ]
          },
          "metadata": {},
          "execution_count": 20
        }
      ]
    },
    {
      "cell_type": "code",
      "metadata": {
        "id": "l8TUsE3qOruJ"
      },
      "source": [
        "# Ooopss se ve igual?\n",
        "# Ojo: Si no ponemos el parametro inplace=True los cambios no se van a guardar\n",
        "df.drop('Fila2', axis = 0, inplace = True) # axis = 0 para filas"
      ],
      "execution_count": 21,
      "outputs": []
    },
    {
      "cell_type": "code",
      "metadata": {
        "id": "8j_rYCYIO4Xt",
        "colab": {
          "base_uri": "https://localhost:8080/",
          "height": 112
        },
        "outputId": "94ed81f3-edd1-42f5-cb97-e56a920a9c6a"
      },
      "source": [
        "df"
      ],
      "execution_count": 22,
      "outputs": [
        {
          "output_type": "execute_result",
          "data": {
            "text/plain": [
              "       Col1  Col2  Nueva columna\n",
              "Fila1     1     2              3\n",
              "Fila3     5     6             11"
            ],
            "text/html": [
              "\n",
              "  <div id=\"df-b1ff48a7-c993-4366-baa0-c12d4cac6332\">\n",
              "    <div class=\"colab-df-container\">\n",
              "      <div>\n",
              "<style scoped>\n",
              "    .dataframe tbody tr th:only-of-type {\n",
              "        vertical-align: middle;\n",
              "    }\n",
              "\n",
              "    .dataframe tbody tr th {\n",
              "        vertical-align: top;\n",
              "    }\n",
              "\n",
              "    .dataframe thead th {\n",
              "        text-align: right;\n",
              "    }\n",
              "</style>\n",
              "<table border=\"1\" class=\"dataframe\">\n",
              "  <thead>\n",
              "    <tr style=\"text-align: right;\">\n",
              "      <th></th>\n",
              "      <th>Col1</th>\n",
              "      <th>Col2</th>\n",
              "      <th>Nueva columna</th>\n",
              "    </tr>\n",
              "  </thead>\n",
              "  <tbody>\n",
              "    <tr>\n",
              "      <th>Fila1</th>\n",
              "      <td>1</td>\n",
              "      <td>2</td>\n",
              "      <td>3</td>\n",
              "    </tr>\n",
              "    <tr>\n",
              "      <th>Fila3</th>\n",
              "      <td>5</td>\n",
              "      <td>6</td>\n",
              "      <td>11</td>\n",
              "    </tr>\n",
              "  </tbody>\n",
              "</table>\n",
              "</div>\n",
              "      <button class=\"colab-df-convert\" onclick=\"convertToInteractive('df-b1ff48a7-c993-4366-baa0-c12d4cac6332')\"\n",
              "              title=\"Convert this dataframe to an interactive table.\"\n",
              "              style=\"display:none;\">\n",
              "        \n",
              "  <svg xmlns=\"http://www.w3.org/2000/svg\" height=\"24px\"viewBox=\"0 0 24 24\"\n",
              "       width=\"24px\">\n",
              "    <path d=\"M0 0h24v24H0V0z\" fill=\"none\"/>\n",
              "    <path d=\"M18.56 5.44l.94 2.06.94-2.06 2.06-.94-2.06-.94-.94-2.06-.94 2.06-2.06.94zm-11 1L8.5 8.5l.94-2.06 2.06-.94-2.06-.94L8.5 2.5l-.94 2.06-2.06.94zm10 10l.94 2.06.94-2.06 2.06-.94-2.06-.94-.94-2.06-.94 2.06-2.06.94z\"/><path d=\"M17.41 7.96l-1.37-1.37c-.4-.4-.92-.59-1.43-.59-.52 0-1.04.2-1.43.59L10.3 9.45l-7.72 7.72c-.78.78-.78 2.05 0 2.83L4 21.41c.39.39.9.59 1.41.59.51 0 1.02-.2 1.41-.59l7.78-7.78 2.81-2.81c.8-.78.8-2.07 0-2.86zM5.41 20L4 18.59l7.72-7.72 1.47 1.35L5.41 20z\"/>\n",
              "  </svg>\n",
              "      </button>\n",
              "      \n",
              "  <style>\n",
              "    .colab-df-container {\n",
              "      display:flex;\n",
              "      flex-wrap:wrap;\n",
              "      gap: 12px;\n",
              "    }\n",
              "\n",
              "    .colab-df-convert {\n",
              "      background-color: #E8F0FE;\n",
              "      border: none;\n",
              "      border-radius: 50%;\n",
              "      cursor: pointer;\n",
              "      display: none;\n",
              "      fill: #1967D2;\n",
              "      height: 32px;\n",
              "      padding: 0 0 0 0;\n",
              "      width: 32px;\n",
              "    }\n",
              "\n",
              "    .colab-df-convert:hover {\n",
              "      background-color: #E2EBFA;\n",
              "      box-shadow: 0px 1px 2px rgba(60, 64, 67, 0.3), 0px 1px 3px 1px rgba(60, 64, 67, 0.15);\n",
              "      fill: #174EA6;\n",
              "    }\n",
              "\n",
              "    [theme=dark] .colab-df-convert {\n",
              "      background-color: #3B4455;\n",
              "      fill: #D2E3FC;\n",
              "    }\n",
              "\n",
              "    [theme=dark] .colab-df-convert:hover {\n",
              "      background-color: #434B5C;\n",
              "      box-shadow: 0px 1px 3px 1px rgba(0, 0, 0, 0.15);\n",
              "      filter: drop-shadow(0px 1px 2px rgba(0, 0, 0, 0.3));\n",
              "      fill: #FFFFFF;\n",
              "    }\n",
              "  </style>\n",
              "\n",
              "      <script>\n",
              "        const buttonEl =\n",
              "          document.querySelector('#df-b1ff48a7-c993-4366-baa0-c12d4cac6332 button.colab-df-convert');\n",
              "        buttonEl.style.display =\n",
              "          google.colab.kernel.accessAllowed ? 'block' : 'none';\n",
              "\n",
              "        async function convertToInteractive(key) {\n",
              "          const element = document.querySelector('#df-b1ff48a7-c993-4366-baa0-c12d4cac6332');\n",
              "          const dataTable =\n",
              "            await google.colab.kernel.invokeFunction('convertToInteractive',\n",
              "                                                     [key], {});\n",
              "          if (!dataTable) return;\n",
              "\n",
              "          const docLinkHtml = 'Like what you see? Visit the ' +\n",
              "            '<a target=\"_blank\" href=https://colab.research.google.com/notebooks/data_table.ipynb>data table notebook</a>'\n",
              "            + ' to learn more about interactive tables.';\n",
              "          element.innerHTML = '';\n",
              "          dataTable['output_type'] = 'display_data';\n",
              "          await google.colab.output.renderOutput(dataTable, element);\n",
              "          const docLink = document.createElement('div');\n",
              "          docLink.innerHTML = docLinkHtml;\n",
              "          element.appendChild(docLink);\n",
              "        }\n",
              "      </script>\n",
              "    </div>\n",
              "  </div>\n",
              "  "
            ]
          },
          "metadata": {},
          "execution_count": 22
        }
      ]
    },
    {
      "cell_type": "markdown",
      "source": [
        "# Librerias de graficación\n",
        "\n",
        "Hoy al final de la clase vamos a ver algo de gráficos, pero lo fuerte va a ser la clase que viene\n",
        "\n",
        "Vamos a ver muy por arriba matplotlib y seaborn\n"
      ],
      "metadata": {
        "id": "TJvj1i24AWWi"
      }
    },
    {
      "cell_type": "markdown",
      "metadata": {
        "id": "0mz3cGJstYHo"
      },
      "source": [
        "# ¡Manos a la data!\n",
        "\n",
        "Vamos a trabajar con los datos de un experimento online muy sencillo que involucra percepción y tiempos de reaccción.\n",
        "\n",
        "Pueden probarlo entrando [acá](https://blc773s5ko.cognition.run/)\n",
        "\n",
        "* La tarea consistía en presionar la tecla <STRONG><font color=orange>J</font></STRONG> si aparecía en la pantalla un círculo naranja y la tecla <STRONG><font color=blue>F</font></STRONG> si aparecía un círculo azul. Los estímulos aparecían solo durante una fracción de segundo.\n",
        "<br><br>\n",
        "<center>\n",
        "<img width=\"500\" height=\"auto\" src=\"https://miro.medium.com/max/729/1*KBXJ2QKaHUgrxLZaHxuksA.png\"> \n",
        "<p>Fuente: https://www.jspsych.org/tutorials/rt-task/</p>\n",
        "</center>\n",
        "\n"
      ]
    },
    {
      "cell_type": "markdown",
      "metadata": {
        "id": "A7Ho3iQ84Tzv"
      },
      "source": [
        "# Diferentes formas de cargar los datos\n",
        "\n",
        "Tenemos múltiples maneras de cargar los datos en Google Colab, podemos usar el menú interactivo que esta a la izquierda de la pantalla o podemos usar la librería de que nos provee Google para *montar* nuestra unidad de Drive. "
      ]
    },
    {
      "cell_type": "code",
      "metadata": {
        "id": "ooWsd1ApUvlp"
      },
      "source": [
        "# Montar nuestro Drive, va a salir un pop-up que nos va a pedir autorizacion\n",
        "from google.colab import drive, files\n",
        "drive.mount('/content/drive')"
      ],
      "execution_count": null,
      "outputs": []
    },
    {
      "cell_type": "markdown",
      "source": [
        "![image.png](data:image/png;base64,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)"
      ],
      "metadata": {
        "id": "msayC0UTmVEt"
      }
    },
    {
      "cell_type": "code",
      "source": [
        "# Otra manera: habilitar un botón para cargar desde nuestra computadora los archivos \n",
        "uploaded = files.upload()"
      ],
      "metadata": {
        "id": "BM_rns20k0xH"
      },
      "execution_count": null,
      "outputs": []
    },
    {
      "cell_type": "markdown",
      "metadata": {
        "id": "Je3auXOf4Zua"
      },
      "source": [
        "# Cargamos nuestro archivo\n",
        "\n",
        "Existen [muuuuchas formas](https://pandas.pydata.org/docs/user_guide/io.html) de cargar datos a Pandas dependiendo del formato de origen (incluso existe un método para cargar desde archivos *.sav* de SPSS)\n",
        "\n",
        "Normalemente vamos a querer generar un dataframe a partir de un archivo de Excel o un [CSV](https://es.wikipedia.org/wiki/Valores_separados_por_comas)\n"
      ]
    },
    {
      "cell_type": "code",
      "metadata": {
        "id": "YnVtWROy_3FM"
      },
      "source": [
        "# Creamos nuestro DataFrame con los datos de nuestro experimento\n",
        "df = pd.read_csv('https://raw.githubusercontent.com/gastonbujia/curso-visualizacion-datos-SAN-2022/main/data/data_dia_1.csv')"
      ],
      "execution_count": 25,
      "outputs": []
    },
    {
      "cell_type": "code",
      "metadata": {
        "id": "4uhw8blVZf--",
        "colab": {
          "base_uri": "https://localhost:8080/"
        },
        "outputId": "1f12d33b-149a-4267-9c09-466fb818528b"
      },
      "source": [
        "# Dimensiones descriptas en formato (filas, columnas)\n",
        "df.shape"
      ],
      "execution_count": 26,
      "outputs": [
        {
          "output_type": "execute_result",
          "data": {
            "text/plain": [
              "(40, 5)"
            ]
          },
          "metadata": {},
          "execution_count": 26
        }
      ]
    },
    {
      "cell_type": "code",
      "source": [
        "print(df.columns)"
      ],
      "metadata": {
        "id": "q3zw4C_QDuBV",
        "colab": {
          "base_uri": "https://localhost:8080/"
        },
        "outputId": "ceb93338-9c1f-47c8-f4f9-19ee30acb949"
      },
      "execution_count": 27,
      "outputs": [
        {
          "output_type": "stream",
          "name": "stdout",
          "text": [
            "Index(['trial_index', 'rt', 'stimulus', 'test_part', 'correct'], dtype='object')\n"
          ]
        }
      ]
    },
    {
      "cell_type": "code",
      "metadata": {
        "id": "krm6lg4ybs6M",
        "colab": {
          "base_uri": "https://localhost:8080/"
        },
        "outputId": "fa5b2771-b31f-4305-9777-a782b04d46af"
      },
      "source": [
        "# También lo podríamos haber obtenido así individualmente\n",
        "\n",
        "print(df['trial_index'].dtypes)\n",
        "print(df['rt'].dtypes)\n",
        "print(df['stimulus'].dtypes)\n",
        "print(df['test_part'].dtypes)\n",
        "print(df['correct'].dtypes)  "
      ],
      "execution_count": 28,
      "outputs": [
        {
          "output_type": "stream",
          "name": "stdout",
          "text": [
            "int64\n",
            "float64\n",
            "object\n",
            "object\n",
            "object\n"
          ]
        }
      ]
    },
    {
      "cell_type": "code",
      "metadata": {
        "id": "rjZ8uqdxAy8K",
        "colab": {
          "base_uri": "https://localhost:8080/",
          "height": 206
        },
        "outputId": "d3df875d-8294-4368-dcf2-d491fb84f942"
      },
      "source": [
        "# Miramos los primeros 5 valores\n",
        "df.head()"
      ],
      "execution_count": 29,
      "outputs": [
        {
          "output_type": "execute_result",
          "data": {
            "text/plain": [
              "   trial_index       rt          stimulus test_part correct\n",
              "0            0      NaN  cruz_de_fijacion  fixation     NaN\n",
              "1            1  466.525    img/orange.png      test    True\n",
              "2            2      NaN  cruz_de_fijacion  fixation     NaN\n",
              "3            3  464.150      img/blue.png      test   False\n",
              "4            4      NaN  cruz_de_fijacion  fixation     NaN"
            ],
            "text/html": [
              "\n",
              "  <div id=\"df-524a6506-b5f7-4027-9887-89465bea6fa5\">\n",
              "    <div class=\"colab-df-container\">\n",
              "      <div>\n",
              "<style scoped>\n",
              "    .dataframe tbody tr th:only-of-type {\n",
              "        vertical-align: middle;\n",
              "    }\n",
              "\n",
              "    .dataframe tbody tr th {\n",
              "        vertical-align: top;\n",
              "    }\n",
              "\n",
              "    .dataframe thead th {\n",
              "        text-align: right;\n",
              "    }\n",
              "</style>\n",
              "<table border=\"1\" class=\"dataframe\">\n",
              "  <thead>\n",
              "    <tr style=\"text-align: right;\">\n",
              "      <th></th>\n",
              "      <th>trial_index</th>\n",
              "      <th>rt</th>\n",
              "      <th>stimulus</th>\n",
              "      <th>test_part</th>\n",
              "      <th>correct</th>\n",
              "    </tr>\n",
              "  </thead>\n",
              "  <tbody>\n",
              "    <tr>\n",
              "      <th>0</th>\n",
              "      <td>0</td>\n",
              "      <td>NaN</td>\n",
              "      <td>cruz_de_fijacion</td>\n",
              "      <td>fixation</td>\n",
              "      <td>NaN</td>\n",
              "    </tr>\n",
              "    <tr>\n",
              "      <th>1</th>\n",
              "      <td>1</td>\n",
              "      <td>466.525</td>\n",
              "      <td>img/orange.png</td>\n",
              "      <td>test</td>\n",
              "      <td>True</td>\n",
              "    </tr>\n",
              "    <tr>\n",
              "      <th>2</th>\n",
              "      <td>2</td>\n",
              "      <td>NaN</td>\n",
              "      <td>cruz_de_fijacion</td>\n",
              "      <td>fixation</td>\n",
              "      <td>NaN</td>\n",
              "    </tr>\n",
              "    <tr>\n",
              "      <th>3</th>\n",
              "      <td>3</td>\n",
              "      <td>464.150</td>\n",
              "      <td>img/blue.png</td>\n",
              "      <td>test</td>\n",
              "      <td>False</td>\n",
              "    </tr>\n",
              "    <tr>\n",
              "      <th>4</th>\n",
              "      <td>4</td>\n",
              "      <td>NaN</td>\n",
              "      <td>cruz_de_fijacion</td>\n",
              "      <td>fixation</td>\n",
              "      <td>NaN</td>\n",
              "    </tr>\n",
              "  </tbody>\n",
              "</table>\n",
              "</div>\n",
              "      <button class=\"colab-df-convert\" onclick=\"convertToInteractive('df-524a6506-b5f7-4027-9887-89465bea6fa5')\"\n",
              "              title=\"Convert this dataframe to an interactive table.\"\n",
              "              style=\"display:none;\">\n",
              "        \n",
              "  <svg xmlns=\"http://www.w3.org/2000/svg\" height=\"24px\"viewBox=\"0 0 24 24\"\n",
              "       width=\"24px\">\n",
              "    <path d=\"M0 0h24v24H0V0z\" fill=\"none\"/>\n",
              "    <path d=\"M18.56 5.44l.94 2.06.94-2.06 2.06-.94-2.06-.94-.94-2.06-.94 2.06-2.06.94zm-11 1L8.5 8.5l.94-2.06 2.06-.94-2.06-.94L8.5 2.5l-.94 2.06-2.06.94zm10 10l.94 2.06.94-2.06 2.06-.94-2.06-.94-.94-2.06-.94 2.06-2.06.94z\"/><path d=\"M17.41 7.96l-1.37-1.37c-.4-.4-.92-.59-1.43-.59-.52 0-1.04.2-1.43.59L10.3 9.45l-7.72 7.72c-.78.78-.78 2.05 0 2.83L4 21.41c.39.39.9.59 1.41.59.51 0 1.02-.2 1.41-.59l7.78-7.78 2.81-2.81c.8-.78.8-2.07 0-2.86zM5.41 20L4 18.59l7.72-7.72 1.47 1.35L5.41 20z\"/>\n",
              "  </svg>\n",
              "      </button>\n",
              "      \n",
              "  <style>\n",
              "    .colab-df-container {\n",
              "      display:flex;\n",
              "      flex-wrap:wrap;\n",
              "      gap: 12px;\n",
              "    }\n",
              "\n",
              "    .colab-df-convert {\n",
              "      background-color: #E8F0FE;\n",
              "      border: none;\n",
              "      border-radius: 50%;\n",
              "      cursor: pointer;\n",
              "      display: none;\n",
              "      fill: #1967D2;\n",
              "      height: 32px;\n",
              "      padding: 0 0 0 0;\n",
              "      width: 32px;\n",
              "    }\n",
              "\n",
              "    .colab-df-convert:hover {\n",
              "      background-color: #E2EBFA;\n",
              "      box-shadow: 0px 1px 2px rgba(60, 64, 67, 0.3), 0px 1px 3px 1px rgba(60, 64, 67, 0.15);\n",
              "      fill: #174EA6;\n",
              "    }\n",
              "\n",
              "    [theme=dark] .colab-df-convert {\n",
              "      background-color: #3B4455;\n",
              "      fill: #D2E3FC;\n",
              "    }\n",
              "\n",
              "    [theme=dark] .colab-df-convert:hover {\n",
              "      background-color: #434B5C;\n",
              "      box-shadow: 0px 1px 3px 1px rgba(0, 0, 0, 0.15);\n",
              "      filter: drop-shadow(0px 1px 2px rgba(0, 0, 0, 0.3));\n",
              "      fill: #FFFFFF;\n",
              "    }\n",
              "  </style>\n",
              "\n",
              "      <script>\n",
              "        const buttonEl =\n",
              "          document.querySelector('#df-524a6506-b5f7-4027-9887-89465bea6fa5 button.colab-df-convert');\n",
              "        buttonEl.style.display =\n",
              "          google.colab.kernel.accessAllowed ? 'block' : 'none';\n",
              "\n",
              "        async function convertToInteractive(key) {\n",
              "          const element = document.querySelector('#df-524a6506-b5f7-4027-9887-89465bea6fa5');\n",
              "          const dataTable =\n",
              "            await google.colab.kernel.invokeFunction('convertToInteractive',\n",
              "                                                     [key], {});\n",
              "          if (!dataTable) return;\n",
              "\n",
              "          const docLinkHtml = 'Like what you see? Visit the ' +\n",
              "            '<a target=\"_blank\" href=https://colab.research.google.com/notebooks/data_table.ipynb>data table notebook</a>'\n",
              "            + ' to learn more about interactive tables.';\n",
              "          element.innerHTML = '';\n",
              "          dataTable['output_type'] = 'display_data';\n",
              "          await google.colab.output.renderOutput(dataTable, element);\n",
              "          const docLink = document.createElement('div');\n",
              "          docLink.innerHTML = docLinkHtml;\n",
              "          element.appendChild(docLink);\n",
              "        }\n",
              "      </script>\n",
              "    </div>\n",
              "  </div>\n",
              "  "
            ]
          },
          "metadata": {},
          "execution_count": 29
        }
      ]
    },
    {
      "cell_type": "code",
      "metadata": {
        "id": "gczVHsR7w40E",
        "colab": {
          "base_uri": "https://localhost:8080/",
          "height": 206
        },
        "outputId": "21aee1dd-4edd-4de4-d8e7-49d07e924022"
      },
      "source": [
        "# También podemos mirar las últimas filas\n",
        "df.tail()"
      ],
      "execution_count": 30,
      "outputs": [
        {
          "output_type": "execute_result",
          "data": {
            "text/plain": [
              "    trial_index       rt          stimulus test_part correct\n",
              "35           35  431.135    img/orange.png      test   False\n",
              "36           36      NaN  cruz_de_fijacion  fixation     NaN\n",
              "37           37  472.015    img/orange.png      test    True\n",
              "38           38      NaN  cruz_de_fijacion  fixation     NaN\n",
              "39           39  572.165      img/blue.png      test    True"
            ],
            "text/html": [
              "\n",
              "  <div id=\"df-eca1c769-9d84-41f5-8974-80e12d00b489\">\n",
              "    <div class=\"colab-df-container\">\n",
              "      <div>\n",
              "<style scoped>\n",
              "    .dataframe tbody tr th:only-of-type {\n",
              "        vertical-align: middle;\n",
              "    }\n",
              "\n",
              "    .dataframe tbody tr th {\n",
              "        vertical-align: top;\n",
              "    }\n",
              "\n",
              "    .dataframe thead th {\n",
              "        text-align: right;\n",
              "    }\n",
              "</style>\n",
              "<table border=\"1\" class=\"dataframe\">\n",
              "  <thead>\n",
              "    <tr style=\"text-align: right;\">\n",
              "      <th></th>\n",
              "      <th>trial_index</th>\n",
              "      <th>rt</th>\n",
              "      <th>stimulus</th>\n",
              "      <th>test_part</th>\n",
              "      <th>correct</th>\n",
              "    </tr>\n",
              "  </thead>\n",
              "  <tbody>\n",
              "    <tr>\n",
              "      <th>35</th>\n",
              "      <td>35</td>\n",
              "      <td>431.135</td>\n",
              "      <td>img/orange.png</td>\n",
              "      <td>test</td>\n",
              "      <td>False</td>\n",
              "    </tr>\n",
              "    <tr>\n",
              "      <th>36</th>\n",
              "      <td>36</td>\n",
              "      <td>NaN</td>\n",
              "      <td>cruz_de_fijacion</td>\n",
              "      <td>fixation</td>\n",
              "      <td>NaN</td>\n",
              "    </tr>\n",
              "    <tr>\n",
              "      <th>37</th>\n",
              "      <td>37</td>\n",
              "      <td>472.015</td>\n",
              "      <td>img/orange.png</td>\n",
              "      <td>test</td>\n",
              "      <td>True</td>\n",
              "    </tr>\n",
              "    <tr>\n",
              "      <th>38</th>\n",
              "      <td>38</td>\n",
              "      <td>NaN</td>\n",
              "      <td>cruz_de_fijacion</td>\n",
              "      <td>fixation</td>\n",
              "      <td>NaN</td>\n",
              "    </tr>\n",
              "    <tr>\n",
              "      <th>39</th>\n",
              "      <td>39</td>\n",
              "      <td>572.165</td>\n",
              "      <td>img/blue.png</td>\n",
              "      <td>test</td>\n",
              "      <td>True</td>\n",
              "    </tr>\n",
              "  </tbody>\n",
              "</table>\n",
              "</div>\n",
              "      <button class=\"colab-df-convert\" onclick=\"convertToInteractive('df-eca1c769-9d84-41f5-8974-80e12d00b489')\"\n",
              "              title=\"Convert this dataframe to an interactive table.\"\n",
              "              style=\"display:none;\">\n",
              "        \n",
              "  <svg xmlns=\"http://www.w3.org/2000/svg\" height=\"24px\"viewBox=\"0 0 24 24\"\n",
              "       width=\"24px\">\n",
              "    <path d=\"M0 0h24v24H0V0z\" fill=\"none\"/>\n",
              "    <path d=\"M18.56 5.44l.94 2.06.94-2.06 2.06-.94-2.06-.94-.94-2.06-.94 2.06-2.06.94zm-11 1L8.5 8.5l.94-2.06 2.06-.94-2.06-.94L8.5 2.5l-.94 2.06-2.06.94zm10 10l.94 2.06.94-2.06 2.06-.94-2.06-.94-.94-2.06-.94 2.06-2.06.94z\"/><path d=\"M17.41 7.96l-1.37-1.37c-.4-.4-.92-.59-1.43-.59-.52 0-1.04.2-1.43.59L10.3 9.45l-7.72 7.72c-.78.78-.78 2.05 0 2.83L4 21.41c.39.39.9.59 1.41.59.51 0 1.02-.2 1.41-.59l7.78-7.78 2.81-2.81c.8-.78.8-2.07 0-2.86zM5.41 20L4 18.59l7.72-7.72 1.47 1.35L5.41 20z\"/>\n",
              "  </svg>\n",
              "      </button>\n",
              "      \n",
              "  <style>\n",
              "    .colab-df-container {\n",
              "      display:flex;\n",
              "      flex-wrap:wrap;\n",
              "      gap: 12px;\n",
              "    }\n",
              "\n",
              "    .colab-df-convert {\n",
              "      background-color: #E8F0FE;\n",
              "      border: none;\n",
              "      border-radius: 50%;\n",
              "      cursor: pointer;\n",
              "      display: none;\n",
              "      fill: #1967D2;\n",
              "      height: 32px;\n",
              "      padding: 0 0 0 0;\n",
              "      width: 32px;\n",
              "    }\n",
              "\n",
              "    .colab-df-convert:hover {\n",
              "      background-color: #E2EBFA;\n",
              "      box-shadow: 0px 1px 2px rgba(60, 64, 67, 0.3), 0px 1px 3px 1px rgba(60, 64, 67, 0.15);\n",
              "      fill: #174EA6;\n",
              "    }\n",
              "\n",
              "    [theme=dark] .colab-df-convert {\n",
              "      background-color: #3B4455;\n",
              "      fill: #D2E3FC;\n",
              "    }\n",
              "\n",
              "    [theme=dark] .colab-df-convert:hover {\n",
              "      background-color: #434B5C;\n",
              "      box-shadow: 0px 1px 3px 1px rgba(0, 0, 0, 0.15);\n",
              "      filter: drop-shadow(0px 1px 2px rgba(0, 0, 0, 0.3));\n",
              "      fill: #FFFFFF;\n",
              "    }\n",
              "  </style>\n",
              "\n",
              "      <script>\n",
              "        const buttonEl =\n",
              "          document.querySelector('#df-eca1c769-9d84-41f5-8974-80e12d00b489 button.colab-df-convert');\n",
              "        buttonEl.style.display =\n",
              "          google.colab.kernel.accessAllowed ? 'block' : 'none';\n",
              "\n",
              "        async function convertToInteractive(key) {\n",
              "          const element = document.querySelector('#df-eca1c769-9d84-41f5-8974-80e12d00b489');\n",
              "          const dataTable =\n",
              "            await google.colab.kernel.invokeFunction('convertToInteractive',\n",
              "                                                     [key], {});\n",
              "          if (!dataTable) return;\n",
              "\n",
              "          const docLinkHtml = 'Like what you see? Visit the ' +\n",
              "            '<a target=\"_blank\" href=https://colab.research.google.com/notebooks/data_table.ipynb>data table notebook</a>'\n",
              "            + ' to learn more about interactive tables.';\n",
              "          element.innerHTML = '';\n",
              "          dataTable['output_type'] = 'display_data';\n",
              "          await google.colab.output.renderOutput(dataTable, element);\n",
              "          const docLink = document.createElement('div');\n",
              "          docLink.innerHTML = docLinkHtml;\n",
              "          element.appendChild(docLink);\n",
              "        }\n",
              "      </script>\n",
              "    </div>\n",
              "  </div>\n",
              "  "
            ]
          },
          "metadata": {},
          "execution_count": 30
        }
      ]
    },
    {
      "cell_type": "code",
      "metadata": {
        "id": "ofclV2vzzEmL",
        "colab": {
          "base_uri": "https://localhost:8080/",
          "height": 300
        },
        "outputId": "bdd0f413-c85c-401b-9a9e-2bd60273b1e1"
      },
      "source": [
        "# Comando para estadísticas básicas\n",
        "df.describe()"
      ],
      "execution_count": 31,
      "outputs": [
        {
          "output_type": "execute_result",
          "data": {
            "text/plain": [
              "       trial_index          rt\n",
              "count    40.000000   20.000000\n",
              "mean     19.500000  524.738500\n",
              "std      11.690452  157.509315\n",
              "min       0.000000  355.080000\n",
              "25%       9.750000  444.515000\n",
              "50%      19.500000  469.270000\n",
              "75%      29.250000  572.165000\n",
              "max      39.000000  936.490000"
            ],
            "text/html": [
              "\n",
              "  <div id=\"df-b72af3d7-1f24-4f18-8221-8636c28e30f2\">\n",
              "    <div class=\"colab-df-container\">\n",
              "      <div>\n",
              "<style scoped>\n",
              "    .dataframe tbody tr th:only-of-type {\n",
              "        vertical-align: middle;\n",
              "    }\n",
              "\n",
              "    .dataframe tbody tr th {\n",
              "        vertical-align: top;\n",
              "    }\n",
              "\n",
              "    .dataframe thead th {\n",
              "        text-align: right;\n",
              "    }\n",
              "</style>\n",
              "<table border=\"1\" class=\"dataframe\">\n",
              "  <thead>\n",
              "    <tr style=\"text-align: right;\">\n",
              "      <th></th>\n",
              "      <th>trial_index</th>\n",
              "      <th>rt</th>\n",
              "    </tr>\n",
              "  </thead>\n",
              "  <tbody>\n",
              "    <tr>\n",
              "      <th>count</th>\n",
              "      <td>40.000000</td>\n",
              "      <td>20.000000</td>\n",
              "    </tr>\n",
              "    <tr>\n",
              "      <th>mean</th>\n",
              "      <td>19.500000</td>\n",
              "      <td>524.738500</td>\n",
              "    </tr>\n",
              "    <tr>\n",
              "      <th>std</th>\n",
              "      <td>11.690452</td>\n",
              "      <td>157.509315</td>\n",
              "    </tr>\n",
              "    <tr>\n",
              "      <th>min</th>\n",
              "      <td>0.000000</td>\n",
              "      <td>355.080000</td>\n",
              "    </tr>\n",
              "    <tr>\n",
              "      <th>25%</th>\n",
              "      <td>9.750000</td>\n",
              "      <td>444.515000</td>\n",
              "    </tr>\n",
              "    <tr>\n",
              "      <th>50%</th>\n",
              "      <td>19.500000</td>\n",
              "      <td>469.270000</td>\n",
              "    </tr>\n",
              "    <tr>\n",
              "      <th>75%</th>\n",
              "      <td>29.250000</td>\n",
              "      <td>572.165000</td>\n",
              "    </tr>\n",
              "    <tr>\n",
              "      <th>max</th>\n",
              "      <td>39.000000</td>\n",
              "      <td>936.490000</td>\n",
              "    </tr>\n",
              "  </tbody>\n",
              "</table>\n",
              "</div>\n",
              "      <button class=\"colab-df-convert\" onclick=\"convertToInteractive('df-b72af3d7-1f24-4f18-8221-8636c28e30f2')\"\n",
              "              title=\"Convert this dataframe to an interactive table.\"\n",
              "              style=\"display:none;\">\n",
              "        \n",
              "  <svg xmlns=\"http://www.w3.org/2000/svg\" height=\"24px\"viewBox=\"0 0 24 24\"\n",
              "       width=\"24px\">\n",
              "    <path d=\"M0 0h24v24H0V0z\" fill=\"none\"/>\n",
              "    <path d=\"M18.56 5.44l.94 2.06.94-2.06 2.06-.94-2.06-.94-.94-2.06-.94 2.06-2.06.94zm-11 1L8.5 8.5l.94-2.06 2.06-.94-2.06-.94L8.5 2.5l-.94 2.06-2.06.94zm10 10l.94 2.06.94-2.06 2.06-.94-2.06-.94-.94-2.06-.94 2.06-2.06.94z\"/><path d=\"M17.41 7.96l-1.37-1.37c-.4-.4-.92-.59-1.43-.59-.52 0-1.04.2-1.43.59L10.3 9.45l-7.72 7.72c-.78.78-.78 2.05 0 2.83L4 21.41c.39.39.9.59 1.41.59.51 0 1.02-.2 1.41-.59l7.78-7.78 2.81-2.81c.8-.78.8-2.07 0-2.86zM5.41 20L4 18.59l7.72-7.72 1.47 1.35L5.41 20z\"/>\n",
              "  </svg>\n",
              "      </button>\n",
              "      \n",
              "  <style>\n",
              "    .colab-df-container {\n",
              "      display:flex;\n",
              "      flex-wrap:wrap;\n",
              "      gap: 12px;\n",
              "    }\n",
              "\n",
              "    .colab-df-convert {\n",
              "      background-color: #E8F0FE;\n",
              "      border: none;\n",
              "      border-radius: 50%;\n",
              "      cursor: pointer;\n",
              "      display: none;\n",
              "      fill: #1967D2;\n",
              "      height: 32px;\n",
              "      padding: 0 0 0 0;\n",
              "      width: 32px;\n",
              "    }\n",
              "\n",
              "    .colab-df-convert:hover {\n",
              "      background-color: #E2EBFA;\n",
              "      box-shadow: 0px 1px 2px rgba(60, 64, 67, 0.3), 0px 1px 3px 1px rgba(60, 64, 67, 0.15);\n",
              "      fill: #174EA6;\n",
              "    }\n",
              "\n",
              "    [theme=dark] .colab-df-convert {\n",
              "      background-color: #3B4455;\n",
              "      fill: #D2E3FC;\n",
              "    }\n",
              "\n",
              "    [theme=dark] .colab-df-convert:hover {\n",
              "      background-color: #434B5C;\n",
              "      box-shadow: 0px 1px 3px 1px rgba(0, 0, 0, 0.15);\n",
              "      filter: drop-shadow(0px 1px 2px rgba(0, 0, 0, 0.3));\n",
              "      fill: #FFFFFF;\n",
              "    }\n",
              "  </style>\n",
              "\n",
              "      <script>\n",
              "        const buttonEl =\n",
              "          document.querySelector('#df-b72af3d7-1f24-4f18-8221-8636c28e30f2 button.colab-df-convert');\n",
              "        buttonEl.style.display =\n",
              "          google.colab.kernel.accessAllowed ? 'block' : 'none';\n",
              "\n",
              "        async function convertToInteractive(key) {\n",
              "          const element = document.querySelector('#df-b72af3d7-1f24-4f18-8221-8636c28e30f2');\n",
              "          const dataTable =\n",
              "            await google.colab.kernel.invokeFunction('convertToInteractive',\n",
              "                                                     [key], {});\n",
              "          if (!dataTable) return;\n",
              "\n",
              "          const docLinkHtml = 'Like what you see? Visit the ' +\n",
              "            '<a target=\"_blank\" href=https://colab.research.google.com/notebooks/data_table.ipynb>data table notebook</a>'\n",
              "            + ' to learn more about interactive tables.';\n",
              "          element.innerHTML = '';\n",
              "          dataTable['output_type'] = 'display_data';\n",
              "          await google.colab.output.renderOutput(dataTable, element);\n",
              "          const docLink = document.createElement('div');\n",
              "          docLink.innerHTML = docLinkHtml;\n",
              "          element.appendChild(docLink);\n",
              "        }\n",
              "      </script>\n",
              "    </div>\n",
              "  </div>\n",
              "  "
            ]
          },
          "metadata": {},
          "execution_count": 31
        }
      ]
    },
    {
      "cell_type": "code",
      "metadata": {
        "id": "WwKo0EDFA5HM",
        "colab": {
          "base_uri": "https://localhost:8080/"
        },
        "outputId": "7c8ca9c3-d023-4e9e-d598-ac987680bb3b"
      },
      "source": [
        "# Obtenemos información, en particular nos interesa conocer el tipo de datos\n",
        "df.info()"
      ],
      "execution_count": 32,
      "outputs": [
        {
          "output_type": "stream",
          "name": "stdout",
          "text": [
            "<class 'pandas.core.frame.DataFrame'>\n",
            "RangeIndex: 40 entries, 0 to 39\n",
            "Data columns (total 5 columns):\n",
            " #   Column       Non-Null Count  Dtype  \n",
            "---  ------       --------------  -----  \n",
            " 0   trial_index  40 non-null     int64  \n",
            " 1   rt           20 non-null     float64\n",
            " 2   stimulus     40 non-null     object \n",
            " 3   test_part    40 non-null     object \n",
            " 4   correct      20 non-null     object \n",
            "dtypes: float64(1), int64(1), object(3)\n",
            "memory usage: 1.7+ KB\n"
          ]
        }
      ]
    },
    {
      "cell_type": "code",
      "source": [
        "# Exploremos los tiempos de respuesta\n",
        "df['rt'].plot(kind='hist', bins=20, title='tiempos de respuesta (ms)');\n",
        "plt.xlabel('rt');"
      ],
      "metadata": {
        "colab": {
          "base_uri": "https://localhost:8080/",
          "height": 295
        },
        "id": "g1trnFuJyk5m",
        "outputId": "1c8e0eef-07e0-40a0-ea97-d9e36765108f"
      },
      "execution_count": 51,
      "outputs": [
        {
          "output_type": "display_data",
          "data": {
            "text/plain": [
              "<Figure size 432x288 with 1 Axes>"
            ],
            "image/png": "[encoded data removed]"
          },
          "metadata": {
            "needs_background": "light"
          }
        }
      ]
    },
    {
      "cell_type": "markdown",
      "metadata": {
        "id": "7SPHdIoYyMOW"
      },
      "source": [
        "# ¿Cómo se comparan los RT entre azules y naranjas?"
      ]
    },
    {
      "cell_type": "code",
      "source": [
        "# Filtro los tiempos de respuesta para estímulos naranjas y creo una nueva columna para ellos\n",
        "df['rt_naranjas'] = df[df['stimulus'] == 'img/orange.png']['rt']\n",
        "\n",
        "df.head()"
      ],
      "metadata": {
        "id": "CwaHftGhz2Mw",
        "colab": {
          "base_uri": "https://localhost:8080/",
          "height": 206
        },
        "outputId": "986d994d-6973-4f33-90d0-ebf417b609ec"
      },
      "execution_count": 54,
      "outputs": [
        {
          "output_type": "execute_result",
          "data": {
            "text/plain": [
              "   trial_index       rt          stimulus test_part correct  rt_azules  \\\n",
              "0            0      NaN  cruz_de_fijacion  fixation     NaN        NaN   \n",
              "1            1  466.525    img/orange.png      test    True        NaN   \n",
              "2            2      NaN  cruz_de_fijacion  fixation     NaN        NaN   \n",
              "3            3  464.150      img/blue.png      test   False     464.15   \n",
              "4            4      NaN  cruz_de_fijacion  fixation     NaN        NaN   \n",
              "\n",
              "   rt_naranjas  \n",
              "0          NaN  \n",
              "1      466.525  \n",
              "2          NaN  \n",
              "3          NaN  \n",
              "4          NaN  "
            ],
            "text/html": [
              "\n",
              "  <div id=\"df-948e8cb8-ea20-4d99-8bf0-eeb8200a3700\">\n",
              "    <div class=\"colab-df-container\">\n",
              "      <div>\n",
              "<style scoped>\n",
              "    .dataframe tbody tr th:only-of-type {\n",
              "        vertical-align: middle;\n",
              "    }\n",
              "\n",
              "    .dataframe tbody tr th {\n",
              "        vertical-align: top;\n",
              "    }\n",
              "\n",
              "    .dataframe thead th {\n",
              "        text-align: right;\n",
              "    }\n",
              "</style>\n",
              "<table border=\"1\" class=\"dataframe\">\n",
              "  <thead>\n",
              "    <tr style=\"text-align: right;\">\n",
              "      <th></th>\n",
              "      <th>trial_index</th>\n",
              "      <th>rt</th>\n",
              "      <th>stimulus</th>\n",
              "      <th>test_part</th>\n",
              "      <th>correct</th>\n",
              "      <th>rt_azules</th>\n",
              "      <th>rt_naranjas</th>\n",
              "    </tr>\n",
              "  </thead>\n",
              "  <tbody>\n",
              "    <tr>\n",
              "      <th>0</th>\n",
              "      <td>0</td>\n",
              "      <td>NaN</td>\n",
              "      <td>cruz_de_fijacion</td>\n",
              "      <td>fixation</td>\n",
              "      <td>NaN</td>\n",
              "      <td>NaN</td>\n",
              "      <td>NaN</td>\n",
              "    </tr>\n",
              "    <tr>\n",
              "      <th>1</th>\n",
              "      <td>1</td>\n",
              "      <td>466.525</td>\n",
              "      <td>img/orange.png</td>\n",
              "      <td>test</td>\n",
              "      <td>True</td>\n",
              "      <td>NaN</td>\n",
              "      <td>466.525</td>\n",
              "    </tr>\n",
              "    <tr>\n",
              "      <th>2</th>\n",
              "      <td>2</td>\n",
              "      <td>NaN</td>\n",
              "      <td>cruz_de_fijacion</td>\n",
              "      <td>fixation</td>\n",
              "      <td>NaN</td>\n",
              "      <td>NaN</td>\n",
              "      <td>NaN</td>\n",
              "    </tr>\n",
              "    <tr>\n",
              "      <th>3</th>\n",
              "      <td>3</td>\n",
              "      <td>464.150</td>\n",
              "      <td>img/blue.png</td>\n",
              "      <td>test</td>\n",
              "      <td>False</td>\n",
              "      <td>464.15</td>\n",
              "      <td>NaN</td>\n",
              "    </tr>\n",
              "    <tr>\n",
              "      <th>4</th>\n",
              "      <td>4</td>\n",
              "      <td>NaN</td>\n",
              "      <td>cruz_de_fijacion</td>\n",
              "      <td>fixation</td>\n",
              "      <td>NaN</td>\n",
              "      <td>NaN</td>\n",
              "      <td>NaN</td>\n",
              "    </tr>\n",
              "  </tbody>\n",
              "</table>\n",
              "</div>\n",
              "      <button class=\"colab-df-convert\" onclick=\"convertToInteractive('df-948e8cb8-ea20-4d99-8bf0-eeb8200a3700')\"\n",
              "              title=\"Convert this dataframe to an interactive table.\"\n",
              "              style=\"display:none;\">\n",
              "        \n",
              "  <svg xmlns=\"http://www.w3.org/2000/svg\" height=\"24px\"viewBox=\"0 0 24 24\"\n",
              "       width=\"24px\">\n",
              "    <path d=\"M0 0h24v24H0V0z\" fill=\"none\"/>\n",
              "    <path d=\"M18.56 5.44l.94 2.06.94-2.06 2.06-.94-2.06-.94-.94-2.06-.94 2.06-2.06.94zm-11 1L8.5 8.5l.94-2.06 2.06-.94-2.06-.94L8.5 2.5l-.94 2.06-2.06.94zm10 10l.94 2.06.94-2.06 2.06-.94-2.06-.94-.94-2.06-.94 2.06-2.06.94z\"/><path d=\"M17.41 7.96l-1.37-1.37c-.4-.4-.92-.59-1.43-.59-.52 0-1.04.2-1.43.59L10.3 9.45l-7.72 7.72c-.78.78-.78 2.05 0 2.83L4 21.41c.39.39.9.59 1.41.59.51 0 1.02-.2 1.41-.59l7.78-7.78 2.81-2.81c.8-.78.8-2.07 0-2.86zM5.41 20L4 18.59l7.72-7.72 1.47 1.35L5.41 20z\"/>\n",
              "  </svg>\n",
              "      </button>\n",
              "      \n",
              "  <style>\n",
              "    .colab-df-container {\n",
              "      display:flex;\n",
              "      flex-wrap:wrap;\n",
              "      gap: 12px;\n",
              "    }\n",
              "\n",
              "    .colab-df-convert {\n",
              "      background-color: #E8F0FE;\n",
              "      border: none;\n",
              "      border-radius: 50%;\n",
              "      cursor: pointer;\n",
              "      display: none;\n",
              "      fill: #1967D2;\n",
              "      height: 32px;\n",
              "      padding: 0 0 0 0;\n",
              "      width: 32px;\n",
              "    }\n",
              "\n",
              "    .colab-df-convert:hover {\n",
              "      background-color: #E2EBFA;\n",
              "      box-shadow: 0px 1px 2px rgba(60, 64, 67, 0.3), 0px 1px 3px 1px rgba(60, 64, 67, 0.15);\n",
              "      fill: #174EA6;\n",
              "    }\n",
              "\n",
              "    [theme=dark] .colab-df-convert {\n",
              "      background-color: #3B4455;\n",
              "      fill: #D2E3FC;\n",
              "    }\n",
              "\n",
              "    [theme=dark] .colab-df-convert:hover {\n",
              "      background-color: #434B5C;\n",
              "      box-shadow: 0px 1px 3px 1px rgba(0, 0, 0, 0.15);\n",
              "      filter: drop-shadow(0px 1px 2px rgba(0, 0, 0, 0.3));\n",
              "      fill: #FFFFFF;\n",
              "    }\n",
              "  </style>\n",
              "\n",
              "      <script>\n",
              "        const buttonEl =\n",
              "          document.querySelector('#df-948e8cb8-ea20-4d99-8bf0-eeb8200a3700 button.colab-df-convert');\n",
              "        buttonEl.style.display =\n",
              "          google.colab.kernel.accessAllowed ? 'block' : 'none';\n",
              "\n",
              "        async function convertToInteractive(key) {\n",
              "          const element = document.querySelector('#df-948e8cb8-ea20-4d99-8bf0-eeb8200a3700');\n",
              "          const dataTable =\n",
              "            await google.colab.kernel.invokeFunction('convertToInteractive',\n",
              "                                                     [key], {});\n",
              "          if (!dataTable) return;\n",
              "\n",
              "          const docLinkHtml = 'Like what you see? Visit the ' +\n",
              "            '<a target=\"_blank\" href=https://colab.research.google.com/notebooks/data_table.ipynb>data table notebook</a>'\n",
              "            + ' to learn more about interactive tables.';\n",
              "          element.innerHTML = '';\n",
              "          dataTable['output_type'] = 'display_data';\n",
              "          await google.colab.output.renderOutput(dataTable, element);\n",
              "          const docLink = document.createElement('div');\n",
              "          docLink.innerHTML = docLinkHtml;\n",
              "          element.appendChild(docLink);\n",
              "        }\n",
              "      </script>\n",
              "    </div>\n",
              "  </div>\n",
              "  "
            ]
          },
          "metadata": {},
          "execution_count": 54
        }
      ]
    },
    {
      "cell_type": "code",
      "metadata": {
        "id": "-AuuXfwXEBD-"
      },
      "source": [
        "# Filtro los tiempos de respuesta para estímulos azules y creo una nueva columna para ellos\n",
        "\n",
        "# Ejercicio!\n",
        "# df['rt_azules'] = ___\n",
        "# df['rt_azules']\n"
      ],
      "execution_count": 55,
      "outputs": []
    },
    {
      "cell_type": "code",
      "source": [
        "# BORRAR CELDA:\n",
        "df['rt_azules'] = df[df['stimulus'] == 'img/blue.png']['rt']"
      ],
      "metadata": {
        "id": "o2JMFU8GFMVj"
      },
      "execution_count": 56,
      "outputs": []
    },
    {
      "cell_type": "code",
      "metadata": {
        "id": "WXilVe5B9onL"
      },
      "source": [
        "# Preparo los naranjas y azules para utilizarlos eliminando los NaN y\n",
        "# asegurándome de que los valores sean tipo numérico.\n",
        "naranjas = df['rt_naranjas'].dropna()\n",
        "azules = df['rt_azules'].dropna()"
      ],
      "execution_count": 69,
      "outputs": []
    },
    {
      "cell_type": "code",
      "metadata": {
        "id": "05p_g9_5Rj_G",
        "colab": {
          "base_uri": "https://localhost:8080/",
          "height": 283
        },
        "outputId": "14b80e8e-8c93-40f7-c779-c927cd21d6a0"
      },
      "source": [
        "#Histograma de naranjas\n",
        "df['rt_naranjas'].plot(kind='hist', color='orange')\n"
      ],
      "execution_count": 58,
      "outputs": [
        {
          "output_type": "execute_result",
          "data": {
            "text/plain": [
              "<matplotlib.axes._subplots.AxesSubplot at 0x7f023ec371d0>"
            ]
          },
          "metadata": {},
          "execution_count": 58
        },
        {
          "output_type": "display_data",
          "data": {
            "text/plain": [
              "<Figure size 432x288 with 1 Axes>"
            ],
            "image/png": "[encoded data removed]"
          },
          "metadata": {
            "needs_background": "light"
          }
        }
      ]
    },
    {
      "cell_type": "code",
      "metadata": {
        "id": "zM26xQ2aR5XY",
        "colab": {
          "base_uri": "https://localhost:8080/",
          "height": 283
        },
        "outputId": "dc347e3f-3d51-49f2-8c8f-3663ea6d4265"
      },
      "source": [
        "#Histograma de azules\n",
        "df['rt_azules'].plot(kind='hist', color='blue')\n"
      ],
      "execution_count": 59,
      "outputs": [
        {
          "output_type": "execute_result",
          "data": {
            "text/plain": [
              "<matplotlib.axes._subplots.AxesSubplot at 0x7f0240727190>"
            ]
          },
          "metadata": {},
          "execution_count": 59
        },
        {
          "output_type": "display_data",
          "data": {
            "text/plain": [
              "<Figure size 432x288 with 1 Axes>"
            ],
            "image/png": "[encoded data removed]"
          },
          "metadata": {
            "needs_background": "light"
          }
        }
      ]
    },
    {
      "cell_type": "code",
      "source": [
        "# Los dos gráficos en una misma \n",
        "df['rt_naranjas'].plot(kind='hist',bins=20, color='orange', legend=True, title='rt para azules y naranjas (ms)');\n",
        "df['rt_azules'].plot(kind='hist', bins=25, color='blue', legend=True);\n",
        "\n"
      ],
      "metadata": {
        "colab": {
          "base_uri": "https://localhost:8080/",
          "height": 281
        },
        "id": "nk7xrqviQn_T",
        "outputId": "a463781f-cd4f-40da-ab06-64f434cfef09"
      },
      "execution_count": 68,
      "outputs": [
        {
          "output_type": "display_data",
          "data": {
            "text/plain": [
              "<Figure size 432x288 with 1 Axes>"
            ],
            "image/png": "[encoded data removed]"
          },
          "metadata": {
            "needs_background": "light"
          }
        }
      ]
    },
    {
      "cell_type": "code",
      "source": [
        "# Boxplot para los azules\n",
        "df.boxplot(column=['rt_azules'])"
      ],
      "metadata": {
        "colab": {
          "base_uri": "https://localhost:8080/",
          "height": 284
        },
        "id": "hl96yDkpetsf",
        "outputId": "de4e8931-3afb-413b-a747-344e17404944"
      },
      "execution_count": 72,
      "outputs": [
        {
          "output_type": "execute_result",
          "data": {
            "text/plain": [
              "<matplotlib.axes._subplots.AxesSubplot at 0x7f023c9c6910>"
            ]
          },
          "metadata": {},
          "execution_count": 72
        },
        {
          "output_type": "display_data",
          "data": {
            "text/plain": [
              "<Figure size 432x288 with 1 Axes>"
            ],
            "image/png": "[encoded data removed]"
          },
          "metadata": {
            "needs_background": "light"
          }
        }
      ]
    },
    {
      "cell_type": "code",
      "source": [
        "# Boxplot para los naranjas\n",
        "df.boxplot(column=['rt_naranjas'])"
      ],
      "metadata": {
        "colab": {
          "base_uri": "https://localhost:8080/",
          "height": 284
        },
        "id": "t9ukNBSse1Uz",
        "outputId": "1f2219bb-aa36-4796-dad2-cb570f12af2a"
      },
      "execution_count": 74,
      "outputs": [
        {
          "output_type": "execute_result",
          "data": {
            "text/plain": [
              "<matplotlib.axes._subplots.AxesSubplot at 0x7f023c8cd390>"
            ]
          },
          "metadata": {},
          "execution_count": 74
        },
        {
          "output_type": "display_data",
          "data": {
            "text/plain": [
              "<Figure size 432x288 with 1 Axes>"
            ],
            "image/png": "[encoded data removed]"
          },
          "metadata": {
            "needs_background": "light"
          }
        }
      ]
    },
    {
      "cell_type": "code",
      "source": [
        "df['rt_azules'].dropna().values"
      ],
      "metadata": {
        "colab": {
          "base_uri": "https://localhost:8080/"
        },
        "id": "0lsPQV1Ze6ac",
        "outputId": "999e118a-2e02-49f7-940d-ad2cd22ca2bb"
      },
      "execution_count": 80,
      "outputs": [
        {
          "output_type": "execute_result",
          "data": {
            "text/plain": [
              "array([464.15 , 617.92 , 444.515, 936.49 , 572.165, 464.15 , 617.92 ,\n",
              "       444.515, 936.49 , 572.165])"
            ]
          },
          "metadata": {},
          "execution_count": 80
        }
      ]
    },
    {
      "cell_type": "code",
      "metadata": {
        "id": "vanGwSrOMFwL",
        "colab": {
          "base_uri": "https://localhost:8080/",
          "height": 281
        },
        "outputId": "db4a2910-8b96-41ed-afc1-f758dc6c5cd8"
      },
      "source": [
        "# Ahora usando matplotlib pongamos los dos en el mismo gráfico!\n",
        "import matplotlib.pyplot as plt\n",
        "\n",
        "\n",
        "data = [df['rt_azules'].dropna().values,\n",
        "        df['rt_naranjas'].dropna().values]\n",
        "\n",
        "fig1, panel = plt.subplots()\n",
        "panel.set_title('Tiempo de reacción')\n",
        "panel.boxplot(data)\n",
        "\n",
        "# Etiqueta eje x \n",
        "panel.set_xticklabels(['azules', 'naranjas'])\n",
        "\n",
        "# Estilo y colores de las cajas\n",
        "bp = panel.boxplot(data, patch_artist = True) \n",
        "colors = ['#0000FF',  '#f44611'] \n",
        "  \n",
        "for patch, color in zip(bp['boxes'], colors): \n",
        "    patch.set_facecolor(color) \n",
        "\n",
        "# Estilos de los puntos \n",
        "for flier in bp['fliers']: \n",
        "    flier.set(marker ='x', \n",
        "              color ='#e7298a', \n",
        "              alpha = 0.5) \n",
        "    \n",
        "# Color y grosor de las líneas que marcan las medianas \n",
        "for median in bp['medians']: \n",
        "    median.set(color ='black', \n",
        "               linewidth = 3) \n",
        "# Mostrar el gráfico\n",
        "plt.show()"
      ],
      "execution_count": 81,
      "outputs": [
        {
          "output_type": "display_data",
          "data": {
            "text/plain": [
              "<Figure size 432x288 with 1 Axes>"
            ],
            "image/png": "[encoded data removed]"
          },
          "metadata": {
            "needs_background": "light"
          }
        }
      ]
    },
    {
      "cell_type": "markdown",
      "metadata": {
        "id": "d8Ay1_KH0JEy"
      },
      "source": [
        "# ¿Hay diferencias significativas entre el RT de naranjas vs. azules?"
      ]
    },
    {
      "cell_type": "code",
      "metadata": {
        "id": "qcEbC4E8E76M",
        "colab": {
          "base_uri": "https://localhost:8080/"
        },
        "outputId": "27feb666-93f1-42b2-a733-cb0df5024b17"
      },
      "source": [
        "# Hacemos un  t-test de naranjas vs. azules\n",
        "from scipy import stats\n",
        "\n",
        "[tvalue,pvalue] = stats.ttest_ind(naranjas, azules)\n",
        "\n",
        "print('El t valor es: ', tvalue)\n",
        "print('El p valor es: ', pvalue)\n",
        "\n",
        "if float(pvalue) > 0.05:\n",
        "  print('El test no es estadísticamente significativo :(')\n",
        "else:\n",
        "  print('El test es estadísticamente significativo! :D') "
      ],
      "execution_count": 85,
      "outputs": [
        {
          "output_type": "stream",
          "name": "stdout",
          "text": [
            "El t valor es:  -2.694702384433896\n",
            "El p valor es:  0.014817394406916819\n",
            "El test es estadísticamente significativo! :D\n"
          ]
        }
      ]
    },
    {
      "cell_type": "markdown",
      "metadata": {
        "id": "w4nI_AlR0WZU"
      },
      "source": [
        "# **Ejercicio**:\n",
        "\n",
        "¿Hay diferencias significativas entre el RT de respuestas correctas vs. incorrectas?"
      ]
    },
    {
      "cell_type": "code",
      "metadata": {
        "id": "swnIbr120drU"
      },
      "source": [
        "# RT de respuestas correctas\n",
        "df['correctas'] = ___"
      ],
      "execution_count": null,
      "outputs": []
    },
    {
      "cell_type": "code",
      "metadata": {
        "id": "BIXziSfE0iJX"
      },
      "source": [
        "# RT de respuestas incorrectas\n",
        "df['incorrectas'] = ___"
      ],
      "execution_count": null,
      "outputs": []
    },
    {
      "cell_type": "code",
      "metadata": {
        "id": "7Y5wkOdO0qdU"
      },
      "source": [
        "# Visualización: ¿qué gráfico elegimos?\n"
      ],
      "execution_count": null,
      "outputs": []
    },
    {
      "cell_type": "code",
      "metadata": {
        "id": "_A_vdfNQ0zEU"
      },
      "source": [
        "# Genial. Ahora hagamos un test estadístico para ver si las diferencias son significativas o no\n"
      ],
      "execution_count": null,
      "outputs": []
    },
    {
      "cell_type": "markdown",
      "metadata": {
        "id": "9ONYeqn-RrK6"
      },
      "source": [
        "# Para saber más...\n",
        "\n",
        "### Algunas librerías para estadística:\n",
        "\n",
        "\n",
        "*   [StatModels para modelos estadísticos](https://www.statsmodels.org/)\n",
        "\n",
        "*   [Pingouin-stats otra opción para estadística](https://pingouin-stats.org/)\n",
        "\n",
        "*   [Scikit-learn para Machine Learning](https://scikit-learn.org/stable/)\n",
        "\n",
        "\n",
        "\n"
      ]
    },
    {
      "cell_type": "markdown",
      "metadata": {
        "id": "W6Ce7B5qIfFK"
      },
      "source": [
        "# Matplotlib en 5 minutos\n",
        "\n",
        "<a href = https://pandas.pydata.org/docs/>\n",
        "<img width=\"250\" height=\"auto\" src='https://matplotlib.org/_static/logo2_compressed.svg'> </a>\n",
        "\n",
        "1. Nos permitirá realizar gráficos y visualizaciones en general.\n",
        "2. Es una herramienta indispensable para explorar los datos y comunicar información.\n",
        "3. No es la única librería de Python para hacer gráficos, otra muy utilizada es Seaborn que corre sobre ella.\n",
        "\n",
        "<center>\n",
        "<img width=\"700\" height=\"auto\" src='https://datascienceplus.com/wp-content/uploads/2018/07/Data-Visualization-1.png'>\n",
        "\n",
        "Fuente: https://datascienceplus.com/matplotlib-library-tutorial-with-examples-python/\n",
        "</center><br>\n",
        "\n",
        "Ejemplos de uso: \n",
        "* [Galería de Matplotlib](https://matplotlib.org/3.3.3/gallery/index.html)\n",
        "* [The Python Graph Gallery (no solo matplotlib)](https://www.python-graph-gallery.com/)\n",
        "\n"
      ]
    },
    {
      "cell_type": "code",
      "metadata": {
        "id": "HisZ2CsIKUcB",
        "colab": {
          "base_uri": "https://localhost:8080/",
          "height": 791
        },
        "outputId": "f61b6024-2391-4e99-a93b-44efbd5367d7"
      },
      "source": [
        "dia = [1,2,3,4,5,6,7,8,9]\n",
        "ganas_de_estudiar = [10,9,8,7,6,5,4,3,2]\n",
        "\n",
        "# Gráfico de línea\n",
        "plt.plot(dia, ganas_de_estudiar, linestyle = 'dashed')\n",
        "plt.show()\n",
        "\n",
        "# Scatter plot\n",
        "plt.scatter(dia, ganas_de_estudiar, color = 'red')\n",
        "plt.show()\n",
        "\n",
        "# Gráfico de barras con labels\n",
        "plt.bar(dia, ganas_de_estudiar)\n",
        "plt.xlabel('Día')\n",
        "plt.ylabel('Ganas de estudiar')\n",
        "plt.title('¿¿Cuándo se termina el año??')\n",
        "plt.show()\n"
      ],
      "execution_count": 87,
      "outputs": [
        {
          "output_type": "display_data",
          "data": {
            "text/plain": [
              "<Figure size 432x288 with 1 Axes>"
            ],
            "image/png": "[encoded data removed]"
          },
          "metadata": {
            "needs_background": "light"
          }
        },
        {
          "output_type": "display_data",
          "data": {
            "text/plain": [
              "<Figure size 432x288 with 1 Axes>"
            ],
            "image/png": "[encoded data removed]"
          },
          "metadata": {
            "needs_background": "light"
          }
        },
        {
          "output_type": "display_data",
          "data": {
            "text/plain": [
              "<Figure size 432x288 with 1 Axes>"
            ],
            "image/png": "[encoded data removed]"
          },
          "metadata": {
            "needs_background": "light"
          }
        }
      ]
    },
    {
      "cell_type": "code",
      "metadata": {
        "id": "ZakMl5UJYV3J",
        "colab": {
          "base_uri": "https://localhost:8080/",
          "height": 295
        },
        "outputId": "a2c07bf5-c337-4b16-fd17-a47c6b5f7d10"
      },
      "source": [
        "# Para guardar un grafico\n",
        "root_dir = '/content/'\n",
        "nombre_del_grafico = 'mi_grafiquito.jpeg'\n",
        "path_imagen = root_dir + nombre_del_grafico\n",
        "plt.savefig(path_imagen, dpi = 500)\n",
        "\n",
        "# Gráfico de barras con labels\n",
        "plt.bar(dia, ganas_de_estudiar)\n",
        "plt.xlabel('Día')\n",
        "plt.ylabel('Ganas de estudiar')\n",
        "plt.title('¿¿Cuándo se termina el año??')\n",
        "plt.savefig(path_imagen, dpi = 50)\n",
        "plt.show()"
      ],
      "execution_count": 88,
      "outputs": [
        {
          "output_type": "display_data",
          "data": {
            "text/plain": [
              "<Figure size 432x288 with 1 Axes>"
            ],
            "image/png": "[encoded data removed]"
          },
          "metadata": {
            "needs_background": "light"
          }
        }
      ]
    },
    {
      "cell_type": "code",
      "metadata": {
        "id": "TuE8pAx67z6w",
        "colab": {
          "base_uri": "https://localhost:8080/",
          "height": 563
        },
        "outputId": "a97d8669-4ed4-43a6-cb76-f4e08d41d4d0"
      },
      "source": [
        "# Les dejamos un ejemplo de subplots, que se suelen usar bastante en publicaciones cientificas\n",
        "# Fuente: Documentacion oficial de matplotlib -> https://matplotlib.org/3.3.3/api/_as_gen/matplotlib.pyplot.subplots.html\n",
        "# Creamos datos de juguete:\n",
        "x = np.linspace(0, 2*np.pi, 400)\n",
        "y = np.sin(x**2)\n",
        "\n",
        "# Creamos una figura y un subplot\n",
        "# ax es el panel\n",
        "fig, ax = plt.subplots()\n",
        "ax.plot(x, y)\n",
        "ax.set_title('Plot simple')\n",
        "\n",
        "# Creamos 2 subplots y graficamos los mismos datos\n",
        "fig, (ax1, ax2) = plt.subplots(1, 2, sharey=True)\n",
        "ax1.plot(x, y)\n",
        "ax1.set_title('Compartiendo el eje Y')\n",
        "ax2.set_title('Compartiendo el eje Y')\n",
        "ax2.scatter(x, y)"
      ],
      "execution_count": 99,
      "outputs": [
        {
          "output_type": "execute_result",
          "data": {
            "text/plain": [
              "<matplotlib.collections.PathCollection at 0x7f023cf85350>"
            ]
          },
          "metadata": {},
          "execution_count": 99
        },
        {
          "output_type": "display_data",
          "data": {
            "text/plain": [
              "<Figure size 432x288 with 1 Axes>"
            ],
            "image/png": "[encoded data removed]"
          },
          "metadata": {
            "needs_background": "light"
          }
        },
        {
          "output_type": "display_data",
          "data": {
            "text/plain": [
              "<Figure size 432x288 with 2 Axes>"
            ],
            "image/png": "[encoded data removed]"
          },
          "metadata": {
            "needs_background": "light"
          }
        }
      ]
    }
  ]
}
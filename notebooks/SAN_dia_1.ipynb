{
  "nbformat": 4,
  "nbformat_minor": 0,
  "metadata": {
    "colab": {
      "provenance": [],
      "collapsed_sections": [],
      "include_colab_link": true
    },
    "kernelspec": {
      "name": "python3",
      "display_name": "Python 3"
    }
  },
  "cells": [
    {
      "cell_type": "markdown",
      "metadata": {
        "id": "view-in-github",
        "colab_type": "text"
      },
      "source": [
        "<a href=\"https://colab.research.google.com/github/gastonbujia/curso-visualizacion-datos-SAN-2022/blob/main/notebooks/SAN_dia_1.ipynb\" target=\"_parent\"><img src=\"https://colab.research.google.com/assets/colab-badge.svg\" alt=\"Open In Colab\"/></a>"
      ]
    },
    {
      "cell_type": "markdown",
      "metadata": {
        "id": "xC2KRyZ1nVKq"
      },
      "source": [
        "# ¡Hola! Pongamos manos en la data :)\n",
        "\n",
        "<img src = \"https://media.giphy.com/media/1kkxWqT5nvLXupUTwK/giphy.gif\">"
      ]
    },
    {
      "cell_type": "markdown",
      "metadata": {
        "id": "8QaHOF3c4VWF"
      },
      "source": [
        "# Una funcionalidad importante en Google Colab\n",
        "\n",
        "Nos permite utilizar la línea de comandos de la computadora que estamos utilizando en la nube. Si chequean qué computadora están usando, van a ver que están corriendo en Linux! (**aprendan Linux**)\n",
        "\n",
        "Para eso necesitamos anteponer el caracter **!** antes del comando que queremos ejecutar.\n",
        "\n",
        "Una de las principales utilidades "
      ]
    },
    {
      "cell_type": "code",
      "source": [
        "!cat /etc/os-release"
      ],
      "metadata": {
        "colab": {
          "base_uri": "https://localhost:8080/"
        },
        "id": "AYYSCUC--a7i",
        "outputId": "8ce1e528-0e5e-4bc4-a3ba-258d6c402305"
      },
      "execution_count": null,
      "outputs": [
        {
          "output_type": "stream",
          "name": "stdout",
          "text": [
            "NAME=\"Ubuntu\"\n",
            "VERSION=\"18.04.6 LTS (Bionic Beaver)\"\n",
            "ID=ubuntu\n",
            "ID_LIKE=debian\n",
            "PRETTY_NAME=\"Ubuntu 18.04.6 LTS\"\n",
            "VERSION_ID=\"18.04\"\n",
            "HOME_URL=\"https://www.ubuntu.com/\"\n",
            "SUPPORT_URL=\"https://help.ubuntu.com/\"\n",
            "BUG_REPORT_URL=\"https://bugs.launchpad.net/ubuntu/\"\n",
            "PRIVACY_POLICY_URL=\"https://www.ubuntu.com/legal/terms-and-policies/privacy-policy\"\n",
            "VERSION_CODENAME=bionic\n",
            "UBUNTU_CODENAME=bionic\n"
          ]
        }
      ]
    },
    {
      "cell_type": "code",
      "metadata": {
        "id": "KBx9ny8U4xmK"
      },
      "source": [
        "# Averiguar la version de Python que está corriendo\n",
        "!python --version"
      ],
      "execution_count": null,
      "outputs": []
    },
    {
      "cell_type": "code",
      "metadata": {
        "id": "RW9IfQTY472U"
      },
      "source": [
        "#Instalar una librería que no venga instalada\n",
        "!pip install miLibreriaLoca"
      ],
      "execution_count": null,
      "outputs": []
    },
    {
      "cell_type": "markdown",
      "metadata": {
        "id": "eyRdol_z5FED"
      },
      "source": [
        "# Todo muy lindo pero... ¿Qué son las librerías?\n",
        "\n",
        "<center>\n",
        "<img width=\"500\" height=\"auto\" src=\"https://blog-c7ff.kxcdn.com/blog/wp-content/uploads/2017/01/ML_Lie-01-compressed.jpg\"> \n",
        "<p>Fuente: https://blog-c7ff.kxcdn.com/blog/wp-content/uploads/2017/01/ML_Lie-01-compressed.jpg </p>\n",
        "</center>\n",
        "\n"
      ]
    },
    {
      "cell_type": "markdown",
      "metadata": {
        "id": "JVpsmVvOqx28"
      },
      "source": [
        "# Importando las librerías\n",
        "\n",
        "* Importar una librería es como ir a buscar la caja de herramientas y ponerla sobre una mesa de trabajo lista para que su contenido sea utilizado.\n",
        "\n",
        "* Las librerías (del inglés *library* que significa biblioteca pero nadie les dice así) son bloques de código que están agrupados para cumplir una función o conjunto de funciones.\n",
        "\n",
        "* En este caso vamos a hacer uso de las siguientes:\n",
        "  * **Numpy**: Librería para álgebra lineal. Nos permitirá, entre otras cosas, utilizar arreglos (*arrays*) y por lo tanto potenciar nuetras capacidades matemáticas. \n",
        "  * **Pandas** : Para trabajar con *data frames*, un tipo de dato similar a una tabla de excel. Necesita a Numpy para funcionar.\n",
        "  * **matplotlib**: Para realizar gráficos y visualizaciones en general.\n",
        "  * **scipy** : Para análisis estadístico."
      ]
    },
    {
      "cell_type": "code",
      "metadata": {
        "id": "weZWbVdx_cyC"
      },
      "source": [
        "# Sintaxis para importar librerias, el \"as\" es una manera de definirla con un nombre más sencillo, pero no es obligatorio.\n",
        "# Normalmente habría que instalarlas en nuestra compu, pero vienen ya instaladas en las compus donde Google Colab está corriendo nuestro código.\n",
        "import numpy as np\n",
        "import pandas as pd\n",
        "from matplotlib import pyplot as plt\n",
        "from scipy import stats"
      ],
      "execution_count": null,
      "outputs": []
    },
    {
      "cell_type": "code",
      "metadata": {
        "id": "oY2wF9xTyahN",
        "colab": {
          "base_uri": "https://localhost:8080/",
          "height": 336
        },
        "cellView": "form",
        "outputId": "378067d5-5a3a-4ff4-e485-b78f954b9147"
      },
      "source": [
        "# @title Video para musicalizar el aprendizaje y mostrar que en Google Colab se puede insertar prácticamente cualquier tipo de contenido. Dale doble click a esta celda para ver el código.\n",
        "\n",
        "from IPython.display import HTML\n",
        "\n",
        "HTML('<iframe width=\"560\" height=\"315\" src=\"https://www.youtube.com/embed/D2yymMhjRu8\" frameborder=\"0\" allow=\"accelerometer; autoplay; clipboard-write; encrypted-media; gyroscope; picture-in-picture\" allowfullscreen></iframe>')"
      ],
      "execution_count": null,
      "outputs": [
        {
          "output_type": "execute_result",
          "data": {
            "text/html": [
              "<iframe width=\"560\" height=\"315\" src=\"https://www.youtube.com/embed/D2yymMhjRu8\" frameborder=\"0\" allow=\"accelerometer; autoplay; clipboard-write; encrypted-media; gyroscope; picture-in-picture\" allowfullscreen></iframe>"
            ],
            "text/plain": [
              "<IPython.core.display.HTML object>"
            ]
          },
          "metadata": {
            "tags": []
          },
          "execution_count": 4
        }
      ]
    },
    {
      "cell_type": "markdown",
      "metadata": {
        "id": "aiC5WgCPJJ_j"
      },
      "source": [
        "# Vamos a ver algunas de las principales librerías del ecosistema de datos de Python\n",
        "\n",
        "<center>\n",
        "<img width=\"500\" height=\"auto\" src=\"https://atrebas.github.io/images/python.png\">\n",
        "</center>\n",
        "\n",
        "## **Para ver la documentación oficial pueden clickear sobre el logo de cada una más abajo**"
      ]
    },
    {
      "cell_type": "markdown",
      "metadata": {
        "id": "QRkYfDh8CjzT"
      },
      "source": [
        "# Numpy en 5 minutos\n",
        "\n",
        "<a href= 'https://numpy.org/doc/'>\n",
        "<img width=\"250\" height=\"auto\" src=\"https://upload.wikimedia.org/wikipedia/commons/3/31/NumPy_logo_2020.svg\"> </a>\n",
        "\n",
        "Nos proporciona un nuevo tipo de dato que se llama arreglo o *array* que posee las siguientes características:\n",
        "\n",
        " 1. Puede guardar elementos como en una lista y la manera de acceder a ellos es similar.\n",
        " 2. Permite realizar operaciones entre arreglos, cosa que en una lista no es posible.\n",
        " 2. Es mucho más rápido por cuestiones de eficiencia en el uso de la memoria.\n",
        " 3. Es la base de todo el ecosistema de librerías científicas de Python.\n",
        " 4. Evita que usemos MATLAB    <img width=\"20\" height=\"auto\" src=\"https://images.emojiterra.com/google/android-11/512px/1f625.png\n",
        "\">  \n",
        "<center>\n",
        "<img width=\"500\" height=\"auto\" src=\"https://i.stack.imgur.com/Tbe9W.png\"> \n",
        "<p>Fuente: https://medium.com/@mo000007/numpy-for-beginners-19d64e164df6 </p>\n",
        "</center>\n",
        "\n",
        "\n",
        "\n"
      ]
    },
    {
      "cell_type": "code",
      "metadata": {
        "id": "eKE4u3qmHrQh"
      },
      "source": [
        "# Creando arrays\n",
        "\n",
        "# Array de 1 dimensión en numpy\n",
        "array_1D = np.array([7,2,9,0])\n",
        "# print(array_1D)\n",
        "\n",
        "# Array 2D en numpy\n",
        "array_2D = np.array([[5.2, 3.0, 4.5], [9.1, 0.1,0.3]])\n",
        "# print(array_2D)\n",
        "\n",
        "# Creando arrays de \"ceros\" de la dimension que uno quiera\n",
        "ceros = np.zeros((2,3,2)) \n",
        "# print(zeros)\n",
        "\n",
        "# Creando arrays de \"unos\" de la dimension que uno quiera\n",
        "unos = np.ones((4,2)) \n",
        "# print(unos)\n",
        "\n"
      ],
      "execution_count": null,
      "outputs": []
    },
    {
      "cell_type": "code",
      "metadata": {
        "id": "Rc2Dm-6jMeLp"
      },
      "source": [
        "# Tamaño del array en formato (filas,columnas)\n",
        "array_2D.shape"
      ],
      "execution_count": null,
      "outputs": []
    },
    {
      "cell_type": "code",
      "metadata": {
        "id": "Mi7-MIxVNlrv"
      },
      "source": [
        "# Operaciones\n",
        "\n",
        "# Multiplicación por un escalar\n",
        "cincos = unos * 5\n",
        "# print(fives)\n",
        "\n",
        "# multiplicacion de matrices\n",
        "cuatros = unos * 4\n",
        "# print(fives * fours)\n",
        "\n",
        "# suma\n",
        "\n",
        "print(cuatros + cincos)\n"
      ],
      "execution_count": null,
      "outputs": []
    },
    {
      "cell_type": "code",
      "metadata": {
        "id": "Hlsi9FiYuauw"
      },
      "source": [
        "array_2D"
      ],
      "execution_count": null,
      "outputs": []
    },
    {
      "cell_type": "code",
      "metadata": {
        "id": "PlpexavltbKT"
      },
      "source": [
        "# Slicing\n",
        "\n",
        "# Todo\n",
        "# array_2D[:]\n",
        "array_1D[1:4]\n",
        "\n",
        "# Primera fila\n",
        "# array_2D[0,:]\n",
        "\n",
        "# Segunda columna\n",
        "# array_2D[:,1]\n",
        "\n"
      ],
      "execution_count": null,
      "outputs": []
    },
    {
      "cell_type": "markdown",
      "metadata": {
        "id": "Y4L7llBAv0Iu"
      },
      "source": [
        "# Pandas en 5 minutos\n",
        "\n",
        "<a href= 'https://pandas.pydata.org/docs/'>\n",
        "<img width=\"250\" height=\"auto\" src=\"https://upload.wikimedia.org/wikipedia/commons/thumb/e/ed/Pandas_logo.svg/1200px-Pandas_logo.svg.png\"> <img width=\"250\" height=\"auto\" src=\"https://i.pinimg.com/originals/ce/d4/d9/ced4d9f94106ac92584305410bc72427.gif\"> </a>\n",
        "\n",
        "\n",
        "\n",
        "Nos proporciona un nuevo tipo de dato que se llama *dataframe*:\n",
        "\n",
        " 1. Tiene una estructura parecida a una hoja de cálculo tipo Excel.\n",
        " 2. Funciona utilizando Numpy.\n",
        " 2. Es una herramienta muy poderosa para manejar conjuntos de datos o *data sets* .\n",
        "\n",
        "<center>\n",
        "<img width=\"500\" height=\"auto\" src=\"https://bookdata.readthedocs.io/en/latest/_images/base_01_pandas_5_0.png\"> \n",
        "<p>Fuente: https://bookdata.readthedocs.io/en/latest/base/01_pandas.html </p>\n",
        "</center>\n",
        "\n"
      ]
    },
    {
      "cell_type": "code",
      "metadata": {
        "id": "hr80KlkwGk91"
      },
      "source": [
        "df = pd.DataFrame([[1,2],[3,4],[5,6]],['Fila1','Fila2','Fila3'],['Col1','Col2'])"
      ],
      "execution_count": null,
      "outputs": []
    },
    {
      "cell_type": "code",
      "metadata": {
        "id": "KXHFFBqrISFH"
      },
      "source": [
        "df"
      ],
      "execution_count": null,
      "outputs": []
    },
    {
      "cell_type": "code",
      "metadata": {
        "id": "VXbZujap5uzm"
      },
      "source": [
        "# Dos formas de hacer indexing\n",
        "\n",
        "# Por numero con el .iloc - formato filas,columnas\n",
        "\n",
        "# Primera fila, segunda columna\n",
        "# df.iloc[0,1]\n",
        "\n",
        "# Segunda fila, todas las columnas\n",
        "# df.iloc[1,:]\n",
        "\n",
        "\n",
        "# Por nombre con .loc\n",
        "# df.loc[indice_de_fila,indice_de_columna]\n",
        "\n",
        "# Accediendo a una fila\n",
        "# df.loc['Fila1', :]\n",
        "\n",
        "# Accediendo a una columna\n",
        "# df.loc[:, 'Col2']\n",
        "\n",
        "# Accediendo a un valor\n",
        "# df.loc['Fila1', 'Col2']\n",
        "\n"
      ],
      "execution_count": null,
      "outputs": []
    },
    {
      "cell_type": "code",
      "metadata": {
        "id": "xoqCIa11EMe9"
      },
      "source": [
        "# Creando una nueva columna en base a operaciones entre columnas\n",
        "\n",
        "df['Nueva columna'] = df['Col1'] + df['Col2']"
      ],
      "execution_count": null,
      "outputs": []
    },
    {
      "cell_type": "code",
      "metadata": {
        "id": "C4mEwL_8EYAW"
      },
      "source": [
        "df"
      ],
      "execution_count": null,
      "outputs": []
    },
    {
      "cell_type": "code",
      "metadata": {
        "id": "8aRi4sKeN1Qu"
      },
      "source": [
        "# Eliminando una columna o una fila\n",
        "\n",
        "# df.drop('NombreDeLaColumnaAEliminar', axis=1) # axis = 0 para filas, axis = 1 para columnas\n",
        "df.drop('Fila2', axis = 0) # axis = 0 para filas"
      ],
      "execution_count": null,
      "outputs": []
    },
    {
      "cell_type": "code",
      "metadata": {
        "id": "_o50OqJWvK_L"
      },
      "source": [
        "# Veamos cómo queda\n",
        "df"
      ],
      "execution_count": null,
      "outputs": []
    },
    {
      "cell_type": "code",
      "metadata": {
        "id": "l8TUsE3qOruJ"
      },
      "source": [
        "# Ooopss se ve igual?\n",
        "# Ojo: Si no ponemos el parametro inplace=True los cambios no se van a guardar\n",
        "df.drop('Fila2', axis = 0, inplace = True) # axis = 0 para filas"
      ],
      "execution_count": null,
      "outputs": []
    },
    {
      "cell_type": "code",
      "metadata": {
        "id": "8j_rYCYIO4Xt"
      },
      "source": [
        "df"
      ],
      "execution_count": null,
      "outputs": []
    },
    {
      "cell_type": "markdown",
      "source": [
        "# Librerias de graficación\n",
        "\n",
        "Hoy al final de la clase vamos a ver algo de gráficos, pero lo fuerte va a ser la clase que viene\n",
        "\n",
        "Vamos a ver muy por arriba matplotlib y seaborn\n"
      ],
      "metadata": {
        "id": "TJvj1i24AWWi"
      }
    },
    {
      "cell_type": "markdown",
      "metadata": {
        "id": "0mz3cGJstYHo"
      },
      "source": [
        "# ¡Manos a la data!\n",
        "\n",
        "Vamos a trabajar con los datos de un experimento online muy sencillo que involucra percepción y tiempos de reaccción.\n",
        "\n",
        "Pueden probarlo entrando [acá](https://blc773s5ko.cognition.run/)\n",
        "\n",
        "* La tarea consistía en presionar la tecla <STRONG><font color=orange>J</font></STRONG> si aparecía en la pantalla un círculo naranja y la tecla <STRONG><font color=blue>F</font></STRONG> si aparecía un círculo azul. Los estímulos aparecían solo durante una fracción de segundo.\n",
        "<br><br>\n",
        "<center>\n",
        "<img width=\"500\" height=\"auto\" src=\"https://miro.medium.com/max/729/1*KBXJ2QKaHUgrxLZaHxuksA.png\"> \n",
        "<p>Fuente: https://www.jspsych.org/tutorials/rt-task/</p>\n",
        "</center>\n",
        "\n"
      ]
    },
    {
      "cell_type": "markdown",
      "metadata": {
        "id": "A7Ho3iQ84Tzv"
      },
      "source": [
        "# Montamos nuestro drive en Colab\n",
        "\n",
        "Tenemos múltiples maneras de cargar los datos en Google Colab, podemos usar el menú interactivo que esta a la izquierda de la pantalla o podemos usar la librería de que nos provee Google para *montar* nuestra unidad de Drive. "
      ]
    },
    {
      "cell_type": "markdown",
      "source": [],
      "metadata": {
        "id": "Rj4I5vRFxZ1G"
      }
    },
    {
      "cell_type": "code",
      "metadata": {
        "id": "ooWsd1ApUvlp",
        "colab": {
          "base_uri": "https://localhost:8080/"
        },
        "outputId": "c2a90ab5-c926-4e76-d997-6598ad32ca04"
      },
      "source": [
        "# Montar nuestro Drive, va a salir un pop-up que nos va a pedir autorizacion\n",
        "from google.colab import drive, files\n",
        "drive.mount('/content/drive')"
      ],
      "execution_count": null,
      "outputs": [
        {
          "output_type": "stream",
          "name": "stdout",
          "text": [
            "Mounted at /content/drive\n"
          ]
        }
      ]
    },
    {
      "cell_type": "markdown",
      "source": [
        "![image.png](data:image/png;base64,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)"
      ],
      "metadata": {
        "id": "msayC0UTmVEt"
      }
    },
    {
      "cell_type": "code",
      "source": [
        "# Otra manera: habilitar un botón para cargar desde nuestra computadora los archivos \n",
        "uploaded = files.upload()"
      ],
      "metadata": {
        "colab": {
          "base_uri": "https://localhost:8080/",
          "height": 38
        },
        "id": "BM_rns20k0xH",
        "outputId": "7b92414f-797f-452a-d1d6-83d9e23a8a4a"
      },
      "execution_count": null,
      "outputs": [
        {
          "output_type": "display_data",
          "data": {
            "text/plain": [
              "<IPython.core.display.HTML object>"
            ],
            "text/html": [
              "\n",
              "     <input type=\"file\" id=\"files-5700efe2-2912-41f9-811c-12578d660f0f\" name=\"files[]\" multiple disabled\n",
              "        style=\"border:none\" />\n",
              "     <output id=\"result-5700efe2-2912-41f9-811c-12578d660f0f\">\n",
              "      Upload widget is only available when the cell has been executed in the\n",
              "      current browser session. Please rerun this cell to enable.\n",
              "      </output>\n",
              "      <script>// Copyright 2017 Google LLC\n",
              "//\n",
              "// Licensed under the Apache License, Version 2.0 (the \"License\");\n",
              "// you may not use this file except in compliance with the License.\n",
              "// You may obtain a copy of the License at\n",
              "//\n",
              "//      http://www.apache.org/licenses/LICENSE-2.0\n",
              "//\n",
              "// Unless required by applicable law or agreed to in writing, software\n",
              "// distributed under the License is distributed on an \"AS IS\" BASIS,\n",
              "// WITHOUT WARRANTIES OR CONDITIONS OF ANY KIND, either express or implied.\n",
              "// See the License for the specific language governing permissions and\n",
              "// limitations under the License.\n",
              "\n",
              "/**\n",
              " * @fileoverview Helpers for google.colab Python module.\n",
              " */\n",
              "(function(scope) {\n",
              "function span(text, styleAttributes = {}) {\n",
              "  const element = document.createElement('span');\n",
              "  element.textContent = text;\n",
              "  for (const key of Object.keys(styleAttributes)) {\n",
              "    element.style[key] = styleAttributes[key];\n",
              "  }\n",
              "  return element;\n",
              "}\n",
              "\n",
              "// Max number of bytes which will be uploaded at a time.\n",
              "const MAX_PAYLOAD_SIZE = 100 * 1024;\n",
              "\n",
              "function _uploadFiles(inputId, outputId) {\n",
              "  const steps = uploadFilesStep(inputId, outputId);\n",
              "  const outputElement = document.getElementById(outputId);\n",
              "  // Cache steps on the outputElement to make it available for the next call\n",
              "  // to uploadFilesContinue from Python.\n",
              "  outputElement.steps = steps;\n",
              "\n",
              "  return _uploadFilesContinue(outputId);\n",
              "}\n",
              "\n",
              "// This is roughly an async generator (not supported in the browser yet),\n",
              "// where there are multiple asynchronous steps and the Python side is going\n",
              "// to poll for completion of each step.\n",
              "// This uses a Promise to block the python side on completion of each step,\n",
              "// then passes the result of the previous step as the input to the next step.\n",
              "function _uploadFilesContinue(outputId) {\n",
              "  const outputElement = document.getElementById(outputId);\n",
              "  const steps = outputElement.steps;\n",
              "\n",
              "  const next = steps.next(outputElement.lastPromiseValue);\n",
              "  return Promise.resolve(next.value.promise).then((value) => {\n",
              "    // Cache the last promise value to make it available to the next\n",
              "    // step of the generator.\n",
              "    outputElement.lastPromiseValue = value;\n",
              "    return next.value.response;\n",
              "  });\n",
              "}\n",
              "\n",
              "/**\n",
              " * Generator function which is called between each async step of the upload\n",
              " * process.\n",
              " * @param {string} inputId Element ID of the input file picker element.\n",
              " * @param {string} outputId Element ID of the output display.\n",
              " * @return {!Iterable<!Object>} Iterable of next steps.\n",
              " */\n",
              "function* uploadFilesStep(inputId, outputId) {\n",
              "  const inputElement = document.getElementById(inputId);\n",
              "  inputElement.disabled = false;\n",
              "\n",
              "  const outputElement = document.getElementById(outputId);\n",
              "  outputElement.innerHTML = '';\n",
              "\n",
              "  const pickedPromise = new Promise((resolve) => {\n",
              "    inputElement.addEventListener('change', (e) => {\n",
              "      resolve(e.target.files);\n",
              "    });\n",
              "  });\n",
              "\n",
              "  const cancel = document.createElement('button');\n",
              "  inputElement.parentElement.appendChild(cancel);\n",
              "  cancel.textContent = 'Cancel upload';\n",
              "  const cancelPromise = new Promise((resolve) => {\n",
              "    cancel.onclick = () => {\n",
              "      resolve(null);\n",
              "    };\n",
              "  });\n",
              "\n",
              "  // Wait for the user to pick the files.\n",
              "  const files = yield {\n",
              "    promise: Promise.race([pickedPromise, cancelPromise]),\n",
              "    response: {\n",
              "      action: 'starting',\n",
              "    }\n",
              "  };\n",
              "\n",
              "  cancel.remove();\n",
              "\n",
              "  // Disable the input element since further picks are not allowed.\n",
              "  inputElement.disabled = true;\n",
              "\n",
              "  if (!files) {\n",
              "    return {\n",
              "      response: {\n",
              "        action: 'complete',\n",
              "      }\n",
              "    };\n",
              "  }\n",
              "\n",
              "  for (const file of files) {\n",
              "    const li = document.createElement('li');\n",
              "    li.append(span(file.name, {fontWeight: 'bold'}));\n",
              "    li.append(span(\n",
              "        `(${file.type || 'n/a'}) - ${file.size} bytes, ` +\n",
              "        `last modified: ${\n",
              "            file.lastModifiedDate ? file.lastModifiedDate.toLocaleDateString() :\n",
              "                                    'n/a'} - `));\n",
              "    const percent = span('0% done');\n",
              "    li.appendChild(percent);\n",
              "\n",
              "    outputElement.appendChild(li);\n",
              "\n",
              "    const fileDataPromise = new Promise((resolve) => {\n",
              "      const reader = new FileReader();\n",
              "      reader.onload = (e) => {\n",
              "        resolve(e.target.result);\n",
              "      };\n",
              "      reader.readAsArrayBuffer(file);\n",
              "    });\n",
              "    // Wait for the data to be ready.\n",
              "    let fileData = yield {\n",
              "      promise: fileDataPromise,\n",
              "      response: {\n",
              "        action: 'continue',\n",
              "      }\n",
              "    };\n",
              "\n",
              "    // Use a chunked sending to avoid message size limits. See b/62115660.\n",
              "    let position = 0;\n",
              "    do {\n",
              "      const length = Math.min(fileData.byteLength - position, MAX_PAYLOAD_SIZE);\n",
              "      const chunk = new Uint8Array(fileData, position, length);\n",
              "      position += length;\n",
              "\n",
              "      const base64 = btoa(String.fromCharCode.apply(null, chunk));\n",
              "      yield {\n",
              "        response: {\n",
              "          action: 'append',\n",
              "          file: file.name,\n",
              "          data: base64,\n",
              "        },\n",
              "      };\n",
              "\n",
              "      let percentDone = fileData.byteLength === 0 ?\n",
              "          100 :\n",
              "          Math.round((position / fileData.byteLength) * 100);\n",
              "      percent.textContent = `${percentDone}% done`;\n",
              "\n",
              "    } while (position < fileData.byteLength);\n",
              "  }\n",
              "\n",
              "  // All done.\n",
              "  yield {\n",
              "    response: {\n",
              "      action: 'complete',\n",
              "    }\n",
              "  };\n",
              "}\n",
              "\n",
              "scope.google = scope.google || {};\n",
              "scope.google.colab = scope.google.colab || {};\n",
              "scope.google.colab._files = {\n",
              "  _uploadFiles,\n",
              "  _uploadFilesContinue,\n",
              "};\n",
              "})(self);\n",
              "</script> "
            ]
          },
          "metadata": {}
        }
      ]
    },
    {
      "cell_type": "markdown",
      "metadata": {
        "id": "Je3auXOf4Zua"
      },
      "source": [
        "# Cargamos nuestro archivo\n",
        "\n",
        "Existen [muuuuchas formas](https://pandas.pydata.org/docs/user_guide/io.html) de cargar datos a Pandas dependiendo del formato de origen (incluso existe un método para cargar desde archivos *.sav* de SPSS)\n",
        "\n",
        "Normalemente vamos a querer generar un dataframe a partir de un archivo de Excel o un [CSV](https://es.wikipedia.org/wiki/Valores_separados_por_comas)\n"
      ]
    },
    {
      "cell_type": "code",
      "metadata": {
        "id": "YnVtWROy_3FM"
      },
      "source": [
        "# Creamos nuestro DataFrame con los datos de nuestro experimento\n",
        "df = pd.read_csv('/content/drive/MyDrive/datos_de_mi_experimento/data_psicodea_dia2.csv')"
      ],
      "execution_count": null,
      "outputs": []
    },
    {
      "cell_type": "code",
      "metadata": {
        "id": "4uhw8blVZf--"
      },
      "source": [
        "# Dimensiones descriptas en formato (filas, columnas)\n",
        "df.shape"
      ],
      "execution_count": null,
      "outputs": []
    },
    {
      "cell_type": "code",
      "source": [
        "print(df.columns)"
      ],
      "metadata": {
        "id": "q3zw4C_QDuBV"
      },
      "execution_count": null,
      "outputs": []
    },
    {
      "cell_type": "code",
      "metadata": {
        "id": "krm6lg4ybs6M"
      },
      "source": [
        "# También lo podríamos haber obtenido así individualmente\n",
        "\n",
        "print(df['trial_index'].dtypes)\n",
        "print(df['rt'].dtypes)\n",
        "print(df['stimulus'].dtypes)\n",
        "print(df['test_part'].dtypes)\n",
        "print(df['correct'].dtypes)  "
      ],
      "execution_count": null,
      "outputs": []
    },
    {
      "cell_type": "code",
      "metadata": {
        "id": "rjZ8uqdxAy8K"
      },
      "source": [
        "# Miramos los primeros 5 valores\n",
        "df.head(20)"
      ],
      "execution_count": null,
      "outputs": []
    },
    {
      "cell_type": "code",
      "metadata": {
        "id": "gczVHsR7w40E"
      },
      "source": [
        "# También podemos mirar las últimas filas\n",
        "df.tail()"
      ],
      "execution_count": null,
      "outputs": []
    },
    {
      "cell_type": "code",
      "metadata": {
        "id": "ofclV2vzzEmL"
      },
      "source": [
        "# Comando para estadísticas básicas\n",
        "df.describe()"
      ],
      "execution_count": null,
      "outputs": []
    },
    {
      "cell_type": "code",
      "metadata": {
        "id": "WwKo0EDFA5HM"
      },
      "source": [
        "# Obtenemos información, en particular nos interesa conocer el tipo de datos\n",
        "df.info()"
      ],
      "execution_count": null,
      "outputs": []
    },
    {
      "cell_type": "markdown",
      "source": [
        "↓↓↓↓↓↓ CAMBIAR ESTE TIPO DE PLOTEO POR EL PLOT PROPIO DE PANDAS (que es lo mismo en el fondo) ↓↓↓↓↓↓"
      ],
      "metadata": {
        "id": "wTDHfs6sC8oe"
      }
    },
    {
      "cell_type": "code",
      "metadata": {
        "id": "FBNqfv4A6fcB"
      },
      "source": [
        "# Exploremos los tiempos de respuesta\n",
        "rt = df['rt']"
      ],
      "execution_count": null,
      "outputs": []
    },
    {
      "cell_type": "code",
      "metadata": {
        "id": "y5d2rVSXAmlL"
      },
      "source": [
        "# Histograma\n",
        "n, bins, patches = plt.hist(rt, bins = 20, density = 1, facecolor='g')\n",
        "plt.xlabel('RT')\n",
        "plt.ylabel('Probability')\n",
        "plt.title('Histogram of response time')\n",
        "\n",
        "plt.show()"
      ],
      "execution_count": null,
      "outputs": []
    },
    {
      "cell_type": "markdown",
      "metadata": {
        "id": "7SPHdIoYyMOW"
      },
      "source": [
        "# ¿Cómo se comparan los RT entre azules y naranjas?"
      ]
    },
    {
      "cell_type": "code",
      "metadata": {
        "id": "K1TC7kCXENXz"
      },
      "source": [
        "# Filtro los tiempos de respuesta para estímulos naranjas y creo una nueva columna para ellos\n",
        "df['rt_naranjas'] = df[df['stimulus'].str.contains(\"orange\")]['rt']\n",
        "# df['rt_naranjas]"
      ],
      "execution_count": null,
      "outputs": []
    },
    {
      "cell_type": "code",
      "metadata": {
        "id": "-AuuXfwXEBD-"
      },
      "source": [
        "# Filtro los tiempos de respuesta para estímulos azules y creo una nueva columna para ellos\n",
        "\n",
        "# Ejercicio!\n",
        "df['rt_azules'] = ___\n",
        "# df['rt_azules']"
      ],
      "execution_count": null,
      "outputs": []
    },
    {
      "cell_type": "code",
      "metadata": {
        "id": "WXilVe5B9onL"
      },
      "source": [
        "# Preparo los naranjas y azules para utilizarlos eliminando los NaN y\n",
        "# asegurándome de que los valores sean tipo numérico.\n",
        "naranjas = df['rt_naranjas'].dropna()\n",
        "azules = df['rt_azules'].dropna()"
      ],
      "execution_count": null,
      "outputs": []
    },
    {
      "cell_type": "code",
      "metadata": {
        "id": "05p_g9_5Rj_G"
      },
      "source": [
        "#Histograma de naranjas\n",
        "n, bins, patches = plt.hist(naranjas, 10, facecolor = 'orange')\n"
      ],
      "execution_count": null,
      "outputs": []
    },
    {
      "cell_type": "code",
      "metadata": {
        "id": "zM26xQ2aR5XY"
      },
      "source": [
        "#Histograma de azules\n",
        "n, bins, patches = plt.hist(azules, 10, density = 1, facecolor='blue')"
      ],
      "execution_count": null,
      "outputs": []
    },
    {
      "cell_type": "code",
      "metadata": {
        "id": "ENW9Tj94f83V"
      },
      "source": [
        "# Las dos en un mismo gráfico\n",
        "\n",
        "plt.hist(naranjas, bins = 20, label='naranjas')\n",
        "plt.hist(azules, bins = 25, label='azules')\n",
        "plt.legend(loc='upper right')\n",
        "plt.show()"
      ],
      "execution_count": null,
      "outputs": []
    },
    {
      "cell_type": "code",
      "metadata": {
        "id": "G0Xgpt16LaPT"
      },
      "source": [
        "# Boxplot para los azules\n",
        "\n",
        "fig2, ax2 = plt.subplots()\n",
        "ax2.set_title('boxplot')\n",
        "ax2.boxplot(azules)\n",
        "\n",
        "plt.show()"
      ],
      "execution_count": null,
      "outputs": []
    },
    {
      "cell_type": "code",
      "metadata": {
        "id": "PigTxB1HMTCH"
      },
      "source": [
        "# Boxplot para los naranjas\n",
        "fig2, ax2 = plt.subplots()\n",
        "ax2.set_title('boxplot')\n",
        "ax2.boxplot(naranjas)\n",
        "\n",
        "plt.show()"
      ],
      "execution_count": null,
      "outputs": []
    },
    {
      "cell_type": "code",
      "metadata": {
        "id": "vanGwSrOMFwL"
      },
      "source": [
        "# Pongamos los dos en el mismo gráfico!\n",
        "data = [azules,naranjas]\n",
        "fig1, panel = plt.subplots()\n",
        "panel.set_title('Tiempo de reacción')\n",
        "panel.boxplot(data)\n",
        "\n",
        "# Etiqueta eje x \n",
        "panel.set_xticklabels(['azules', 'naranjas'])\n",
        "\n",
        "# Estilo y colores de las cajas\n",
        "bp = panel.boxplot(data, patch_artist = True) \n",
        "colors = ['#0000FF',  '#f44611'] \n",
        "  \n",
        "for patch, color in zip(bp['boxes'], colors): \n",
        "    patch.set_facecolor(color) \n",
        "\n",
        "# Estilos de los puntos \n",
        "for flier in bp['fliers']: \n",
        "    flier.set(marker ='x', \n",
        "              color ='#e7298a', \n",
        "              alpha = 0.5) \n",
        "    \n",
        "# Color y grosor de las líneas que marcan las medianas \n",
        "for median in bp['medians']: \n",
        "    median.set(color ='black', \n",
        "               linewidth = 3) \n",
        "# Mostrar el gráfico\n",
        "plt.show()"
      ],
      "execution_count": null,
      "outputs": []
    },
    {
      "cell_type": "markdown",
      "metadata": {
        "id": "d8Ay1_KH0JEy"
      },
      "source": [
        "# ¿Hay diferencias significativas entre el RT de naranjas vs. azules?"
      ]
    },
    {
      "cell_type": "code",
      "metadata": {
        "id": "qcEbC4E8E76M"
      },
      "source": [
        "# Hacemos un  t-test de naranjas vs. azules\n",
        "\n",
        "[tvalue,pvalue] = stats.ttest_ind(naranjas, azules)\n",
        "\n",
        "print('El t valor es: ' + str(tvalue))\n",
        "\n",
        "print('El p valor es: ' + str(pvalue))\n",
        "\n",
        "print('\\n') # Imprimo un espacio\n",
        "\n",
        "if float(pvalue) > 0.05:\n",
        "  print('El test no es estadísticamente significativo :(')\n",
        "\n",
        "print('El test es estadísticamente significativo! :D') \n",
        "\n",
        "#Nota: No se dejen llevar solo por un p-valor, son tremendamente engañosos pero eso querdará para otro curso...\n",
        "\n"
      ],
      "execution_count": null,
      "outputs": []
    },
    {
      "cell_type": "code",
      "metadata": {
        "id": "PvNN5q8s0kTZ"
      },
      "source": [
        "float(pvalue) > 0.05\n"
      ],
      "execution_count": null,
      "outputs": []
    },
    {
      "cell_type": "markdown",
      "metadata": {
        "id": "w4nI_AlR0WZU"
      },
      "source": [
        "# ¿Hay diferencias significativas entre el RT de respuestas correctas vs. incorrectas?"
      ]
    },
    {
      "cell_type": "code",
      "metadata": {
        "id": "swnIbr120drU"
      },
      "source": [
        "# RT de respuestas correctas\n",
        "df['correctas'] = ___"
      ],
      "execution_count": null,
      "outputs": []
    },
    {
      "cell_type": "code",
      "metadata": {
        "id": "BIXziSfE0iJX"
      },
      "source": [
        "# RT de respuestas incorrectas\n",
        "df['incorrectas'] = ___"
      ],
      "execution_count": null,
      "outputs": []
    },
    {
      "cell_type": "code",
      "metadata": {
        "id": "7Y5wkOdO0qdU"
      },
      "source": [
        "# Visualización: ¿qué gráfico elegimos?\n"
      ],
      "execution_count": null,
      "outputs": []
    },
    {
      "cell_type": "code",
      "metadata": {
        "id": "_A_vdfNQ0zEU"
      },
      "source": [
        "# Genial. Ahora hagamos un test estadístico para ver si las diferencias son significativas o no\n"
      ],
      "execution_count": null,
      "outputs": []
    },
    {
      "cell_type": "markdown",
      "metadata": {
        "id": "-52vlueG08dG"
      },
      "source": [
        "# Ejercicio bonus\n",
        "¿Cuál es la relación entre los días que llevamos estudiando y las ganas de estudiar?"
      ]
    },
    {
      "cell_type": "code",
      "metadata": {
        "id": "GiTabOmj1N31"
      },
      "source": [
        "# ¿Qué test usarían?\n"
      ],
      "execution_count": null,
      "outputs": []
    },
    {
      "cell_type": "markdown",
      "metadata": {
        "id": "9ONYeqn-RrK6"
      },
      "source": [
        "# Para saber más...\n",
        "\n",
        "### Algunas librerías para estadística:\n",
        "\n",
        "\n",
        "*   [StatModels para modelos estadísticos](https://www.statsmodels.org/)\n",
        "\n",
        "*   [Pingouin-stats otra opción para estadística](https://pingouin-stats.org/)\n",
        "\n",
        "*   [Scikit-learn para Machine Learning](https://scikit-learn.org/stable/)\n",
        "\n",
        "### Para hacer experimentos psicológicos:\n",
        "\n",
        "* [PsicoPy](https://psychopy.org/)\n",
        "\n",
        "\n",
        "### Psico en general:\n",
        "\n",
        "* [Best Python libraries for psychology researchers](http://www.pybloggers.com/2016/06/best-python-libraries-for-psychology-researchers/)\n",
        "\n",
        "* [Python programming in psychology – from data collection to analysis](https://blog.efpsa.org/2016/07/12/python-programming-in-psychology-from-data-collection-to-analysis/)\n",
        "\n",
        "\n",
        "\n"
      ]
    },
    {
      "cell_type": "markdown",
      "metadata": {
        "id": "SQbICzMincVE"
      },
      "source": [
        "# Hora de Kahoot!\n",
        "Entren a www.kahoot.it preferentemente desde el celu y pongan el código que aparece en pantalla.\n",
        "\n",
        "<img src = \"https://media.giphy.com/media/7Jplyo45Cd8Pp8A4PO/giphy.gif\">"
      ]
    },
    {
      "cell_type": "markdown",
      "metadata": {
        "id": "W6Ce7B5qIfFK"
      },
      "source": [
        "# Matplotlib en 5 minutos\n",
        "\n",
        "<a href = https://pandas.pydata.org/docs/>\n",
        "<img width=\"250\" height=\"auto\" src='https://matplotlib.org/_static/logo2_compressed.svg'> </a>\n",
        "\n",
        "1. Nos permitirá realizar gráficos y visualizaciones en general.\n",
        "2. Es una herramienta indispensable para explorar los datos y comunicar información.\n",
        "3. No es la única librería de Python para hacer gráficos, otra muy utilizada es Seaborn que corre sobre ella.\n",
        "\n",
        "<center>\n",
        "<img width=\"700\" height=\"auto\" src='https://datascienceplus.com/wp-content/uploads/2018/07/Data-Visualization-1.png'>\n",
        "\n",
        "Fuente: https://datascienceplus.com/matplotlib-library-tutorial-with-examples-python/\n",
        "</center><br>\n",
        "\n",
        "Bocha de ejemplos de uso: https://matplotlib.org/3.3.3/gallery/index.html\n",
        "\n"
      ]
    },
    {
      "cell_type": "code",
      "metadata": {
        "id": "HisZ2CsIKUcB"
      },
      "source": [
        "dia = [1,2,3,4,5,6,7,8,9]\n",
        "ganas_de_estudiar = [10,9,8,7,6,5,4,3,2]\n",
        "\n",
        "# Gráfico de línea\n",
        "plt.plot(dia, ganas_de_estudiar, linestyle = 'dashed')\n",
        "plt.show()\n",
        "\n",
        "# Scatter plot\n",
        "plt.scatter(dia, ganas_de_estudiar, color = 'red')\n",
        "plt.show()\n",
        "\n",
        "# Gráfico de barras con labels\n",
        "plt.bar(dia, ganas_de_estudiar)\n",
        "plt.xlabel('Día')\n",
        "plt.ylabel('Ganas de estudiar')\n",
        "plt.title('¿¿Cuándo se termina el año??')\n",
        "plt.show()\n"
      ],
      "execution_count": null,
      "outputs": []
    },
    {
      "cell_type": "code",
      "metadata": {
        "id": "ZakMl5UJYV3J"
      },
      "source": [
        "# Para guardar un grafico\n",
        "\n",
        "root_dir = '/content/'\n",
        "nombre_del_grafico = 'mi_grafiquito.jpeg'\n",
        "path_imagen = root_dir + nombre_del_grafico\n",
        "plt.savefig(path_imagen, dpi = 500)\n",
        "\n",
        "# Gráfico de barras con labels\n",
        "plt.bar(dia, ganas_de_estudiar)\n",
        "plt.xlabel('Día')\n",
        "plt.ylabel('Ganas de estudiar')\n",
        "plt.title('¿¿Cuándo se termina el año??')\n",
        "plt.savefig(path_imagen, dpi = 50)\n",
        "plt.show()"
      ],
      "execution_count": null,
      "outputs": []
    },
    {
      "cell_type": "code",
      "metadata": {
        "id": "TuE8pAx67z6w"
      },
      "source": [
        "# Les dejamos un ejemplo de subplots, que se suelen usar bastante en publicaciones cientificas\n",
        "# Fuente: Documentacion oficial de matplotlib -> https://matplotlib.org/3.3.3/api/_as_gen/matplotlib.pyplot.subplots.html\n",
        "# Creamos datos de juguete:\n",
        "x = np.linspace(0, 2*np.pi, 400)\n",
        "y = np.sin(x**2)\n",
        "\n",
        "# Creamos una figura y 1 subplot\n",
        "# ax es el panel\n",
        "fig, ax = plt.subplots()\n",
        "ax.plot(x, y)\n",
        "ax.set_title('Simple plot')\n",
        "\n",
        "# Creamos 2 subplots y ploteamos la misma data\n",
        "f, (ax1, ax2) = plt.subplots(1, 2, sharey=True)\n",
        "ax1.plot(x, y)\n",
        "ax1.set_title('Sharing Y axis')\n",
        "ax2.scatter(x, y)"
      ],
      "execution_count": null,
      "outputs": []
    }
  ]
}
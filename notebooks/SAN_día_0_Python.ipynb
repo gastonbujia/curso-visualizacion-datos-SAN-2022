{
  "cells": [
    {
      "cell_type": "markdown",
      "metadata": {
        "colab_type": "text",
        "id": "view-in-github"
      },
      "source": [
        "<a href=\"https://colab.research.google.com/github/gastonbujia/curso-visualizacion-datos-SAN-2022/blob/main/notebooks/SAN_dia_0_Python.ipynb\" target=\"_parent\"><img src=\"https://colab.research.google.com/assets/colab-badge.svg\" alt=\"Open In Colab\"/></a>"
      ]
    },
    {
      "cell_type": "markdown",
      "metadata": {
        "id": "IZlM9nheElSH"
      },
      "source": [
        "<a href='https://saneurociencias.org.ar/'> <img src=\"https://saneurociencias.org.ar/wp-content/uploads/2022/04/LOGO-SAN-WEB.png\" title=\"LOGO-SAN-WEB\" alt=\"LOGO-SAN-WEB\"></a>\n",
        "\n",
        "<br>\n",
        "<center>\n",
        "<h1><b>¡Bievenides!</b><h1>\n",
        "</center>\n",
        "\n",
        "<br>\n",
        "\n",
        "---\n",
        "<center>\n",
        "<h1><font color='red'> <b> ↓↓↓↓ ANTES DE EMPEZR COMPLETÁ ESTE BREVE FORM ↓↓↓↓ </b></font>\n",
        "<br> <a href='https://docs.google.com/forms/d/e/1FAIpQLSe0_wuw8OEhM5CEa-6OXgLa8ZYP7f6UhmbB6AfAgKifL9mTZA/viewform'> [LINK] </a>\n",
        "</h1>\n",
        "</center>\n",
        "<br>\n",
        "\n",
        "---\n",
        "\n",
        "\n",
        "* **¿Qué es programar?** <br>\n",
        "  * Una definición sencilla sería: \"Darle órdenes a una computadora por medio de código para que realice una tarea\".\n",
        "<center>\n",
        "<img src = 'https://media.giphy.com/media/citBl9yPwnUOs/giphy.gif'>  \n",
        "</center>\n",
        "\n",
        "* **¿Qué es Python?** <br>\n",
        "  * Es un lenguaje interpretado (no hace falta compilarlo), dinámico (una variable puede tomar valores de distinto tipo) y multiplataforma (anda en prácticamente cualquier compu).\n",
        "\n",
        "  * Es de propósito general, esto quiere decir que puede servir para analizar datos, pero también para hacer una página web o muchas otras cosas divertidas.\n",
        "\n",
        "  * Funciona con librerías (código extra que podemos agregar para obtener nuevas funcionalidades) y se caracteriza por tener gran variedad para cómputo científico.\n",
        "\n",
        "  * Tiene una licencia Open Source, por lo que se puede usar y distribuir libremente, incluso para uso comercial.\n",
        "  \n",
        "  * Comunidad grande (lo que es muy útil para buscar respuestas a nuestras dudas).\n",
        "\n",
        "  * *Fun fact*: el nombre es un homenaje a [Monty Python](https://en.wikipedia.org/wiki/Monty_Python).\n",
        "\n",
        "\n",
        "\n",
        "\n",
        "\n",
        "\n",
        "<center> <img src=https://static.javatpoint.com/interview/images/advantages-of-python.png alt=\"Advantages of Python\"> </center>\n",
        "<center> Fuente de la imagen: www.javatpoint.com  </center>\n",
        "\n",
        "* **¿Y Google Colab?** <br>\n",
        "  * Es una plataforma de Google que nos da acceso a un Jupyter notebook (o cuaderno de Jupyter), una plataforma interactiva que funciona en nuestro navegador y está en la nube, donde podremos escribir código en Python, agregar texto con Markdown, mostrar imágenes, gráficos y mucho más. ¡Todo en un solo lugar y de manera gratuita!\n",
        "\n",
        "  * Esto nos habilita una computadora virtual, con un Linux instalado, en el que podemos hacer casi todas las cosas que podemos hacer en nuestra computadora a través de una instancia de Python (incluso crear y leer archivos/carpetas, etc)\n",
        "\n",
        "  * En Colab tenemos la ventaja de que el Python ya viene con muchas librerías útiles instaladas\n",
        "\n",
        "  * Si hay alguna que no está instalada podemos hacerlo muy fácilmente\n"
      ]
    },
    {
      "cell_type": "markdown",
      "metadata": {
        "id": "-bQclOfuEiwj"
      },
      "source": [
        "# Tu primer programa 🖥\n",
        "\n"
      ]
    },
    {
      "cell_type": "markdown",
      "metadata": {
        "id": "mrF9ndlFoGSj"
      },
      "source": [
        "El documento que estamos usando es un `.ipynb`, o Jupyter Notebook que se puede ejecutar en otros entornos aparte del Colab (e.g. Anaconda).\n",
        "\n",
        "El documento está en modo lectura. Podés hacer una copia y guardarla en tu propio Drive, y así editar el código. **IMPORTANTE** Podes editar el código aca pero si no haces una copia esos cambios no se van a guardar.\n",
        "\n",
        "Al apretar el botón ▶️ que aparece a la izquierda al posarse en una celda de código, podés ejecutar esa celda, y el output aparecerá abajo.\n",
        "\n",
        "Vamos a escribir nuestro primer programa:"
      ]
    },
    {
      "cell_type": "code",
      "execution_count": 1,
      "metadata": {
        "colab": {
          "base_uri": "https://localhost:8080/"
        },
        "id": "KosSKMlEhQBL",
        "outputId": "0f7da592-5617-437c-e97d-a230105e922b",
        "vscode": {
          "languageId": "python"
        }
      },
      "outputs": [
        {
          "name": "stdout",
          "output_type": "stream",
          "text": [
            "Hola mundo!\n"
          ]
        }
      ],
      "source": [
        "# Presióna el símbolo ▶️ para ejecutar el programa\n",
        "# Alternativamente podés posarte sobre ésta celda y apretar ctrl+Enter\n",
        "\n",
        "print('Hola mundo!')"
      ]
    },
    {
      "cell_type": "markdown",
      "metadata": {
        "id": "1Z8tV5ePhr-l"
      },
      "source": [
        "¡Felicitaciones! Acabás de escribir tu primer programa en Python! \n",
        "\n",
        "Pero... ¿Qué pasó??\n",
        "\n",
        "![Más despacio cerebrito](https://media1.tenor.com/images/8e79d959633363b99eed8ca1f14c8498/tenor.gif?itemid=9870240)\n",
        "\n",
        "Resumidamente: \n",
        "* El intérprete de Python que tiene Google Colab leyó nuestra línea de código, la interpretó (pues a eso se dedica) y nos devolvió el resultado de esa ejecución como un bello objeto tipo string (`str`) con el contenido \"Hola mundo!\""
      ]
    },
    {
      "cell_type": "markdown",
      "metadata": {
        "id": "vbfbJpRkwjX3"
      },
      "source": [
        "# Funciones \n",
        "\n",
        "Una **subrutina o función** es un fragmento de código el cual permite resolver una tarea específica. Si Python es un lenguaje, una función se puede pensar como un verbo o acción que realizamos sobre otro objeto (lo que le demos como entrada o *input*). Lo que hicimos acá arriba fue llamar a la función `print` para que haga lo suyo (imprimir) con el input `'Despacio, cerebrito!'`.\n",
        "\n",
        "Podemos usar funciones:\n",
        "* Escritas por nosotrxs mismxs.\n",
        "* Utilizar las que vienen en Python como el caso de `print` (estas se denominan *built-in functions* y pueden ver una lista entrando [acá](https://docs.python.org/es/3.8/library/functions.html)).\n",
        "* Hacer uso de las funciones que vienen dentro de librerías que importemos (lo veremos más adelante).\n",
        "\n",
        "<center>\n",
        "<div>\n",
        "<img src=\"https://upload.wikimedia.org/wikipedia/commons/thumb/3/3b/Function_machine2.svg/1200px-Function_machine2.svg.png\" width=\"300\" height=\"auto\"/>\n",
        "</div>\n",
        "Fuente de la imagen: https://en.wikipedia.org/wiki/Function_(mathematics) \n",
        "</center> <br><br>\n",
        "\n",
        "\n",
        "\n",
        "<center>\n",
        "<div>\n",
        "<img src=\"https://hcc-cs.weebly.com/uploads/2/4/5/3/24535251/1523299_orig.png\" width=\"450\" height=\"auto\"/>\n",
        "</div>\n",
        "Fuente de la imagen: http://hcc-cs.weebly.com/functions.html\n",
        "</center>\n",
        "\n",
        "\n",
        "\n"
      ]
    },
    {
      "cell_type": "code",
      "execution_count": null,
      "metadata": {
        "id": "nQrE4ouE-NgE",
        "vscode": {
          "languageId": "python"
        }
      },
      "outputs": [],
      "source": [
        "def TeSumo(a,b):\n",
        "  resultado = a + b\n",
        "  return resultado"
      ]
    },
    {
      "cell_type": "code",
      "execution_count": null,
      "metadata": {
        "id": "fMpaXH0LFpDA",
        "vscode": {
          "languageId": "python"
        }
      },
      "outputs": [],
      "source": [
        "# Ejecutá la función TeSumo() con dos parámetros que te gusten e imprimí el resultado\n"
      ]
    },
    {
      "cell_type": "markdown",
      "metadata": {
        "id": "GSZ6Evj2h04t"
      },
      "source": [
        "# Variables y operaciones básicas\n",
        "\n",
        "- Una variable es un nombre que se refiere a un objeto que reside en la memoria.\n",
        "- Cada variable y dato tiene asociado un **tipo**. Existen distintos tipos: *Texto*, su tipo será <font color='blue'>str</font> (por string, o cadena de caracteres), *numérica* como <font color='blue'>int</font> (número entero) o <font color='blue'>float</font> (número con coma), <font color='blue'>boolean</font> con la posibilidad de ser verdadero (*True*) o falso (*False*), entre otras.\n",
        "* Para asignar un dato a una variable utilizaremos el signo **=** de un modo diferente a como lo hacíamos en matemática. Porque no se trata de una igualdad sino de una asignación.<br>\n",
        "Ejemplo: <br>\n",
        "`variable = contenido_de_mi_variable`\n",
        "\n",
        "Esto es una asignación, por ejemplo en R podíamos hacer algo igual usando los caracteres `<-`:<br>\n",
        "`variable <- contenido_de_mi_variable`\n",
        "\n",
        "\n",
        "Esto quiere decir que reservamos un espacio de memoria llamado **variable** cuyo contenido será **contenido_de_mi_variable**\n",
        "\n",
        "**¡Ojo!** Las variables se sobreescriben y Python **no les va a avisar**."
      ]
    },
    {
      "cell_type": "code",
      "execution_count": null,
      "metadata": {
        "id": "b84qVdoMvlXu",
        "vscode": {
          "languageId": "python"
        }
      },
      "outputs": [],
      "source": [
        "variable = 1\n",
        "variable = 5\n",
        "\n",
        "print(variable)"
      ]
    },
    {
      "cell_type": "markdown",
      "metadata": {
        "id": "X8RWXvX9cRvK"
      },
      "source": [
        "Podemos preguntarle a Python cual es el tipo de variable usando la función `type`:"
      ]
    },
    {
      "cell_type": "code",
      "execution_count": null,
      "metadata": {
        "id": "-0qh_NtVcgCh",
        "vscode": {
          "languageId": "python"
        }
      },
      "outputs": [],
      "source": [
        "type(variable)"
      ]
    },
    {
      "cell_type": "markdown",
      "metadata": {
        "id": "-BQie-ABvcsz"
      },
      "source": [
        "## Tipos de datos \"clásicos\"\n",
        "\n",
        "En Python, todo valor que pueda ser asignado a una variable tiene asociado un tipo de dato. Vamos a ver los que vienen de manera nativa (no hay que instalar nada nuevo) con Python."
      ]
    },
    {
      "cell_type": "markdown",
      "metadata": {
        "id": "pUlSmhzE8ozd"
      },
      "source": [
        "### Variables de tipo *numérico* (int, float, etc)\n"
      ]
    },
    {
      "cell_type": "markdown",
      "metadata": {
        "id": "p7JwiHw5cCPJ"
      },
      "source": [
        "Dependiedo del número que tengamos Python nos puede asignar distintos tipos de datos incluso para representaciones que son exactamente el mismo número."
      ]
    },
    {
      "cell_type": "code",
      "execution_count": null,
      "metadata": {
        "id": "2aGdk-MWDBVo",
        "vscode": {
          "languageId": "python"
        }
      },
      "outputs": [],
      "source": [
        "print(type(1))\n",
        "print(type(1.0))"
      ]
    },
    {
      "cell_type": "markdown",
      "metadata": {
        "id": "ExuTfLnhf_Nj"
      },
      "source": [
        "Por supuesto que con estas variables podemos hacer toda la aritmética que se nos ocurra:"
      ]
    },
    {
      "cell_type": "code",
      "execution_count": null,
      "metadata": {
        "id": "6vx2N2M3f-y8",
        "vscode": {
          "languageId": "python"
        }
      },
      "outputs": [],
      "source": [
        "a = 1\n",
        "b = -0.234\n",
        "a-b # prueben todas las cuentas que se les ocurra!"
      ]
    },
    {
      "cell_type": "code",
      "execution_count": null,
      "metadata": {
        "id": "svuqMMDDgXcl",
        "vscode": {
          "languageId": "python"
        }
      },
      "outputs": [],
      "source": [
        "# potencias con **\n",
        "a = 2\n",
        "pot = 10\n",
        "a**pot"
      ]
    },
    {
      "cell_type": "markdown",
      "metadata": {
        "id": "ka8vCl0bgjyM"
      },
      "source": [
        "No todas las cuentas que se les pueden ocurrir se pueden hacer sin usar por ejemplo la librería `math` que nos brinda un montón de funciones muy útiles matemáticas como por ejemplo raíces (función `sqrt`) o incluso constantes como el número $\\pi$ (variable de nombre `pi`)."
      ]
    },
    {
      "cell_type": "code",
      "execution_count": null,
      "metadata": {
        "id": "nSvz8vQxgrQ1",
        "vscode": {
          "languageId": "python"
        }
      },
      "outputs": [],
      "source": [
        "# mas adelante les explicaremos bien que hace la linea de abajo\n",
        "from math import sqrt, pi\n",
        "print(sqrt(64))\n",
        "print(pi)"
      ]
    },
    {
      "cell_type": "markdown",
      "metadata": {
        "id": "L4qsK3Lh8vhG"
      },
      "source": [
        "### Variables de tipo *string*"
      ]
    },
    {
      "cell_type": "markdown",
      "metadata": {
        "id": "YmnRzKhds545"
      },
      "source": [
        "Para escribir texto/strings existen dos formas:\n",
        "\n",
        "*   Comillas simples: 'Hola'\n",
        "*   Comillas dobles: \"Hola\"\n",
        "\n",
        "Ambas son igualmente válidas, pero es importante ser consistentes en su uso (si abro con comillas dobles, cierro con dobles). \n",
        "\n",
        "Si el string está delimitado con comillas dobles, adentro se pueden usar comillas simples como caracter."
      ]
    },
    {
      "cell_type": "code",
      "execution_count": null,
      "metadata": {
        "id": "481BCYzNhzpD",
        "vscode": {
          "languageId": "python"
        }
      },
      "outputs": [],
      "source": [
        "# Definimos tres variables de tipo string (es la manera de referirse a algo que contiene texto).\n",
        "nombre = 'Juana'\n",
        "espacio = \" \"\n",
        "apellido = 'Pérez'\n",
        "print(type(espacio))\n",
        "print(type(nombre)) "
      ]
    },
    {
      "cell_type": "markdown",
      "metadata": {
        "id": "V4YgCGm1iTNs"
      },
      "source": [
        "Con los strings podemos hacer varias operaciones tambien, por ejemplo: ¡podemos sumarlos! Aunque eso no va a dar lo esperado, sino que lo que va a hacer es concatenarlos en un nuevo string más grande incluso si usamos mal las comillas."
      ]
    },
    {
      "cell_type": "code",
      "execution_count": null,
      "metadata": {
        "id": "v2JC7ekcjdnD",
        "vscode": {
          "languageId": "python"
        }
      },
      "outputs": [],
      "source": [
        "# Y ahora podemos imprimirlas en pantalla como hicimos en nuestro primer programa usando la función \"print\"\n",
        "print(nombre + espacio + apellido)"
      ]
    },
    {
      "cell_type": "markdown",
      "metadata": {
        "id": "oa-uz650irKt"
      },
      "source": [
        "Sin embargo, si queremos agregar números a nuestro string usando la suma no va a andar, miremos el siguiente ejemplo:"
      ]
    },
    {
      "cell_type": "code",
      "execution_count": null,
      "metadata": {
        "id": "KNaMOzVtpQKz",
        "vscode": {
          "languageId": "python"
        }
      },
      "outputs": [],
      "source": [
        "# Probemos con otros tipos de datos\n",
        "edad = 64\n",
        "altura = 1.59"
      ]
    },
    {
      "cell_type": "code",
      "execution_count": null,
      "metadata": {
        "id": "VAVzQ1TbpamJ",
        "vscode": {
          "languageId": "python"
        }
      },
      "outputs": [],
      "source": [
        "print(nombre + 'tiene' + edad + 'años' + 'y mide' + altura + 'metros')"
      ]
    },
    {
      "cell_type": "markdown",
      "metadata": {
        "id": "zGdKqBNFpzhC"
      },
      "source": [
        "**¡¡ERROR!!**\n",
        "\n",
        "Si queremos aprender a programar vamos a tener que aprender a lidiar con los errores y aprovecharlos para mejorar.\n",
        "\n",
        "¿Qué sucedió? Por suerte Python nos dice cuál fue el problema:\n",
        "\n",
        "*TypeError: must be str, not int*\n",
        "\n",
        "Básicamente tuvimos un <font color='red'>error de tipo</font>, tratamos de mezclar peras con manzanas. El tipo de dato que recibe la función `print` tiene que ser una cadena de caracteres (o `str`), por lo tanto al intentar meterle números provoca un error.\n",
        "\n",
        "¿La solución?\n",
        "\n",
        "Podemos **transformar** el dato número en su correspondiente dato en cadena de caracteres. Eso se hace fácilmente en Python con la función `str()`."
      ]
    },
    {
      "cell_type": "code",
      "execution_count": null,
      "metadata": {
        "id": "1oHghnZIqewT",
        "vscode": {
          "languageId": "python"
        }
      },
      "outputs": [],
      "source": [
        "# Usamos la función str() para transformar el dato de tipo numérico a tipo str (candena de caracteres o sencillamente texto).\n",
        "edad = str(64)\n",
        "altura = str(1.64)"
      ]
    },
    {
      "cell_type": "code",
      "execution_count": null,
      "metadata": {
        "id": "07e2rVyjpu_d",
        "vscode": {
          "languageId": "python"
        }
      },
      "outputs": [],
      "source": [
        "# Probamos otra vez la línea que había generado el error\n",
        "print(nombre + 'tiene' + edad + 'años' + 'y mide' + altura + 'metros')"
      ]
    },
    {
      "cell_type": "code",
      "execution_count": null,
      "metadata": {
        "id": "zDolYAV8q9cy",
        "vscode": {
          "languageId": "python"
        }
      },
      "outputs": [],
      "source": [
        "# ¡Funcionó! Aunque se ve medio feo, mejor agreguemos espacios\n",
        "print(nombre + espacio + 'tiene' + espacio + edad + espacio + 'años' + espacio + 'y mide' + espacio + altura + espacio + 'metros')"
      ]
    },
    {
      "cell_type": "code",
      "execution_count": null,
      "metadata": {
        "id": "56TKzxL6pamA",
        "vscode": {
          "languageId": "python"
        }
      },
      "outputs": [],
      "source": [
        "# Ejercicio: Lograr el mismo resultado que la celda de arriba sin utilizar la variable llamada \"espacio\".\n",
        "print(___)"
      ]
    },
    {
      "cell_type": "markdown",
      "metadata": {
        "id": "eaQL0cswGnp2"
      },
      "source": [
        "Otra solución a esto es usar la función de string formateado (`fstring()`) que consiste en poner una `f` adelante del string y poner las variables que queremos que sean reemplazadas por su valor adentro del string dentro de llaves `{}`"
      ]
    },
    {
      "cell_type": "code",
      "execution_count": null,
      "metadata": {
        "id": "TpuBc5k6GvK9",
        "vscode": {
          "languageId": "python"
        }
      },
      "outputs": [],
      "source": [
        "nombre = \"Juan\"\n",
        "age    = 32\n",
        "print(f\"hola soy {nombre}, tengo {age} años\")"
      ]
    },
    {
      "cell_type": "markdown",
      "metadata": {
        "id": "F16JVvMRmdfq"
      },
      "source": [
        "Existen múltiples funciones muy útiles que nos permiten manipular los strings, solo dejaremos algunos ejemplos y les invitamos a que busquen e investiguen que hacen estas funciones:"
      ]
    },
    {
      "cell_type": "code",
      "execution_count": null,
      "metadata": {
        "id": "fseCuECPm7VJ",
        "vscode": {
          "languageId": "python"
        }
      },
      "outputs": [],
      "source": [
        "# pasar a mayusculas/minúsculas\n",
        "texto = \" Vamos a probar algunas funciones. \"\n",
        "print(texto.lower())\n",
        "print(texto.upper())\n",
        "\n",
        "# reemplazar un caracter\n",
        "print(texto.replace(\"a\",\"e\"))\n",
        "print(texto.replace(\" \",\"-\"))\n",
        "\n",
        "# eliminar espacios al final o al principio\n",
        "print(texto.lstrip())\n",
        "print(texto.rstrip())\n",
        "\n",
        "# cortar string en base a un caracter. ¿que tipo de dato esta devolviendo?\n",
        "print(texto.split(\" \"))\n",
        "print(texto.split(\"a\"))\n",
        "print(texto.split(\"probar\"))"
      ]
    },
    {
      "cell_type": "markdown",
      "metadata": {
        "id": "TkbObGUHwWiw"
      },
      "source": [
        "### Variables de tipo *bool* o *booleanas*\n",
        "\n",
        "Puede tomar solo dos valores: True o False (¡atentis a la mayúscula!), y sirve para hacer [compuertas lógicas](https://www.logicbus.com.mx/compuertas-logicas.php).\n"
      ]
    },
    {
      "cell_type": "code",
      "execution_count": null,
      "metadata": {
        "id": "Wevws5QszeUQ",
        "vscode": {
          "languageId": "python"
        }
      },
      "outputs": [],
      "source": [
        "# Ejemplo de variables con valores booleanos\n",
        "verdadero = True\n",
        "falso = False\n",
        "\n",
        "print(type(verdadero))\n",
        "print(type(falso))"
      ]
    },
    {
      "cell_type": "markdown",
      "metadata": {
        "id": "FQdsh0DDjChr"
      },
      "source": [
        "Podemos operar como si fueran números y Python los entiende de manera intercambiable con 1 (True) y 0 (False)"
      ]
    },
    {
      "cell_type": "code",
      "execution_count": null,
      "metadata": {
        "id": "GmCJisCMjCUp",
        "vscode": {
          "languageId": "python"
        }
      },
      "outputs": [],
      "source": [
        "# suma de bools\n",
        "verdadero + falso"
      ]
    },
    {
      "cell_type": "code",
      "execution_count": null,
      "metadata": {
        "id": "fKx7w3pZzvBR",
        "vscode": {
          "languageId": "python"
        }
      },
      "outputs": [],
      "source": [
        "# Podemos comparar estas variables\n",
        "print(verdadero == 1) # Ojo: Acá estamos haciendo una comparación (==) y no una asignación(=).\n",
        "print(verdadero == falso)"
      ]
    },
    {
      "cell_type": "markdown",
      "metadata": {
        "id": "_X_XO9SH2f7H"
      },
      "source": [
        "La lista completa de operadores es:\n",
        "\n",
        "Mayor:  `a > b`\n",
        "\n",
        "Mayor o igual:  `a >= b`\n",
        "\n",
        "Menor:  `a < b`\n",
        "\n",
        "Menor o igual: `a <= b`\n",
        "\n",
        "Igual:  `a == b` (No confundir con la asignación de variables que se hace con un  solo signo <font color='green'>=</font> )\n",
        "\n",
        "Diferente: `a != b`"
      ]
    },
    {
      "cell_type": "markdown",
      "metadata": {
        "id": "RwKDQKB36Oou"
      },
      "source": [
        "Las compuertas lógicas que existen en Python son las siguientes: \n",
        "\n",
        "\n",
        "*  <font color='green'>and</font> : Es el \"y\" o la conjunción\n",
        "*  <font color='green'>or</font> : es el \"o\" o la disyunción \n",
        "*  <font color='green'>not</font> : es el \"no\" o la negación\n",
        "\n",
        "Y al utilizarlos obtenemos los siguientes resultados:\n",
        "\n",
        "* El resultado de **or** es verdadero cuando al menos uno de los operandos lo es.\n",
        "* El resultado de **and** es verdadero solo cuando ambos operandos lo son.\n",
        "* El operador **not** invierte el valor del operando.\n",
        "  \n",
        "\n",
        "\n",
        "\n"
      ]
    },
    {
      "cell_type": "code",
      "execution_count": null,
      "metadata": {
        "id": "gNI8DkxI3avW",
        "vscode": {
          "languageId": "python"
        }
      },
      "outputs": [],
      "source": [
        "# Vamos a pensar estos ejemplos juntxs\n",
        "\n",
        "primero = 1\n",
        "segundo = 2\n",
        "tercero = 3\n",
        "\n",
        "# ¿Cuál es el resultado? ¿True o False?"
      ]
    },
    {
      "cell_type": "code",
      "execution_count": null,
      "metadata": {
        "id": "G0Dgppr7IH3c",
        "vscode": {
          "languageId": "python"
        }
      },
      "outputs": [],
      "source": [
        "print(primero == segundo or primero == primero)\n"
      ]
    },
    {
      "cell_type": "code",
      "execution_count": null,
      "metadata": {
        "id": "mJXANbo6IJNa",
        "vscode": {
          "languageId": "python"
        }
      },
      "outputs": [],
      "source": [
        "print(primero < segundo and segundo > tercero)\n"
      ]
    },
    {
      "cell_type": "code",
      "execution_count": null,
      "metadata": {
        "id": "uF1h3TH4IKXT",
        "vscode": {
          "languageId": "python"
        }
      },
      "outputs": [],
      "source": [
        "print(not(primero == primero))"
      ]
    },
    {
      "cell_type": "markdown",
      "metadata": {
        "id": "bwNo1lQW83X7"
      },
      "source": [
        "**¿Qué sucedió?**\n",
        "\n",
        "<div>\n",
        "<img src=\"https://i.pinimg.com/originals/9a/1b/fa/9a1bfa80bc1ddc61f4fc28af06d9bc0f.png\" width=\"80\" height=\"auto\"/>\n",
        "</div>\n",
        "\n",
        "\n",
        "1. Caso 1: primero == segundo es falso, pero primero == primero es verdadero. Como falso **or** verdadero da verdadero, ese será el primer resultado.\n",
        "\n",
        "2. Caso 2: primero efectivamente es menor que segundo (da True), pero segundo no es mayor que tercero (False), por lo que la True **and** False da False.\n",
        "\n",
        "3. Caso 3: primero efectivamente es igual a sí mismo, pero como estamos aplicando el operador **not**, obtenemos False como resultado."
      ]
    },
    {
      "cell_type": "markdown",
      "metadata": {
        "id": "VuuJaYF33bBZ"
      },
      "source": [
        "Todavía puede que no se vea la gran utilidad de esta lógica, pero es indispensable para lograr cosas interesantes programando."
      ]
    },
    {
      "cell_type": "markdown",
      "metadata": {
        "id": "qy8TZ3mK-L4U"
      },
      "source": [
        "### Tipos Iterables\n",
        "\n",
        "Un iterador es un objeto que cuando se le llama, devuelve el siguiente elemento en la secuencia, cuando no queda nada para ser devuelto, lanza una excepción y se detiene la iteración.\n",
        "\n",
        "Algunos objetos iterables son las <font color='green'>listas</font>, las <font color='green'>tuplas</font>, los <font color='green'>sets</font> los <font color='green'>diccionarios</font> y los <font color='green'>strings</font>. En particular, las **listas** son un objeto que contiene elementos de cualquier tipo y es mutable (se puede modificar) y esta ordenado.\n",
        "\n",
        "Una función importante que recibe un iterable como input es `len()` , la cual devuelve la cantidad de elementos."
      ]
    },
    {
      "cell_type": "code",
      "execution_count": null,
      "metadata": {
        "id": "LJXTD4wk93p5",
        "vscode": {
          "languageId": "python"
        }
      },
      "outputs": [],
      "source": [
        "# Lista con elementos de igual tipo\n",
        "soy_una_lista_del_mismo_tipo = [1,2,3]\n",
        "\n",
        "# Lista con elementos de distinto tipo\n",
        "soy_una_lista_de_distintos_tipos = [1,'hola',3.5]\n",
        "\n",
        "print(soy_una_lista_del_mismo_tipo)\n",
        "print(soy_una_lista_de_distintos_tipos)\n"
      ]
    },
    {
      "cell_type": "code",
      "execution_count": null,
      "metadata": {
        "id": "i9UD3-qQI2Mc",
        "vscode": {
          "languageId": "python"
        }
      },
      "outputs": [],
      "source": [
        "###### EJERCICIO #######\n",
        "\n",
        "# ¿Largo de soy_una_lista_del_mismo_tipo? ¿Cómo lo obtengo?\n",
        "\n",
        "# ¿Largo de soy_una_lista_de_distintos_tipos?\n"
      ]
    },
    {
      "cell_type": "markdown",
      "metadata": {
        "id": "FV7OpPoJqmtZ"
      },
      "source": [
        "Los **diccionarios** son estructuras que tienen la forma:\n",
        "\n",
        "`{KEY: VALUE}` o `{KEY1: VALUE1, KEY2: VALUE2, ...}` \n",
        "\n",
        "Las `keys` son nombres que nos permiten acceder a los distintos valores almacenados. Funcionan de manera similar a las listas pero en este caso, cada posición de los diccionarios tienen asignado un nombre y no una posición (no \"existe\" el primer elemento, segundo, etc.), es decir que la diferencia entre listas y diccionarios es que los primeros estan *ordenados* mientras que los segundos no. \n",
        "\n",
        "Existen multiples maneras de crear diccionarios, acá les dejamos algunas funciones básicas y les invitamos a buscar más:"
      ]
    },
    {
      "cell_type": "code",
      "execution_count": null,
      "metadata": {
        "id": "IFoMP6DaJc36",
        "vscode": {
          "languageId": "python"
        }
      },
      "outputs": [],
      "source": [
        "# Ejemplos de diccionarios\n",
        "diccionario = {\"nombres\": [\"Juan\",\"María\"],\n",
        "               \"apellidos\": [\"Perez\",\"fernández\"],\n",
        "               \"documento\": [\"12345678\", \"87654321\"],\n",
        "               \"creador_dict\": \"Juan Perez\"}"
      ]
    },
    {
      "cell_type": "code",
      "execution_count": null,
      "metadata": {
        "id": "QUpDBb1AJ7cw",
        "vscode": {
          "languageId": "python"
        }
      },
      "outputs": [],
      "source": [
        "# Puedo acceder a todos los \"values\" de la key \"nombres\"\n",
        "diccionario[\"nombres\"]"
      ]
    },
    {
      "cell_type": "code",
      "execution_count": null,
      "metadata": {
        "id": "17o-CWavKCcv",
        "vscode": {
          "languageId": "python"
        }
      },
      "outputs": [],
      "source": [
        "# También puedo ver todas las \"keys\" y todos los \"values\"\n",
        "print(f\"Keys: {diccionario.keys()}\")\n",
        "print(f\"Valores: {diccionario.values()}\")"
      ]
    },
    {
      "cell_type": "code",
      "execution_count": null,
      "metadata": {
        "id": "SjxvtVSVszn_",
        "vscode": {
          "languageId": "python"
        }
      },
      "outputs": [],
      "source": [
        "# Podemos incluso esos mismos pasarlos a listas usando la sentencia list ya que sino tiene un tipo particular\n",
        "print(type(diccionario.keys()))\n",
        "print(list(diccionario.keys()))"
      ]
    },
    {
      "cell_type": "markdown",
      "metadata": {
        "id": "Sgkab0LDtvdF"
      },
      "source": [
        "Existe un último iterable que usaremos mucho que es el `range` que nos permite construir *rangos* que contienen los valores consecutivos como se los definamos desde un principio a un fin (sin incluirlo) cada ciertos pasos."
      ]
    },
    {
      "cell_type": "code",
      "execution_count": null,
      "metadata": {
        "id": "RxPYQ_SXt7Qy",
        "vscode": {
          "languageId": "python"
        }
      },
      "outputs": [],
      "source": [
        "# Para poder visualizarlo hay que pasarlo a lista sino solo nos dira que es un rango\n",
        "# armar un rango de 0 a 10\n",
        "print(range(0,10))\n",
        "print(list(range(0,10)))\n",
        "\n",
        "# armar un rango de 0 a 10 de a saltos de a 2\n",
        "print(range(0,10,2))\n",
        "print(list(range(0,10,2)))\n",
        "\n",
        "# armar un rango del 10 al 0\n",
        "print(range(10,0,-1))\n",
        "print(list(range(10,0,-1)))"
      ]
    },
    {
      "cell_type": "markdown",
      "metadata": {
        "id": "yDF6xCno802X"
      },
      "source": [
        "## Otros tipos \n",
        "\n",
        "Algunas librerias pueden generar sus propios tipos. Está bueno conocerlos porque el buen funcionamiento de las librerías se basa en usar sus tipos.\n",
        "\n",
        "En este curso vamos a ver algunos tipos de las librerías `pandas` y `numpy`\n",
        "\n",
        "Tipos importantes para pandas:\n",
        "- dataframe\n",
        "- series\n",
        "\n",
        "Tipos importantes para numpy:\n",
        "- array\n",
        "\n"
      ]
    },
    {
      "cell_type": "markdown",
      "metadata": {
        "id": "g2GslfyvdLwb"
      },
      "source": [
        "# Listas\n",
        "\n",
        "Las listas son de las estructuras mas utilizadas en Python ya que son muy flexibles y nos permiten modificarlas en el lugar."
      ]
    },
    {
      "cell_type": "code",
      "execution_count": null,
      "metadata": {
        "id": "5MYVYgNvE_YG",
        "vscode": {
          "languageId": "python"
        }
      },
      "outputs": [],
      "source": [
        "# Podemos calcular su longitud como ya vismos con len\n",
        "listita = [1,2,3.1,\"?\"]\n",
        "print(listita)\n",
        "print(f\"Mi listita mide {len(listita)}\")\n",
        "\n",
        "# Podemos modificar las listas agregando elementos al final usando append\n",
        "listita.append(1)\n",
        "print(listita)\n",
        "print(f\"Mi listita mide {len(listita)}\")\n",
        "\n",
        "# Podemos incluso agregarle una lista a la lista!\n",
        "otra_listita = [-1, \"3\"]\n",
        "listita.append(otra_listita)\n",
        "print(listita)\n",
        "print(f\"Mi listita mide {len(listita)}\")\n",
        "\n",
        "# Si sumamos listas las concatemos\n",
        "otra_listita_distinta = listita + otra_listita\n",
        "print(otra_listita_distinta)\n",
        "print(f\"Mi listita mide {len(otra_listita_distinta)}\")"
      ]
    },
    {
      "cell_type": "markdown",
      "metadata": {
        "id": "QeFRIWlRt4tl"
      },
      "source": [
        "## Indexing\n",
        "Algo muy importante sobre este tipo de datos es entender como accedo a algún elemento en particular de los que la componen. Esto se llama indexación (o indexing en inglés).\n",
        "\n",
        "En Python el primer elemento es el elemento <strong><font color= 'green' > 0 </font></strong> y de ahí contamos hasta uno menos de lo que contaríamos con los dedos.\n",
        "\n",
        "O sea, si tengo 5 cosas voy del 0 al 4.\n",
        "\n",
        "Existen 2 maneras de acceder a los elementos:\n",
        "1. Comenzando desde el 0 en el primer elemento y sumando de a 1.\n",
        "2. Comenzando desde el -1 en el último elemento y restando de a 1.\n",
        "\n",
        "<img src=\"https://i.ibb.co/YdvDKjP/python-indexing.png\" alt=\"python-indexing\" width=\"300\" height=\"auto\">\n",
        "\n",
        "En Python se utilizan los corchetes (<strong><font color= 'green' > [ ] </font></strong>) para hacer la indexación.\n",
        "\n",
        "\n",
        "\n"
      ]
    },
    {
      "cell_type": "code",
      "execution_count": null,
      "metadata": {
        "id": "O5NAWC_Uwkyh",
        "vscode": {
          "languageId": "python"
        }
      },
      "outputs": [],
      "source": [
        "mi_string = 'PYTHON'\n",
        "mi_listita = ['pan', 'aceite', 'dentifrico', 'jabon','galletitas', 'vinagre', 'sal']\n"
      ]
    },
    {
      "cell_type": "code",
      "execution_count": null,
      "metadata": {
        "id": "zYGXAJbeDcv7",
        "vscode": {
          "languageId": "python"
        }
      },
      "outputs": [],
      "source": [
        "# Revisamos el tamaño del string\n",
        "len(mi_string)"
      ]
    },
    {
      "cell_type": "code",
      "execution_count": null,
      "metadata": {
        "id": "d2RjLEuEDmTI",
        "vscode": {
          "languageId": "python"
        }
      },
      "outputs": [],
      "source": [
        "# -y el tamaño de la lista\n",
        "len(mi_listita)"
      ]
    },
    {
      "cell_type": "code",
      "execution_count": null,
      "metadata": {
        "id": "8zzdzU_JxC8J",
        "vscode": {
          "languageId": "python"
        }
      },
      "outputs": [],
      "source": [
        "mi_listita[1]\n"
      ]
    },
    {
      "cell_type": "code",
      "execution_count": null,
      "metadata": {
        "id": "9aAKSh860Zzf",
        "vscode": {
          "languageId": "python"
        }
      },
      "outputs": [],
      "source": [
        "mi_string[-1]"
      ]
    },
    {
      "cell_type": "code",
      "execution_count": null,
      "metadata": {
        "id": "YcB_TyWmwrJZ",
        "vscode": {
          "languageId": "python"
        }
      },
      "outputs": [],
      "source": [
        "# Ejercicio: Demostrar por medio de una comparacion lógica que los elementos 0 y -6 del string 'PYTHON' son el mismo. \n"
      ]
    },
    {
      "cell_type": "markdown",
      "metadata": {
        "id": "0pPetVCMjO-G"
      },
      "source": [
        "## Slicing 🔪 (o como cortar tu iterable)\n",
        "\n",
        "El slicing (rebanar?) es la técnica utilizada para quedarse con un subconjunto de los elementos de un iterable.\n",
        "\n",
        "En python para hacer esto se utilizan los corchetes como en la indexación pero además los dos puntos para designar el subconjunto.\n",
        "\n",
        "Es importante resaltar que la indexación incluye al primer elemento pero no al último, sino que evalúa uno antes.\n",
        "\n",
        "O sea que nos quedaría algo como lo siguiente:\n",
        "\n",
        "`iterable[comienzo, fin - 1]`\n",
        "\n",
        "Si no declara un número de comienzo o de fin, por defecto se utiliza el comienzo o el final del iterable.\n",
        "\n",
        "En todos los casos, la evalución es de izquierda a derecha.\n",
        "\n",
        "Veamos algunos ejemplos:"
      ]
    },
    {
      "cell_type": "code",
      "execution_count": null,
      "metadata": {
        "id": "Blz3PjMe1XQp",
        "vscode": {
          "languageId": "python"
        }
      },
      "outputs": [],
      "source": [
        "#formas de devolver todos los elementos\n",
        "# mi_string[:]\n",
        "# mi_string[0:]\n",
        "# mi_string[:6]\n",
        "mi_string[0:6]"
      ]
    },
    {
      "cell_type": "code",
      "execution_count": null,
      "metadata": {
        "id": "cszSmZP35B2Z",
        "vscode": {
          "languageId": "python"
        }
      },
      "outputs": [],
      "source": [
        "#Lo mismo vale para otros iterables, como una lista\n",
        "\n",
        "# Anteultimo y antepenúltimo elemento de la lista (elementos 4 y 5)\n",
        "# mi_listita[4:6]\n",
        "\n",
        "# O su equivalente con la indexación negativa\n",
        "# mi_listita[-3:-1]\n"
      ]
    },
    {
      "cell_type": "code",
      "execution_count": null,
      "metadata": {
        "id": "vt4oKXsK3c2o",
        "vscode": {
          "languageId": "python"
        }
      },
      "outputs": [],
      "source": [
        "# Ejercicio: Devolver los elementos de higiene personal de mi_listita\n",
        "\n",
        "mi_listita = ['pan', 'aceite', 'dentifrico', 'jabon','galletitas', 'vinagre', 'sal']\n",
        "\n"
      ]
    },
    {
      "cell_type": "markdown",
      "metadata": {
        "id": "1nxguZILDVke"
      },
      "source": [
        "# Estructura de control (Condicionales): if, elif, else\n",
        "Las palabras reservadas `if` (si condicional), `elif` (*else if*, sino) y `else` (de última [ *la traducción podría o no ser literal* ]) nos permiten ejecutar diferentes líneas de código dependiendo de si una condición previa es verdadera (True) o no lo es (False).\n",
        "\n",
        "¡Esta es una de las aplicaciones de los booleanos!\n",
        "\n",
        "# `if`, `elif` y `else` siempre se colocan en ese orden. Solamente se ejecuta uno de ellos, el que corresponde primero que sea True. Si uno resulta True, Python lo ejecuta y no evalúa las siguientes condiciones.\n",
        "\n",
        "Empieza por el `if`, y luego los `elif` en orden descendente. Si ninguno de ellos es verdadero, el `else` por defecto lo será.\n",
        "<center>\n",
        "<div>\n",
        "<img src=\"https://i.ibb.co/hCB8YQq/if-flow.png\" width=\"400\" height=\"auto\"/>\n",
        "</div>\n",
        "</center>\n",
        "\n",
        "Cuando nuestro programa llega al condicional (**Inicio**), en ese momento se evalúa nuestra condición: si el resultado es verdadero (True) seguiremos por la rama izquierda y se ejecutará el código correspondiente (**Si la condición se cumple**), si al evaluarla el resultado es falso (False) lo hará el código correspondiente a la rama derecha (**Si la condición no se cumple**) y posteriormente el condicional terminará (**Fin**).\n",
        "\n",
        "\n"
      ]
    },
    {
      "cell_type": "code",
      "execution_count": null,
      "metadata": {
        "id": "GK_sa7CzvKjg",
        "vscode": {
          "languageId": "python"
        }
      },
      "outputs": [],
      "source": [
        "# If\n",
        "valor = 15\n",
        "\n",
        "if (valor > 10):\n",
        "    print('El valor es mayor que 10')"
      ]
    },
    {
      "cell_type": "code",
      "execution_count": null,
      "metadata": {
        "id": "gvwBDUjDvBe4",
        "vscode": {
          "languageId": "python"
        }
      },
      "outputs": [],
      "source": [
        "# If-else\n",
        "nombre = 'Pedro'\n",
        "\n",
        "if (nombre == 'Juan'):\n",
        "    print('Esta persona se llama Juan')\n",
        "else:\n",
        "    print('Esta persona NO se llama Juan')"
      ]
    },
    {
      "cell_type": "markdown",
      "metadata": {
        "id": "nUgRtcbsK7H8"
      },
      "source": [
        "## Identación (CUIDADO) ⚠\n",
        "A diferencia de otros lenguajes, como R (abre y cierra con llaves) o MATLAB (cierra con \"end\"), el inicio y fin de una estructura de control está dado por la indentación (espacios antes de comenzar a escribir). \n",
        "\n",
        "Si le pifiamos a la indentación, Python se enoja (IndentatioError) 😠. Hay que ser consistentes en todo nuestro código o en el caso de las notebooks adentro de cada celda de código."
      ]
    },
    {
      "cell_type": "code",
      "execution_count": null,
      "metadata": {
        "id": "-67gh-6sLNQc",
        "vscode": {
          "languageId": "python"
        }
      },
      "outputs": [],
      "source": [
        "# Código bien indentado\n",
        "\n",
        "cantidad_de_faltas = 51\n",
        "\n",
        "if cantidad_de_faltas > 50:\n",
        "  print(f'Tenés {cantidad_de_faltas} faltas')\n",
        "  print('Oops, te quedaste libre!')\n",
        "\n",
        "# Si la condición del if es False, no se va a ejecutar nada."
      ]
    },
    {
      "cell_type": "code",
      "execution_count": null,
      "metadata": {
        "id": "1LLwbF4LEDOJ",
        "vscode": {
          "languageId": "python"
        }
      },
      "outputs": [],
      "source": [
        "# Código mal indentado\n",
        "\n",
        "cantidad_de_faltas = 51\n",
        "\n",
        "if cantidad_de_faltas > 50:\n",
        "  print(f'Tenés {cantidad_de_faltas} faltas')\n",
        " print('Oops, te quedaste libre!')"
      ]
    },
    {
      "cell_type": "code",
      "execution_count": null,
      "metadata": {
        "id": "x-6Z0WE02vxE",
        "vscode": {
          "languageId": "python"
        }
      },
      "outputs": [],
      "source": [
        "# Podemos tener if y elif (tantos elif como queramos) sin else\n",
        "# y de nuevo, si todos son falsos no se va a ejecutar nada\n",
        "\n",
        "edad = 5\n",
        "\n",
        "if 18 < edad < 65  :\n",
        "  print('Adulte')\n",
        "elif edad > 65:\n",
        "  print('Anciane')"
      ]
    },
    {
      "cell_type": "code",
      "execution_count": null,
      "metadata": {
        "id": "AGR3Vz8-2rsX",
        "vscode": {
          "languageId": "python"
        }
      },
      "outputs": [],
      "source": [
        "# Podemos combinar diferentes condiciones utilizando or, and\n",
        "dia = 'sabado'\n",
        "\n",
        "if dia == 'sabado' or dia == 'domingo': \n",
        "  print('Trabajo igual porque estoy haciendo un doctorado!') "
      ]
    },
    {
      "cell_type": "markdown",
      "metadata": {
        "id": "g6QxTWXwDN26"
      },
      "source": [
        "# Estructura de control (Ciclos): While y For\n"
      ]
    },
    {
      "cell_type": "markdown",
      "metadata": {
        "id": "2uIUpXf2wXCC"
      },
      "source": [
        "## While\n",
        "El ciclo (bucle o *loop*) `while` es un ciclo repetitivo que continúa mientras el resultado de una expresión lógica sea verdadero (True).\n",
        "\n",
        "<img src=\"https://i.ibb.co/98rnmNV/Flow-Diagram-do-while-loop.jpg\" alt=\"Flow-Diagram-do-while-loop\" width=\"600\" height=\"auto\">\n",
        "\n",
        "Cuando nuestro programa llega al condicional (**Inicio del ciclo While**), en ese momento se evalúa nuestra condición: si el resultado es verdadero (True) seguiremos por la rama izquierda y se ejecutará el código correspondiente (**Si la condición se cumple**), si al evaluarla el resultado es falso (False) lo hará el código correspondiente a la rama derecha (**Si la condición no se cumple**) y posteriormente el condicional terminará (**Fin**)."
      ]
    },
    {
      "cell_type": "code",
      "execution_count": null,
      "metadata": {
        "id": "2JYMAMnSDNOz",
        "vscode": {
          "languageId": "python"
        }
      },
      "outputs": [],
      "source": [
        "#Ejemplo de ciclo de ciclo while\n",
        "\n",
        "# Iniciamos un contador de manzanas\n",
        "cantidad_de_manzanas = 10\n",
        "\n",
        "while cantidad_de_manzanas > 0: # Mientras se cumpla esta condición ejecuto el código de abajo\n",
        "  print('me como una manzana')\n",
        "  cantidad_de_manzanas = cantidad_de_manzanas - 1 # Decrementamos el contador en 1\n",
        "  print('me quedan ' + str(cantidad_de_manzanas) + ' manzanas')\n",
        "\n",
        "print('Ya me comí todas') #Cuando salgo del While ejecuto esta línea que no está tabulada \n",
        "\n",
        "  "
      ]
    },
    {
      "cell_type": "code",
      "execution_count": null,
      "metadata": {
        "id": "KWDHxbKwT8pZ",
        "vscode": {
          "languageId": "python"
        }
      },
      "outputs": [],
      "source": [
        "# Atentes a este, van a tener que frenar la ejecución a mano tocando en el botón ⏹️ \n",
        "# Hay que ser cuidadosos con los ciclos que siempre cumplen la condición porque pueden agotar toda la memoria y llevar a errores.\n",
        "numero_de_iteracion = 0\n",
        "while True:\n",
        "  numero_de_iteracion = numero_de_iteracion + 1\n",
        "  print('Soy un ciclo infinito')\n",
        "  print('Iteración número: ' + str(numero_de_iteracion))\n",
        "print('Finalizo el ciclo') # Nunca salgo del ciclo así que esto jamás se va a ejecutar"
      ]
    },
    {
      "cell_type": "code",
      "execution_count": null,
      "metadata": {
        "id": "n2jfKbpc4Ylq",
        "vscode": {
          "languageId": "python"
        }
      },
      "outputs": [],
      "source": [
        "##### Ejercicio #####\n",
        "# contruir un ciclo while que cuente días del 1 al 10 y cuando llegue a 10 imprima un mensaje que diga \"Pasaron 10 días!\"\n",
        "dia = ___\n",
        "\n",
        "while ___:\n",
        "  ______\n"
      ]
    },
    {
      "cell_type": "markdown",
      "metadata": {
        "id": "tEPOWZPFwblY"
      },
      "source": [
        "## For\n",
        "El bucle `for` es una estructura de control en programación en la que se puede indicar de antemano el número máximo de iteraciones."
      ]
    },
    {
      "cell_type": "code",
      "execution_count": null,
      "metadata": {
        "id": "Y-3L88qEAK6l",
        "vscode": {
          "languageId": "python"
        }
      },
      "outputs": [],
      "source": [
        "# Ejemplo de ciclo for\n",
        "amigues = ['Carla', 'Nicolás', 'Eusebio', 'Hermenegilda']\n",
        "\n",
        "for amigue in amigues: # Itero sobre cada 'amigue', es decir, sobre cada elemento de la lista 'amigues'\n",
        "  print('Hola ' + amigue)"
      ]
    },
    {
      "cell_type": "markdown",
      "metadata": {
        "id": "1-FTltVZpcxf"
      },
      "source": [
        "En general podremos usar la sentencia `for` con cualquier iterable `ITER` usando la estructura `for VAR in ITER` donde `VAR` es el nombre que tendra cada elemento dentro del ciclo."
      ]
    },
    {
      "cell_type": "code",
      "execution_count": null,
      "metadata": {
        "id": "a1vnIM4NNn3k",
        "vscode": {
          "languageId": "python"
        }
      },
      "outputs": [],
      "source": [
        "# Otro ciclo for pero con condiciones dentro del mismo\n",
        "\n",
        "numeros = [1,2,3,4,5,6,7,8]\n",
        "\n",
        "for numero in numeros:\n",
        "  if numero > 4:\n",
        "    print(str(numero) + ' es mayor a 4')\n",
        "  elif numero == 4:\n",
        "    print(str(numero) + ' es igual a 4')\n",
        "  else:\n",
        "    print(str(numero) + ' es menor a 4')"
      ]
    },
    {
      "cell_type": "markdown",
      "metadata": {
        "id": "mgNwTwJxpfOn"
      },
      "source": [
        "Este es un ejemplo adorable de `for` loop (pseudocódigo en R) por [Allison Horst](https://twitter.com/allison_horst/status/1290774616038809600/photo/1).\n",
        "\n",
        "<img src='https://pbs.twimg.com/media/Eem_Mp_U4AAkHMj?format=jpg&name=4096x4096' width=\"600\" height=\"auto\">"
      ]
    }
  ],
  "metadata": {
    "colab": {
      "collapsed_sections": [],
      "include_colab_link": true,
      "provenance": []
    },
    "kernelspec": {
      "display_name": "Python 3",
      "name": "python3"
    }
  },
  "nbformat": 4,
  "nbformat_minor": 0
}

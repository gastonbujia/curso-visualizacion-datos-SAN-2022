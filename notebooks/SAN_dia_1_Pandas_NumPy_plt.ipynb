{
  "cells": [
    {
      "cell_type": "markdown",
      "metadata": {
        "colab_type": "text",
        "id": "view-in-github"
      },
      "source": [
        "<a href=\"https://colab.research.google.com/github/gastonbujia/curso-visualizacion-datos-SAN-2022/blob/main/notebooks/SAN_dia_1_Pandas_NumPy_plt.ipynb\" target=\"_parent\"><img src=\"https://colab.research.google.com/assets/colab-badge.svg\" alt=\"Open In Colab\"/></a>"
      ]
    },
    {
      "cell_type": "markdown",
      "metadata": {
        "id": "xC2KRyZ1nVKq"
      },
      "source": [
        "# Introducción\n",
        "\n",
        "**DÍA 1 - Curso de Procesamiento y Visualización de Datos con Python - SAN 2022**\n",
        "\n",
        "<img src=\"https://user-images.githubusercontent.com/23127315/192603622-464afd75-0267-48d0-8534-30ae80aca7fb.png\">\n",
        "\n",
        "## ¡Hola! Pongamos manos en la data :)\n",
        "\n",
        "<!-- <img src = \"https://media.giphy.com/media/1kkxWqT5nvLXupUTwK/giphy.gif\"> -->"
      ]
    },
    {
      "cell_type": "markdown",
      "metadata": {
        "id": "8QaHOF3c4VWF"
      },
      "source": [
        "## Instalando cosas en Google Colab\n",
        "\n",
        "Nos permite utilizar la línea de comandos de la computadora que estamos utilizando en la nube. Si chequean qué computadora están usando, van a ver que están corriendo en Linux! (**aprendan Linux**)\n",
        "\n",
        "Para eso necesitamos anteponer el caracter **!** antes del comando que queremos ejecutar.\n",
        "\n",
        "Una de las principales utilidades "
      ]
    },
    {
      "cell_type": "code",
      "execution_count": null,
      "metadata": {
        "id": "AYYSCUC--a7i"
      },
      "outputs": [],
      "source": [
        "!cat /etc/os-release"
      ]
    },
    {
      "cell_type": "code",
      "execution_count": null,
      "metadata": {
        "id": "KBx9ny8U4xmK"
      },
      "outputs": [],
      "source": [
        "# Averiguar la version de Python que está corriendo\n",
        "!python --version"
      ]
    },
    {
      "cell_type": "code",
      "execution_count": null,
      "metadata": {
        "id": "RW9IfQTY472U"
      },
      "outputs": [],
      "source": [
        "#Instalar una librería que no venga instalada\n",
        "!pip install miLibreriaLoca"
      ]
    },
    {
      "cell_type": "markdown",
      "metadata": {
        "id": "eyRdol_z5FED"
      },
      "source": [
        "## Todo muy lindo pero... ¿Qué son las librerías?\n",
        "\n",
        "<center>\n",
        "<img width=\"500\" height=\"auto\" src=\"https://blog-c7ff.kxcdn.com/blog/wp-content/uploads/2017/01/ML_Lie-01-compressed.jpg\"> \n",
        "<p>Fuente: https://blog-c7ff.kxcdn.com/blog/wp-content/uploads/2017/01/ML_Lie-01-compressed.jpg </p>\n",
        "</center>\n",
        "\n"
      ]
    },
    {
      "cell_type": "markdown",
      "metadata": {
        "id": "JVpsmVvOqx28"
      },
      "source": [
        "## Importando las librerías\n",
        "\n",
        "* Importar una librería es como ir a buscar la caja de herramientas y ponerla sobre una mesa de trabajo lista para que su contenido sea utilizado.\n",
        "\n",
        "* Las librerías (del inglés *library* que significa biblioteca pero nadie les dice así) son bloques de código que están agrupados para cumplir una función o conjunto de funciones.\n",
        "\n",
        "* En este caso vamos a hacer uso de las siguientes:\n",
        "  * **Numpy**: Librería para álgebra lineal. Nos permitirá, entre otras cosas, utilizar arreglos (*arrays*) y por lo tanto potenciar nuetras capacidades matemáticas. \n",
        "  * **Pandas** : Para trabajar con *data frames*, un tipo de dato similar a una tabla de excel. Necesita a Numpy para funcionar.\n",
        "  * **matplotlib**: Para realizar gráficos y visualizaciones en general.\n",
        "  * **scipy** : Para análisis estadístico."
      ]
    },
    {
      "cell_type": "code",
      "execution_count": null,
      "metadata": {
        "id": "weZWbVdx_cyC"
      },
      "outputs": [],
      "source": [
        "# Sintaxis para importar librerias, el \"as\" es una manera de definirla con un nombre más sencillo, pero no es obligatorio.\n",
        "# Normalmente habría que instalarlas en nuestra compu, pero vienen ya instaladas en las compus donde Google Colab está corriendo nuestro código.\n",
        "import numpy as np\n",
        "import pandas as pd\n",
        "import matplotlib.pyplot as plt\n",
        "from scipy import stats"
      ]
    },
    {
      "cell_type": "markdown",
      "metadata": {
        "id": "aiC5WgCPJJ_j"
      },
      "source": [
        "# El ecosistema de datos de Python\n",
        "\n",
        "<center>\n",
        "<img width=\"600\" height=\"auto\" src=\"https://atrebas.github.io/images/python.png\">\n",
        "</center>\n",
        "\n",
        "## **Para ver la documentación oficial pueden clickear sobre el logo de cada una más abajo**"
      ]
    },
    {
      "cell_type": "markdown",
      "metadata": {
        "id": "QRkYfDh8CjzT"
      },
      "source": [
        "## Numpy en (poco más de) 5 minutos\n",
        "\n",
        "<a href= 'https://numpy.org/doc/'>\n",
        "<img width=\"250\" height=\"auto\" src=\"https://upload.wikimedia.org/wikipedia/commons/3/31/NumPy_logo_2020.svg\"> </a>\n",
        "\n",
        "Esta es la librería que le proporciona a Python con toda una batería de funciones y estructura para hacer cálculos de forma más eficiente. Entre las cosas que nos proporciona, la principal es un nuevo tipo de dato que se llama arreglo o **array** que posee las siguientes características:\n",
        "\n",
        " 1. Puede guardar elementos como en una lista y la manera de acceder a ellos es similar.\n",
        " 2. Permite realizar operaciones entre arreglos, cosa que en una lista no es posible.\n",
        " 2. Es mucho más rápido por cuestiones de eficiencia en el uso de la memoria.\n",
        " 3. Es la base de todo el ecosistema de librerías científicas de Python.\n",
        "\n",
        "<center>\n",
        "<img width=\"500\" height=\"auto\" src=\"https://i.stack.imgur.com/Tbe9W.png\"> \n",
        "<p>Fuente: https://medium.com/@mo000007/numpy-for-beginners-19d64e164df6 </p>\n",
        "</center>\n",
        "\n",
        "\n",
        "\n"
      ]
    },
    {
      "cell_type": "markdown",
      "metadata": {
        "id": "irbvYkFe5vBd"
      },
      "source": [
        "### Numpy Arrays"
      ]
    },
    {
      "cell_type": "code",
      "execution_count": null,
      "metadata": {
        "id": "eKE4u3qmHrQh"
      },
      "outputs": [],
      "source": [
        "# Creando arrays\n",
        "\n",
        "# Array de 1 dimensión en numpy\n",
        "array_1D = np.array([7,2,9,0])\n",
        "# print(array_1D)\n",
        "\n",
        "# Array 2D en numpy\n",
        "array_2D = np.array([[5.2, 3.0, 4.5], [9.1, 0.1,0.3]])\n",
        "# print(array_2D)\n",
        "\n",
        "# Creando arrays de \"ceros\" de la dimension que uno quiera\n",
        "ceros = np.zeros((2,3,2)) \n",
        "# print(zeros)\n",
        "\n",
        "# Creando arrays de \"unos\" de la dimension que uno quiera\n",
        "unos = np.ones((4,2)) \n",
        "# print(unos)"
      ]
    },
    {
      "cell_type": "code",
      "execution_count": null,
      "metadata": {
        "id": "Rc2Dm-6jMeLp"
      },
      "outputs": [],
      "source": [
        "# Tamaño del array en formato (filas,columnas si es matriz)\n",
        "array_2D.shape"
      ]
    },
    {
      "cell_type": "code",
      "execution_count": null,
      "metadata": {
        "id": "A_KtxZ-c8S7y"
      },
      "outputs": [],
      "source": [
        "# Vamos a complicarla un poco\n",
        "array_3D = np.array([[[1,2,3],[7,8,9]],[[4,5,6],[1,2,3]]])\n",
        "print(array_3D)\n",
        "print(f\"Tamaños del array 3d: {array_3D.shape}\")"
      ]
    },
    {
      "cell_type": "markdown",
      "metadata": {
        "id": "3TmtzqQ554kQ"
      },
      "source": [
        "Como las listas podemos slicearlos! Para eso recurriremos a indicar que fila o columna o dimensión queremos seleccions o cuales usando `:`"
      ]
    },
    {
      "cell_type": "code",
      "execution_count": null,
      "metadata": {
        "id": "PlpexavltbKT"
      },
      "outputs": [],
      "source": [
        "# Slicing\n",
        "\n",
        "arreglo_2D = np.arange(12).reshape(4,3)\n",
        "# arange es la versión de range de numpy pero que nos deja usar pasos decimales (en range son solo enteros)\n",
        "# reshape nos cambia la forma de un array con las dimensions pedidas (4 filas y 3 columnas en este caso)\n",
        "print(arreglo_2D)\n",
        "\n",
        "# Descomenten para ir viendo que sucede en cada caso\n",
        "print(arreglo_2D[1,:])\n",
        "# print(arreglo_2D[1,2])\n",
        "# print(arreglo_2D[:,0])\n",
        "# print(arreglo_2D[0:2,:])\n",
        "# print(arreglo_2D[0:1,0:1])"
      ]
    },
    {
      "cell_type": "markdown",
      "metadata": {
        "id": "aZWrS3TR5xyD"
      },
      "source": [
        "### Operaciones"
      ]
    },
    {
      "cell_type": "code",
      "execution_count": null,
      "metadata": {
        "id": "Mi7-MIxVNlrv"
      },
      "outputs": [],
      "source": [
        "# Operaciones\n",
        "\n",
        "# Multiplicación por un escalar\n",
        "cuatros = unos * 4\n",
        "cincos = unos * 5\n",
        "print(cincos)\n",
        "\n",
        "# suma\n",
        "print(f\"Resultado de la suma:\\n {cuatros + cincos}\")\n",
        "\n",
        "# producto matricial usando @ o matmul\n",
        "c = np.array([[0,-1,1],[1,1,0]])\n",
        "print(f\"Resultado del producto:\\n {cincos@c}\")\n",
        "# usamos .T para calcular la traspuesta\n",
        "print(f\"Resultado de 4's por 5's:\\n {np.matmul(cuatros.T, cincos)}\")"
      ]
    },
    {
      "cell_type": "markdown",
      "metadata": {
        "id": "CXYad1zw8F7z"
      },
      "source": [
        "Por último te dejamos algunas funciones que operan sobre `arrays` para que explores su funcionamiento.\n",
        "\n",
        "**Observación**: notar que muchas funcionalidades se puede escribir equivalentemente como `np.una_funcion(arreglo)` o `arreglo.una_funcion()`. En programación le decimos *función* en el primer caso y *método* en el segundo. Pero no se preocupen, con ambas maneras de escribirlas obtendrán los mismo resultados."
      ]
    },
    {
      "cell_type": "code",
      "execution_count": null,
      "metadata": {
        "id": "H9cYjVt98Gpn"
      },
      "outputs": [],
      "source": [
        "un_arreglo = np.array([-200,2,5,17,1,95])\n",
        "print(un_arreglo.min())\n",
        "print(un_arreglo.max())\n",
        "\n",
        "# abs calcula el valor absoluto\n",
        "un_arreglo_abs = np.abs(un_arreglo)\n",
        "print(np.min(un_arreglo_abs))\n",
        "print(np.max(un_arreglo_abs))"
      ]
    },
    {
      "cell_type": "code",
      "execution_count": null,
      "metadata": {
        "id": "j_T48JSQAVrQ"
      },
      "outputs": [],
      "source": [
        "# # Prueben ir descomentando y viendo que hacen estas celdas\n",
        "# arreglo = np.arange(12)\n",
        "# print(arreglo)\n",
        "# np.random.shuffle(arreglo)\n",
        "# print(arreglo)\n",
        "# arreglo = arreglo.reshape((4,-1))\n",
        "# print(arreglo)"
      ]
    },
    {
      "cell_type": "markdown",
      "metadata": {
        "id": "Nu15As8R49Sm"
      },
      "source": [
        "### Broadcasting\n",
        "\n",
        "Hay que tener **mucho cuidado** cuando operemos con arrays ya que cuando las dimensiones no coinciden, Numpy nos permite, bajo ciertas condiciones, hacer la cuenta igual realizando una operación que se conoce como *Broadcasting* y no tiraría error. No vamos a entrar en detalles de como funciona esto pero pueden encontrar más información [aquí](https://numpy.org/doc/stable/user/basics.broadcasting.html).\n",
        "\n",
        "![](https://numpy.org/doc/stable/_images/broadcasting_2.png)"
      ]
    },
    {
      "cell_type": "markdown",
      "metadata": {
        "id": "Y4L7llBAv0Iu"
      },
      "source": [
        "## Pandas en (seguro que más de) 5 minutos\n",
        "\n",
        "<a href= 'https://pandas.pydata.org/docs/'>\n",
        "<img width=\"250\" height=\"auto\" src=\"https://upload.wikimedia.org/wikipedia/commons/thumb/e/ed/Pandas_logo.svg/1200px-Pandas_logo.svg.png\"> <img width=\"250\" height=\"auto\" src=\"https://i.pinimg.com/originals/ce/d4/d9/ced4d9f94106ac92584305410bc72427.gif\"> </a>\n",
        "\n",
        "\n",
        "\n",
        "Nos proporciona un nuevo tipo de dato que se llama *dataframe*:\n",
        "\n",
        " 1. Tiene una estructura parecida a una hoja de cálculo tipo Excel.\n",
        " 2. Funciona utilizando Numpy.\n",
        " 2. Es una herramienta muy poderosa para manejar conjuntos de datos o *data sets* .\n",
        "\n",
        "<center>\n",
        "<img width=\"500\" height=\"auto\" src=\"https://bookdata.readthedocs.io/en/latest/_images/base_01_pandas_5_0.png\"> \n",
        "<p>Fuente: https://bookdata.readthedocs.io/en/latest/base/01_pandas.html </p>\n",
        "</center>\n",
        "\n"
      ]
    },
    {
      "cell_type": "markdown",
      "metadata": {
        "id": "Cho6AX0i6lqm"
      },
      "source": [
        "### Series y DataFrames\n",
        "\n",
        "Estas son las dos estructuras básicas de Pandas que utilizaremos. Las `series` son equivalentes a un array de una dimensión, es decir como las columnas de los dataframes"
      ]
    },
    {
      "cell_type": "code",
      "execution_count": null,
      "metadata": {
        "id": "3d1Jj2ccIXei"
      },
      "outputs": [],
      "source": [
        "pd.Series(['Buenos Aires', 'Rosario', 'Cordoba'])"
      ]
    },
    {
      "cell_type": "markdown",
      "metadata": {
        "id": "GcfG03BoIe1N"
      },
      "source": [
        " Los objetos de `DataFrame` pueden crearse al enviar un `dict` que asigne nombres de columnas de `string` a sus `Series` correspondientes. Si las `Series` no coinciden con la longitud, los valores que falten se completan con valores [NA/NaN](http://pandas.pydata.org/pandas-docs/stable/missing_data.html) especiales. Ejemplo:"
      ]
    },
    {
      "cell_type": "code",
      "execution_count": null,
      "metadata": {
        "id": "wsnKggxIIhjQ"
      },
      "outputs": [],
      "source": [
        "# Definimos columnas usando series\n",
        "states     = pd.Series(['Buenos Aires', 'Santa Fe', 'Cordoba'])\n",
        "population = pd.Series([3075646, 3536418, 3760450])\n",
        "\n",
        "provincias = pd.DataFrame({ 'Nombre de prov.': states, 'Poblacion': population })\n",
        "provincias"
      ]
    },
    {
      "cell_type": "markdown",
      "metadata": {
        "id": "2L2dasjgIoQh"
      },
      "source": [
        "También las podemos crear a partir de una lista de listas y pasarle los nombres de las filas (`Index`) y columnas."
      ]
    },
    {
      "cell_type": "code",
      "execution_count": null,
      "metadata": {
        "id": "hr80KlkwGk91"
      },
      "outputs": [],
      "source": [
        "df = pd.DataFrame([[1,2],[3,4],[5,6]],['Fila1','Fila2','Fila3'],['Col1','Col2'])\n",
        "df"
      ]
    },
    {
      "cell_type": "code",
      "execution_count": null,
      "metadata": {
        "id": "VEDW32pBNWBj"
      },
      "outputs": [],
      "source": [
        "# Podemos ver el indice que es un tipo especial de dato que nos puede llegar a permitir incluso manejar indices temporales o multinivel\n",
        "df.index"
      ]
    },
    {
      "cell_type": "markdown",
      "metadata": {
        "id": "jUj4IZIoNihh"
      },
      "source": [
        "Si por alguna razón queremos tener un índice nuevo podemos hacerlo con el método `reset_index` que nos convertirá el indice en una nueva columna"
      ]
    },
    {
      "cell_type": "code",
      "execution_count": null,
      "metadata": {
        "id": "TXZleyQzNi7m"
      },
      "outputs": [],
      "source": [
        "# Sin cambiar el indice original\n",
        "df.reset_index()"
      ]
    },
    {
      "cell_type": "code",
      "execution_count": null,
      "metadata": {
        "id": "kbNFoC9bNwoY"
      },
      "outputs": [],
      "source": [
        "# Veamos que no lo cambio al original\n",
        "print(df.index)\n",
        "\n",
        "# Si lo queremos cambiar le podmos pasar el parámetro inplace \n",
        "#df.reset_index(inplace=True)"
      ]
    },
    {
      "cell_type": "markdown",
      "metadata": {
        "id": "CMSYJ9Y2MtCk"
      },
      "source": [
        "Existen luego múltiples maneras de acceder a cada lugar del dataframe o extraer columnas o filas. Ejemplos:"
      ]
    },
    {
      "cell_type": "code",
      "execution_count": null,
      "metadata": {
        "id": "-eKXVmjkMrTw"
      },
      "outputs": [],
      "source": [
        "# Utilizando el nombre de la columna\n",
        "df['Col1']\n",
        "\n",
        "# Utilizando el nombre de la columna opcion 2\n",
        "#df.Col1"
      ]
    },
    {
      "cell_type": "code",
      "execution_count": null,
      "metadata": {
        "id": "VXbZujap5uzm"
      },
      "outputs": [],
      "source": [
        "# Indexing con loc e iloc\n",
        "\n",
        "df = pd.DataFrame([[1,2],[3,4],[5,6]],['Fila1','Fila2','Fila3'],['Col1','Col2'])\n",
        "\n",
        "# Por numero con el .iloc - formato filas,columnas\n",
        "\n",
        "# Primera fila, segunda columna\n",
        "# df.iloc[0,1]\n",
        "\n",
        "# Segunda fila, todas las columnas\n",
        "# df.iloc[1,:]\n",
        "\n",
        "\n",
        "# Por nombre con .loc\n",
        "# df.loc[indice_de_fila,indice_de_columna]\n",
        "\n",
        "# Accediendo a una fila\n",
        "# df.loc['Fila1', :]\n",
        "\n",
        "# Accediendo a una columna\n",
        "# df.loc[:, 'Col2']\n",
        "\n",
        "# Accediendo a un valor\n",
        "# df.loc['Fila1', 'Col2']\n"
      ]
    },
    {
      "cell_type": "markdown",
      "metadata": {
        "id": "qXPI_WTrPxen"
      },
      "source": [
        "Podemos crear, eliminar y operar con las columnas de manera bastante sencilla."
      ]
    },
    {
      "cell_type": "code",
      "execution_count": null,
      "metadata": {
        "id": "xoqCIa11EMe9"
      },
      "outputs": [],
      "source": [
        "# Además podemos crear columnas que no existan\n",
        "provincias['Superficie(km2)'] = [205.9, 164707.8 , 133249.1]\n",
        "provincias"
      ]
    },
    {
      "cell_type": "code",
      "execution_count": null,
      "metadata": {
        "id": "C4mEwL_8EYAW"
      },
      "outputs": [],
      "source": [
        "# Podemos operar con columnas lugar a lugar\n",
        "provincias['Densidad'] = provincias['Poblacion'] / provincias['Superficie(km2)']\n",
        "provincias"
      ]
    },
    {
      "cell_type": "markdown",
      "metadata": {
        "id": "r5xbhAy7QIeE"
      },
      "source": [
        "Asi también usando `drop` e indicando el eje podemos \"dropear\" o eliminar columnas o filas."
      ]
    },
    {
      "cell_type": "code",
      "execution_count": null,
      "metadata": {
        "id": "8aRi4sKeN1Qu"
      },
      "outputs": [],
      "source": [
        "# Eliminando una columna o una fila\n",
        "\n",
        "# df.drop('NombreDeLaColumnaAEliminar', axis=1) # axis = 0 para filas, axis = 1 para columnas\n",
        "df.drop('Fila2', axis = 0) # axis = 0 para filas"
      ]
    },
    {
      "cell_type": "code",
      "execution_count": null,
      "metadata": {
        "id": "_o50OqJWvK_L"
      },
      "outputs": [],
      "source": [
        "# Veamos cómo queda\n",
        "df"
      ]
    },
    {
      "cell_type": "code",
      "execution_count": null,
      "metadata": {
        "id": "l8TUsE3qOruJ"
      },
      "outputs": [],
      "source": [
        "# Ooopss se ve igual?\n",
        "# Ojo: Si no ponemos el parametro inplace=True los cambios no se van a guardar\n",
        "df.drop('Fila2', axis = 0, inplace = True) # axis = 0 para filas"
      ]
    },
    {
      "cell_type": "code",
      "execution_count": null,
      "metadata": {
        "id": "8j_rYCYIO4Xt"
      },
      "outputs": [],
      "source": [
        "df"
      ]
    },
    {
      "cell_type": "markdown",
      "metadata": {
        "id": "dp7_zG50ABRk"
      },
      "source": [
        "### Funciones básicas\n",
        "\n",
        "Existe todo un universo de funciones y cosas que podemos llegar a hacer con los dataframes e iremos introduciendolas una a una algunas de ellas a medida que las necesitemos pero daremos algunas que son elementales y utilizaremos mucho."
      ]
    },
    {
      "cell_type": "code",
      "execution_count": null,
      "metadata": {
        "id": "N5eMoyJxPrcb"
      },
      "outputs": [],
      "source": [
        "# Crearemos un dataset de juguete\n",
        "df = pd.DataFrame(dict(Genero=['M', 'F', 'M', 'F','F',\n",
        "                               'F', 'M', 'M', 'F','M'],\n",
        "                       Provincia=['CBA','SFE', 'BA', 'BA', 'CBA',\n",
        "                              'CABA', 'SFE', 'SFE', 'CBA', 'CABA'],\n",
        "                       Edad=[19,29,17,63,38,\n",
        "                             34,22,59,62,47],\n",
        "                       Ingresos=[69200, 132500, 38400, 225500, 158750,\n",
        "                                 78600, np.nan, 147000, 98600, 108250]))\n",
        "df"
      ]
    },
    {
      "cell_type": "code",
      "execution_count": null,
      "metadata": {
        "id": "4IoMIgGLpwl9"
      },
      "outputs": [],
      "source": [
        "# Ver que valores tiene cada columna y cuantos\n",
        "print(df['Provincia'].unique())\n",
        "print(\"De cada provincia hay:\")\n",
        "print(df['Provincia'].value_counts())"
      ]
    },
    {
      "cell_type": "code",
      "execution_count": null,
      "metadata": {
        "id": "YORlwMnVqJ0A"
      },
      "outputs": [],
      "source": [
        "# Ordenar por valores según una columna\n",
        "df.sort_values('Ingresos')\n",
        "\n",
        "# Si queremos ordenarlo de manera descendente necesitamos usar la opcion ascending = false\n",
        "#iris.sort_values('petal_width', ascending = False)\n",
        "\n",
        "# Si queremos guardarlo ordenado necesitamos usar la opcion inplace = true"
      ]
    },
    {
      "cell_type": "code",
      "execution_count": null,
      "metadata": {
        "id": "Rs3R9a4uPsEr"
      },
      "outputs": [],
      "source": [
        "# Suma, promedio y desvio de una columna\n",
        "print('Suma de ingresos:')\n",
        "print(df['Ingresos'].sum())\n",
        "print('Promedio de ingresos:')\n",
        "print(df['Ingresos'].mean())\n",
        "print('Desvío de ingresos:')\n",
        "print(df['Ingresos'].std())"
      ]
    },
    {
      "cell_type": "code",
      "execution_count": null,
      "metadata": {
        "id": "lhvsVEDVPsPN"
      },
      "outputs": [],
      "source": [
        "# Podemos fijarnos por ejemplo si alguna columna tiene un valor faltante (NaN) encadenando isna y sum\n",
        "df.isna().sum()"
      ]
    },
    {
      "cell_type": "code",
      "execution_count": null,
      "metadata": {
        "id": "oWTel4njPset"
      },
      "outputs": [],
      "source": [
        "# Si queremos por ejemplo aplicar alguna función o transformación podemos usar la función apply o map\n",
        "# armar una nueva columna que sea el resultado de una función (es mejor con groupby pero sirve de ejemplo)\n",
        "df['Edad'].apply(float)\n"
      ]
    },
    {
      "cell_type": "code",
      "execution_count": null,
      "metadata": {
        "id": "Jn70sb6kQlpA"
      },
      "outputs": [],
      "source": [
        "# Pueden usar sus propias funciones y aplicarlas solo a filas (axis=0) o columnas (axis=1)\n",
        "def mifun(fila):\n",
        "  \"\"\"\n",
        "  Esto es un docstring! Sirve para describir que hacen nuestras funciones. En este caso armamos una funcion que toma una fila del dataframe y extrae\n",
        "  las variables de nuestro interes y nos dice si un sujeto de nuestro dataframe tiene ingresos altos o bajos\n",
        "  \"\"\"\n",
        "  ingresos = fila['Ingresos']\n",
        "  provincia = fila['Provincia']\n",
        "  if (provincia == 'CABA' and ingresos > 200000) or ingresos >150000:\n",
        "    return 'Alto'\n",
        "  elif (provincia == 'CABA' and ingresos < 80000) or ingresos < 50000:\n",
        "    return 'Bajo'\n",
        "  else:\n",
        "    return 'Medio'\n",
        "\n",
        "# Miren que paso con el valor faltante, ¿como lo corregirian? \n",
        "df['Tipo de ingresos']=df.apply(mifun, axis=1)\n",
        "df"
      ]
    },
    {
      "cell_type": "markdown",
      "metadata": {
        "id": "8liDmlf4oz9n"
      },
      "source": [
        "### Group By\n",
        "\n",
        "La función `groupby` es muy útil, nos permite dividir según categorias o valores el dataframe y aplicar distintas métricas por grupos y de esta manera crear tablas comparativas. Les recomendamos que miren la documentación al respecto: [tutorial](https://pandas.pydata.org/docs/user_guide/groupby.html), acá vamos a dar solo algunos ejemplos sencillos."
      ]
    },
    {
      "cell_type": "code",
      "execution_count": null,
      "metadata": {
        "id": "yfKa2TKqPsV-"
      },
      "outputs": [],
      "source": [
        "# Podemos calcular medidas resumen por grupos para una columna\n",
        "metrics = ['count', 'min', 'max', 'mean','std']\n",
        "tabla1  = df.groupby(by='Tipo de ingresos').agg(metrics)\n",
        "tabla1"
      ]
    },
    {
      "cell_type": "code",
      "execution_count": null,
      "metadata": {
        "id": "EA8q9R7aTeMc"
      },
      "outputs": [],
      "source": [
        "# Podemos usar mas de una columna\n",
        "tabla2 = df.groupby(['Genero','Provincia'])['Ingresos'].agg([min, max])  \n",
        "tabla2\n",
        "\n",
        "# Distintas medidas\n",
        "#tabla2 = df.groupby(['Genero','Provincia']).agg({'Ingresos': 'mean', 'Edad':'median'})\n",
        "#tabla2\n",
        "\n",
        "# Podemos ponerle nombres\n",
        "#tabla2 = df.groupby(['Genero','Provincia']).agg(media_ingresos=('Ingresos','mean'), edad_mediana=('Edad','median'))\n",
        "#tabla2"
      ]
    },
    {
      "cell_type": "code",
      "execution_count": null,
      "metadata": {
        "id": "mUGXfgUzVAS0"
      },
      "outputs": [],
      "source": [
        "# Podemos tambien aplicar una transformación por grupo facilmente usando transform\n",
        "df['Media por prov'] = df.groupby('Provincia')['Ingresos'].transform('mean')\n",
        "df"
      ]
    },
    {
      "cell_type": "markdown",
      "metadata": {
        "id": "TJvj1i24AWWi"
      },
      "source": [
        "## Librerías gráficas\n",
        "\n",
        "Hoy al final de la clase vamos a ver algo de gráficos, pero lo fuerte va a ser la clase que viene\n",
        "\n",
        "Vamos a ver una introducción a la librería clásica [matplotlib](https://matplotlib.org/stable/tutorials/introductory/pyplot.html) y [seaborn](https://seaborn.pydata.org/examples/index.html). Ambas librerías son muy amplias y permiten hacer muchas cosas por lo iremos cubriendo los temas más básicos clase a clase.\n",
        "\n",
        "Existen otras librerías que nos permiten hacer cosas similares a las que hace `ggplot` como son [Plotly](https://plotly.com/python/), [Bokeh](https://docs.bokeh.org/en/latest/) o [PlotNine](https://plotnine.readthedocs.io/en/stable/). Sin embargo no entraremos en detalles en ninguna de ellas.\n"
      ]
    },
    {
      "cell_type": "markdown",
      "metadata": {
        "id": "0mz3cGJstYHo"
      },
      "source": [
        "# ¡Manos a la data!\n",
        "\n",
        "Vamos a trabajar con los datos de un experimento online muy sencillo que involucra percepción y tiempos de reaccción.\n",
        "\n",
        "Pueden probarlo entrando [acá](https://blc773s5ko.cognition.run/)\n",
        "\n",
        "* La tarea consistía en presionar la tecla <STRONG><font color=orange>J</font></STRONG> si aparecía en la pantalla un círculo naranja y la tecla <STRONG><font color=blue>F</font></STRONG> si aparecía un círculo azul. Los estímulos aparecían solo durante una fracción de segundo.\n",
        "<br><br>\n",
        "<center>\n",
        "<img width=\"500\" height=\"auto\" src=\"https://miro.medium.com/max/729/1*KBXJ2QKaHUgrxLZaHxuksA.png\"> \n",
        "<p>Fuente: https://www.jspsych.org/tutorials/rt-task/</p>\n",
        "</center>\n",
        "\n"
      ]
    },
    {
      "cell_type": "markdown",
      "metadata": {
        "id": "A7Ho3iQ84Tzv"
      },
      "source": [
        "## Diferentes formas de cargar los datos\n",
        "\n",
        "Tenemos múltiples maneras de cargar los datos en Google Colab, podemos usar el menú interactivo que esta a la izquierda de la pantalla o podemos usar la librería de que nos provee Google para *montar* nuestra unidad de Drive. "
      ]
    },
    {
      "cell_type": "code",
      "execution_count": null,
      "metadata": {
        "id": "ooWsd1ApUvlp"
      },
      "outputs": [],
      "source": [
        "# Montar nuestro Drive, va a salir un pop-up que nos va a pedir autorizacion\n",
        "from google.colab import drive, files\n",
        "drive.mount('/content/drive')"
      ]
    },
    {
      "cell_type": "markdown",
      "metadata": {
        "id": "msayC0UTmVEt"
      },
      "source": [
        "![image.png](data:image/png;base64,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)"
      ]
    },
    {
      "cell_type": "code",
      "execution_count": null,
      "metadata": {
        "id": "BM_rns20k0xH"
      },
      "outputs": [],
      "source": [
        "# Otra manera: habilitar un botón para cargar desde nuestra computadora los archivos \n",
        "uploaded = files.upload()"
      ]
    },
    {
      "cell_type": "markdown",
      "metadata": {
        "id": "Je3auXOf4Zua"
      },
      "source": [
        "## Cargamos nuestro archivo\n",
        "\n",
        "Existen [muuuuchas formas](https://pandas.pydata.org/docs/user_guide/io.html) de cargar datos a Pandas dependiendo del formato de origen (incluso existe un método para cargar desde archivos *.sav* de SPSS)\n",
        "\n",
        "Normalemente vamos a querer generar un dataframe a partir de un archivo de Excel o un [CSV](https://es.wikipedia.org/wiki/Valores_separados_por_comas)\n"
      ]
    },
    {
      "cell_type": "code",
      "execution_count": null,
      "metadata": {
        "id": "YnVtWROy_3FM"
      },
      "outputs": [],
      "source": [
        "# Creamos nuestro DataFrame con los datos de nuestro experimento\n",
        "df = pd.read_csv('https://raw.githubusercontent.com/gastonbujia/curso-visualizacion-datos-SAN-2022/main/data/data_dia_1.csv')"
      ]
    },
    {
      "cell_type": "code",
      "execution_count": null,
      "metadata": {
        "id": "4uhw8blVZf--"
      },
      "outputs": [],
      "source": [
        "# Dimensiones descriptas en formato (filas, columnas)\n",
        "df.shape"
      ]
    },
    {
      "cell_type": "code",
      "execution_count": null,
      "metadata": {
        "id": "q3zw4C_QDuBV"
      },
      "outputs": [],
      "source": [
        "print(df.columns)"
      ]
    },
    {
      "cell_type": "code",
      "execution_count": null,
      "metadata": {
        "id": "krm6lg4ybs6M"
      },
      "outputs": [],
      "source": [
        "# También lo podríamos haber obtenido así individualmente\n",
        "\n",
        "print(df['trial_index'].dtypes)\n",
        "print(df['rt'].dtypes)\n",
        "print(df['stimulus'].dtypes)\n",
        "print(df['test_part'].dtypes)\n",
        "print(df['correct'].dtypes)  "
      ]
    },
    {
      "cell_type": "code",
      "execution_count": null,
      "metadata": {
        "id": "rjZ8uqdxAy8K"
      },
      "outputs": [],
      "source": [
        "# Miramos los primeros 5 valores\n",
        "df.head()"
      ]
    },
    {
      "cell_type": "code",
      "execution_count": null,
      "metadata": {
        "id": "gczVHsR7w40E"
      },
      "outputs": [],
      "source": [
        "# También podemos mirar las últimas filas\n",
        "df.tail()"
      ]
    },
    {
      "cell_type": "code",
      "execution_count": null,
      "metadata": {
        "id": "ofclV2vzzEmL"
      },
      "outputs": [],
      "source": [
        "# Comando para estadísticas básicas\n",
        "df.describe()"
      ]
    },
    {
      "cell_type": "code",
      "execution_count": null,
      "metadata": {
        "id": "WwKo0EDFA5HM"
      },
      "outputs": [],
      "source": [
        "# Obtenemos información, en particular nos interesa conocer el tipo de datos\n",
        "df.info()"
      ]
    },
    {
      "cell_type": "code",
      "execution_count": null,
      "metadata": {
        "id": "g1trnFuJyk5m"
      },
      "outputs": [],
      "source": [
        "# Exploremos los tiempos de respuesta\n",
        "df['rt'].plot(kind='hist', bins=20, title='tiempos de respuesta (ms)');\n",
        "plt.xlabel('rt');"
      ]
    },
    {
      "cell_type": "markdown",
      "metadata": {
        "id": "7SPHdIoYyMOW"
      },
      "source": [
        "## ¿Cómo se comparan los RT entre azules y naranjas?"
      ]
    },
    {
      "cell_type": "code",
      "execution_count": null,
      "metadata": {
        "id": "CwaHftGhz2Mw"
      },
      "outputs": [],
      "source": [
        "# Filtro los tiempos de respuesta para estímulos naranjas y creo una nueva columna para ellos\n",
        "df['rt_naranjas'] = df[df['stimulus'] == 'img/orange.png']['rt']\n",
        "\n",
        "df.head()"
      ]
    },
    {
      "cell_type": "code",
      "execution_count": null,
      "metadata": {
        "id": "-AuuXfwXEBD-"
      },
      "outputs": [],
      "source": [
        "# Filtro los tiempos de respuesta para estímulos azules y creo una nueva columna para ellos\n",
        "\n",
        "# Ejercicio!\n",
        "# df['rt_azules'] = ___\n",
        "# df['rt_azules']\n"
      ]
    },
    {
      "cell_type": "code",
      "execution_count": null,
      "metadata": {
        "id": "WXilVe5B9onL"
      },
      "outputs": [],
      "source": [
        "# Preparo los naranjas y azules para utilizarlos eliminando los NaN y\n",
        "# asegurándome de que los valores sean tipo numérico.\n",
        "naranjas = df['rt_naranjas'].dropna()\n",
        "azules = df['rt_azules'].dropna()"
      ]
    },
    {
      "cell_type": "code",
      "execution_count": null,
      "metadata": {
        "id": "05p_g9_5Rj_G"
      },
      "outputs": [],
      "source": [
        "#Histograma de naranjas\n",
        "df['rt_naranjas'].plot(kind='hist', color='orange')\n"
      ]
    },
    {
      "cell_type": "code",
      "execution_count": null,
      "metadata": {
        "id": "zM26xQ2aR5XY"
      },
      "outputs": [],
      "source": [
        "#Histograma de azules\n",
        "df['rt_azules'].plot(kind='hist', color='blue')\n"
      ]
    },
    {
      "cell_type": "code",
      "execution_count": null,
      "metadata": {
        "id": "nk7xrqviQn_T"
      },
      "outputs": [],
      "source": [
        "# Los dos gráficos en una misma \n",
        "df['rt_naranjas'].plot(kind='hist',bins=20, color='orange', legend=True, title='rt para azules y naranjas (ms)');\n",
        "df['rt_azules'].plot(kind='hist', bins=25, color='blue', legend=True);\n",
        "\n"
      ]
    },
    {
      "cell_type": "code",
      "execution_count": null,
      "metadata": {
        "id": "hl96yDkpetsf"
      },
      "outputs": [],
      "source": [
        "# Boxplot para los azules\n",
        "df.boxplot(column=['rt_azules'])"
      ]
    },
    {
      "cell_type": "code",
      "execution_count": null,
      "metadata": {
        "id": "t9ukNBSse1Uz"
      },
      "outputs": [],
      "source": [
        "# Boxplot para los naranjas\n",
        "df.boxplot(column=['rt_naranjas'])"
      ]
    },
    {
      "cell_type": "code",
      "execution_count": null,
      "metadata": {
        "id": "0lsPQV1Ze6ac"
      },
      "outputs": [],
      "source": [
        "df['rt_azules'].dropna().values"
      ]
    },
    {
      "cell_type": "code",
      "execution_count": null,
      "metadata": {
        "id": "vanGwSrOMFwL"
      },
      "outputs": [],
      "source": [
        "# Ahora usando matplotlib pongamos los dos en el mismo gráfico!\n",
        "import matplotlib.pyplot as plt\n",
        "\n",
        "\n",
        "data = [df['rt_azules'].dropna().values,\n",
        "        df['rt_naranjas'].dropna().values]\n",
        "\n",
        "fig1, panel = plt.subplots()\n",
        "panel.set_title('Tiempo de reacción')\n",
        "panel.boxplot(data)\n",
        "\n",
        "# Etiqueta eje x \n",
        "panel.set_xticklabels(['azules', 'naranjas'])\n",
        "\n",
        "# Estilo y colores de las cajas\n",
        "bp = panel.boxplot(data, patch_artist = True) \n",
        "colors = ['#0000FF',  '#f44611'] \n",
        "  \n",
        "for patch, color in zip(bp['boxes'], colors): \n",
        "    patch.set_facecolor(color) \n",
        "\n",
        "# Estilos de los puntos \n",
        "for flier in bp['fliers']: \n",
        "    flier.set(marker ='x', \n",
        "              color ='#e7298a', \n",
        "              alpha = 0.5) \n",
        "    \n",
        "# Color y grosor de las líneas que marcan las medianas \n",
        "for median in bp['medians']: \n",
        "    median.set(color ='black', \n",
        "               linewidth = 3) \n",
        "# Mostrar el gráfico\n",
        "plt.show()"
      ]
    },
    {
      "cell_type": "markdown",
      "metadata": {
        "id": "d8Ay1_KH0JEy"
      },
      "source": [
        "## ¿Hay diferencias significativas entre el RT de naranjas vs. azules?"
      ]
    },
    {
      "cell_type": "code",
      "execution_count": null,
      "metadata": {
        "id": "qcEbC4E8E76M"
      },
      "outputs": [],
      "source": [
        "# Hacemos un  t-test de naranjas vs. azules\n",
        "from scipy import stats\n",
        "\n",
        "[tvalue,pvalue] = stats.ttest_ind(naranjas, azules)\n",
        "\n",
        "print('El t valor es: ', tvalue)\n",
        "print('El p valor es: ', pvalue)\n",
        "\n",
        "if float(pvalue) > 0.05:\n",
        "  print('El test no es estadísticamente significativo :(')\n",
        "else:\n",
        "  print('El test es estadísticamente significativo! :D') "
      ]
    },
    {
      "cell_type": "markdown",
      "metadata": {
        "id": "w4nI_AlR0WZU"
      },
      "source": [
        "## **Ejercicio**:\n",
        "\n",
        "¿Hay diferencias significativas entre el RT de respuestas correctas vs. incorrectas?"
      ]
    },
    {
      "cell_type": "code",
      "execution_count": null,
      "metadata": {
        "id": "swnIbr120drU"
      },
      "outputs": [],
      "source": [
        "# RT de respuestas correctas\n",
        "df['correctas'] = ___"
      ]
    },
    {
      "cell_type": "code",
      "execution_count": null,
      "metadata": {
        "id": "BIXziSfE0iJX"
      },
      "outputs": [],
      "source": [
        "# RT de respuestas incorrectas\n",
        "df['incorrectas'] = ___"
      ]
    },
    {
      "cell_type": "code",
      "execution_count": null,
      "metadata": {
        "id": "7Y5wkOdO0qdU"
      },
      "outputs": [],
      "source": [
        "# Visualización: ¿qué gráfico elegimos?\n"
      ]
    },
    {
      "cell_type": "code",
      "execution_count": null,
      "metadata": {
        "id": "_A_vdfNQ0zEU"
      },
      "outputs": [],
      "source": [
        "# Genial. Ahora hagamos un test estadístico para ver si las diferencias son significativas o no\n"
      ]
    },
    {
      "cell_type": "markdown",
      "metadata": {
        "id": "9ONYeqn-RrK6"
      },
      "source": [
        "# Para saber más...\n",
        "\n",
        "### Algunas librerías para estadística:\n",
        "\n",
        "\n",
        "*   [StatModels para modelos estadísticos](https://www.statsmodels.org/)\n",
        "\n",
        "*   [Pingouin-stats otra opción para estadística](https://pingouin-stats.org/)\n",
        "\n",
        "*   [Scikit-learn para Machine Learning](https://scikit-learn.org/stable/)\n",
        "\n",
        "\n",
        "\n"
      ]
    },
    {
      "cell_type": "markdown",
      "metadata": {
        "id": "W6Ce7B5qIfFK"
      },
      "source": [
        "# Matplotlib en 5 minutos\n",
        "\n",
        "<a href = https://pandas.pydata.org/docs/>\n",
        "<img width=\"250\" height=\"auto\" src='https://matplotlib.org/_static/logo2_compressed.svg'> </a>\n",
        "\n",
        "1. Nos permitirá realizar gráficos y visualizaciones en general.\n",
        "2. Es una herramienta indispensable para explorar los datos y comunicar información.\n",
        "3. No es la única librería de Python para hacer gráficos, otra muy utilizada es Seaborn que corre sobre ella.\n",
        "\n",
        "<center>\n",
        "<img width=\"700\" height=\"auto\" src='https://datascienceplus.com/wp-content/uploads/2018/07/Data-Visualization-1.png'>\n",
        "\n",
        "Fuente: https://datascienceplus.com/matplotlib-library-tutorial-with-examples-python/\n",
        "</center><br>\n",
        "\n",
        "Ejemplos de uso: \n",
        "* [Galería de Matplotlib](https://matplotlib.org/3.3.3/gallery/index.html)\n",
        "* [The Python Graph Gallery (no solo matplotlib)](https://www.python-graph-gallery.com/)\n",
        "\n"
      ]
    },
    {
      "cell_type": "code",
      "execution_count": null,
      "metadata": {
        "id": "HisZ2CsIKUcB"
      },
      "outputs": [],
      "source": [
        "dia = [1,2,3,4,5,6,7,8,9]\n",
        "ganas_de_estudiar = [10,9,8,7,6,5,4,3,2]\n",
        "\n",
        "# Gráfico de línea\n",
        "plt.plot(dia, ganas_de_estudiar, linestyle = 'dashed')\n",
        "plt.show()\n",
        "\n",
        "# Scatter plot\n",
        "plt.scatter(dia, ganas_de_estudiar, color = 'red')\n",
        "plt.show()\n",
        "\n",
        "# Gráfico de barras con labels\n",
        "plt.bar(dia, ganas_de_estudiar)\n",
        "plt.xlabel('Día')\n",
        "plt.ylabel('Ganas de estudiar')\n",
        "plt.title('¿¿Cuándo se termina el año??')\n",
        "plt.show()\n"
      ]
    },
    {
      "cell_type": "code",
      "execution_count": null,
      "metadata": {
        "id": "ZakMl5UJYV3J"
      },
      "outputs": [],
      "source": [
        "# Para guardar un grafico\n",
        "root_dir = '/content/'\n",
        "nombre_del_grafico = 'mi_grafiquito.jpeg'\n",
        "path_imagen = root_dir + nombre_del_grafico\n",
        "plt.savefig(path_imagen, dpi = 500)\n",
        "\n",
        "# Gráfico de barras con labels\n",
        "plt.bar(dia, ganas_de_estudiar)\n",
        "plt.xlabel('Día')\n",
        "plt.ylabel('Ganas de estudiar')\n",
        "plt.title('¿¿Cuándo se termina el año??')\n",
        "plt.savefig(path_imagen, dpi = 50)\n",
        "plt.show()"
      ]
    },
    {
      "cell_type": "code",
      "execution_count": null,
      "metadata": {
        "id": "TuE8pAx67z6w"
      },
      "outputs": [],
      "source": [
        "# Les dejamos un ejemplo de subplots, que se suelen usar bastante en publicaciones cientificas\n",
        "# Fuente: Documentacion oficial de matplotlib -> https://matplotlib.org/3.3.3/api/_as_gen/matplotlib.pyplot.subplots.html\n",
        "# Creamos datos de juguete:\n",
        "x = np.linspace(0, 2*np.pi, 400)\n",
        "y = np.sin(x**2)\n",
        "\n",
        "# Creamos una figura y un subplot\n",
        "# ax es el panel\n",
        "fig, ax = plt.subplots()\n",
        "ax.plot(x, y)\n",
        "ax.set_title('Plot simple')\n",
        "\n",
        "# Creamos 2 subplots y graficamos los mismos datos\n",
        "fig, (ax1, ax2) = plt.subplots(1, 2, sharey=True)\n",
        "ax1.plot(x, y)\n",
        "ax1.set_title('Compartiendo el eje Y')\n",
        "ax2.set_title('Compartiendo el eje Y')\n",
        "ax2.scatter(x, y)"
      ]
    },
    {
      "cell_type": "markdown",
      "metadata": {
        "id": "je2QHne22P4p"
      },
      "source": [
        "Cheatsheet de Matplotlib\n",
        "\n",
        "![](https://matplotlib.org/cheatsheets/_images/cheatsheets-1.png)"
      ]
    }
  ],
  "metadata": {
    "colab": {
      "collapsed_sections": [],
      "include_colab_link": true,
      "provenance": [],
      "toc_visible": true
    },
    "kernelspec": {
      "display_name": "Python 3.8.8 ('base')",
      "language": "python",
      "name": "python3"
    },
    "language_info": {
      "name": "python",
      "version": "3.8.8"
    },
    "vscode": {
      "interpreter": {
        "hash": "c18f11b6be657996524caf5fa782642089185171ff5f6e295a3bf01a389f99eb"
      }
    }
  },
  "nbformat": 4,
  "nbformat_minor": 0
}

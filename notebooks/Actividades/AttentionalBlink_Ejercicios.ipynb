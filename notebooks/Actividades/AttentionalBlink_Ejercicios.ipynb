{
  "nbformat": 4,
  "nbformat_minor": 0,
  "metadata": {
    "colab": {
      "provenance": [],
      "collapsed_sections": [],
      "toc_visible": true,
      "include_colab_link": true
    },
    "kernelspec": {
      "name": "python3",
      "display_name": "Python 3"
    },
    "language_info": {
      "name": "python"
    }
  },
  "cells": [
    {
      "cell_type": "markdown",
      "metadata": {
        "id": "view-in-github",
        "colab_type": "text"
      },
      "source": [
        "<a href=\"https://colab.research.google.com/github/gastonbujia/curso-visualizacion-datos-SAN-2022/blob/main/notebooks/SAN_dia_2/Attentional_Blink_Ejercicios.ipynb\" target=\"_parent\"><img src=\"https://colab.research.google.com/assets/colab-badge.svg\" alt=\"Open In Colab\"/></a>"
      ]
    },
    {
      "cell_type": "markdown",
      "source": [
        "# Attentional Blink\n",
        "\n",
        "\n",
        "> El Attentional Blink (AB) es el fenómeno en el cual el segundo de dos targets no puede ser detectado o identificado cuando aparece cercano en tiempo con respecto al perimero\n",
        "\n",
        "<center>\n",
        "<img src = 'https://onlinelibrary.wiley.com/cms/asset/b6d5a4c9-42b2-46d0-9a11-61012b98dbfe/cxo_160_f1.gif'>  \n",
        "</center>\n",
        "\n",
        "\n",
        "\n",
        "**Fuente:** http://www.scholarpedia.org/article/Attentional_blink"
      ],
      "metadata": {
        "id": "C3tguAcLXk-j"
      }
    },
    {
      "cell_type": "markdown",
      "source": [
        "## Los datos que tenemos\n",
        "\n",
        "Para el siguiente ejercicio nos basamos en los datos publicados con el trabajo \n",
        "\n",
        "*Zivony, A., Shanny, S., & Lamy, D. (2018). Perceptual processing is not spared during the attentional blink. Journal of cognition, 1(1).* [LINK](https://www.ncbi.nlm.nih.gov/pmc/articles/PMC6634390/)\n",
        "\n",
        "Para bajarse los datos crudos pueden entrar acá → [LINK](https://figshare.com/articles/dataset/Data/5492611)\n",
        "\n",
        "**Nota:** para mejorar la experiencia de éste curso los datos que vamos a analizar no son los originales. Algunas modificaciones fueron hechas para aumentar la cantidad de datos y tener una curva de AB más completa. Es decir, no hay que tomar estos datos como resultantes de un experimento real, sino como un dataset de juguete."
      ],
      "metadata": {
        "id": "WwRxFowPb6ez"
      }
    },
    {
      "cell_type": "markdown",
      "source": [
        "# Cargar la planilla\n",
        "\n",
        "Como ya vimos, dependiendo de qué formato tengamos, podemos usar diferentes funciones.\n",
        "\n",
        "Pandas es muy versatil y tiene muchas opciones para diferentes casos. \n",
        "\n",
        "Además Colab tiene la posibilidad de cargar directo desde Drive\n",
        "\n",
        "Y también podemos usar funciones de la consola de linux (recuerden que Colab nos habilita una computadora que corre un Linux de fondo)"
      ],
      "metadata": {
        "id": "H_b5USCRfrRt"
      }
    },
    {
      "cell_type": "code",
      "source": [
        "import pandas as pd\n",
        "import numpy as np\n",
        "from google.colab import drive"
      ],
      "metadata": {
        "id": "zcwJptCYsM7R"
      },
      "execution_count": null,
      "outputs": []
    },
    {
      "cell_type": "markdown",
      "source": [
        "## Cargar un csv desde Drive\n",
        "\n",
        "Si tengo el archivo que necesito en un Google Drive al que tengo acceso:\n",
        "\n",
        "1.   *Montar* el drive\n",
        "2.   Una vez montado se nos crea una carpera `/content/drive/`\n",
        "3.   Dentro de esa carpeta tenemos acceso a todos los archivos del drive\n",
        "\n",
        "Detalle: esto también se puede hacer en tu computadora con linux (supongo que con otros Sistemas Operativos también) y a diferencia de Dropbox no te descarga todo el contenido de Drive, sino que lo linkea a la nube y descarga sólo los archivos que querés usar. Esto tiene ventajas y desventajas."
      ],
      "metadata": {
        "id": "W9h13CFQf-Ml"
      }
    },
    {
      "cell_type": "code",
      "source": [
        "drive.mount('/content/drive')\n",
        "df=pd.read_csv('/content/drive/MyDrive/...')"
      ],
      "metadata": {
        "id": "rgejBq76k_F1",
        "colab": {
          "base_uri": "https://localhost:8080/"
        },
        "outputId": "921f8327-ff19-4e80-d0e0-a73b07d6c73c"
      },
      "execution_count": null,
      "outputs": [
        {
          "output_type": "stream",
          "name": "stdout",
          "text": [
            "Drive already mounted at /content/drive; to attempt to forcibly remount, call drive.mount(\"/content/drive\", force_remount=True).\n"
          ]
        }
      ]
    },
    {
      "cell_type": "markdown",
      "source": [
        "Si quisiera también podría subir archivos a esta computadora y cargarlos desde ahí.\n"
      ],
      "metadata": {
        "id": "5g6K88cogPat"
      }
    },
    {
      "cell_type": "markdown",
      "source": [
        "## En caso de no tenerlo en Drive (o no querer tenerlo)\n",
        "\n",
        "En el panel de la izquierda pueden acceder a la carpeta de la computadora y cargar todos los archivos que quieran y cargarlos esde ahí \n",
        "\n",
        "`df=pd.read_csv('/content/dataAB_SAN.csv')`"
      ],
      "metadata": {
        "id": "Ow4m52uDKOBU"
      }
    },
    {
      "cell_type": "markdown",
      "source": [
        "# Calcular las columnas Faltantes\n",
        "\n",
        "Nuestro dataset tiene mucha información sobre el experimento y las respuestas de les participantes, pero nos faltan algunas columnas para poder analiazar los resultados. Necesitamos calcularlas:\n"
      ],
      "metadata": {
        "id": "jJNg_-VgisbC"
      }
    },
    {
      "cell_type": "code",
      "source": [
        "# ¿qué columnas tiene el dataframe?\n",
        "df.columns"
      ],
      "metadata": {
        "id": "ZyWRcYsYtuJ-",
        "colab": {
          "base_uri": "https://localhost:8080/"
        },
        "outputId": "064ee2af-eb2b-4b07-94fd-1ba722434fed"
      },
      "execution_count": null,
      "outputs": [
        {
          "output_type": "execute_result",
          "data": {
            "text/plain": [
              "Index(['Unnamed: 0', 'Subject', 'Age', 'Sex', 'Block', 'blockType', 'practice',\n",
              "       'Trial', 'RSVP_String_01', 'RSVP_String_02', 'RSVP_String_03',\n",
              "       'RSVP_String_04', 'RSVP_String_05', 'RSVP_String_06', 'RSVP_String_07',\n",
              "       'RSVP_String_08', 'RSVP_String_09', 'RSVP_String_10', 'RSVP_String_11',\n",
              "       'RSVP_String_12', 'RSVP_String_13', 'RSVP_String_14', 'RSVP_String_15',\n",
              "       'RSVP_String_16', 'RSVP_String_17', 'RSVP_String_18', 'T1Place',\n",
              "       'T1side', 'T2Place', 'T2_RESP', 'T2_RT', 'T1_CRESP', 'T1_RESP',\n",
              "       'T1_RT'],\n",
              "      dtype='object')"
            ]
          },
          "metadata": {},
          "execution_count": 22
        }
      ]
    },
    {
      "cell_type": "markdown",
      "source": [
        "\n",
        "### Ejercicios\n",
        "\n",
        "**T1_T2_lag:** Diferencia entre la posición de los dos targets (*T2Place* y *T1Place*) \n",
        "\n",
        "**T1_CRESP:** Respuesta correcta al primer target. En la columna *T1side* tenemos indicado si el estimulo apuntaba a izquierda (*Left*) o a derecha (*Right*), pero la respuesta de les sujetes indica qué tecla tocaron [\"z\",\"x\"]. Para poder trabajar más cómodes hagamos la columna *T1_CRESP* que nos indique la respuesta correcta en función de la tecla que tenía que tocar ele sujete.\n",
        "\n",
        "**T1_ACC:** Correctitud de la respuesta al target 1 (*T1_RESP*) en base a la respuesta correcta (*T1_CRESP*) \n",
        "\n",
        "**T2_CRESP:** Respuesta correcta al segundo target. Calcularlo en base a *T2Place* y las columnas *RSVP_String_NN*.\n",
        "Este es un poco más dificil. Ya no es una operacion entre columnas, sino que tenemos que generar 1 nueva columna en base a elementos de diferentes (dependiendo de otra cosa)\n",
        "\n",
        "**T2_ACC:** Correctitud de la respuesta al target 2 (*T2_RESP*) en base a la respuesta correcta (*T2_CRESP*)."
      ],
      "metadata": {
        "id": "l7_KG_qMdE1A"
      }
    },
    {
      "cell_type": "code",
      "source": [
        "# Calcular el lag entre el T1 y el T2\n",
        "df[\"T1_T2_lag\"] = None"
      ],
      "metadata": {
        "id": "RVvXAaNOtWiU"
      },
      "execution_count": null,
      "outputs": []
    },
    {
      "cell_type": "code",
      "source": [
        "# Calcular rta correra a T1\n",
        "df[\"T1_CRESP\"] = None"
      ],
      "metadata": {
        "id": "XuDGpWJPNJc5"
      },
      "execution_count": null,
      "outputs": []
    },
    {
      "cell_type": "code",
      "source": [
        "# Calcular correctitud de T1\n",
        "df[\"T1_ACC\"] = None"
      ],
      "metadata": {
        "id": "Dsw4jlo1NgNA"
      },
      "execution_count": null,
      "outputs": []
    },
    {
      "cell_type": "code",
      "source": [
        "# Calcular rta correra a T2\n",
        "df[\"T2_CRESP\"] = None"
      ],
      "metadata": {
        "id": "72VeV3oQOd9q"
      },
      "execution_count": null,
      "outputs": []
    },
    {
      "cell_type": "code",
      "source": [
        "# Calcular correctitud de T2\n",
        "df[\"T2_ACC\"] = None"
      ],
      "metadata": {
        "id": "NLL53SYuOpNV"
      },
      "execution_count": null,
      "outputs": []
    },
    {
      "cell_type": "markdown",
      "source": [
        "# Histogramas\n",
        "\n",
        "Pandas tiene incorporado métodos para algunos gráficos sencillos, como histogramas.\n",
        "\n",
        "Podes ver la documentación acá:\n",
        "https://pandas.pydata.org/docs/reference/api/pandas.DataFrame.hist.html\n"
      ],
      "metadata": {
        "id": "Pl5nCVwzQN6J"
      }
    },
    {
      "cell_type": "markdown",
      "source": [
        "\n",
        "## Ejercicios\n",
        "**1. Crear un histograma de las edades**"
      ],
      "metadata": {
        "id": "DQcVH5nZbvWZ"
      }
    },
    {
      "cell_type": "code",
      "source": [
        "# 1. histograma "
      ],
      "metadata": {
        "id": "wfmuyd8WQwPt"
      },
      "execution_count": null,
      "outputs": []
    },
    {
      "cell_type": "markdown",
      "source": [
        "**2. Sacarle la grilla y setear la cantidad de bines en 15**"
      ],
      "metadata": {
        "id": "Nbb_45CmQnwf"
      }
    },
    {
      "cell_type": "code",
      "source": [
        "# 2. histograma sin grilla y con 15 bines"
      ],
      "metadata": {
        "id": "dYyc8YNyQzww"
      },
      "execution_count": null,
      "outputs": []
    },
    {
      "cell_type": "markdown",
      "source": [
        "**3. Al histograma del punto 2 dividirlo por sexo**"
      ],
      "metadata": {
        "id": "FktDbwQsQ3NJ"
      }
    },
    {
      "cell_type": "code",
      "source": [
        "# 3. histograma por sexo"
      ],
      "metadata": {
        "id": "Ncc9sJITRCuv"
      },
      "execution_count": null,
      "outputs": []
    },
    {
      "cell_type": "markdown",
      "source": [
        "**4. En lugar de fijar la *cantidad* de bins fijar los limites de los bins**"
      ],
      "metadata": {
        "id": "5cc2r8B7RHjF"
      }
    },
    {
      "cell_type": "code",
      "source": [
        "# 4. Histograma con limites de los bins fijos "
      ],
      "metadata": {
        "id": "jAoWV5BNAOK0"
      },
      "execution_count": null,
      "outputs": []
    },
    {
      "cell_type": "markdown",
      "source": [
        "# Filtrado de datos\n",
        "\n",
        "Casi siempre nuestros datos tienen material extra que no queremos analizar y es necesario limpiarlos. En este caso podemos identificar algunos datos que nos podría interesar mirar por separado.\n",
        "\n",
        "1. Participantes con edad 0\n",
        "2. Trials de práctica\n",
        "3. Trials de un experimento 2 (definido como `COLOR`) que no nos interesan"
      ],
      "metadata": {
        "id": "tTZWRoBLRTI0"
      }
    },
    {
      "cell_type": "markdown",
      "source": [
        "## Ejercicios\n",
        "\n",
        "**1. Crear `df_filtrado` eliminando los datos con edad 0. Hacer un histograma con las edades del dataframe resultante**\n",
        "\n",
        "\n"
      ],
      "metadata": {
        "id": "bKZNeK20fJdE"
      }
    },
    {
      "cell_type": "code",
      "source": [
        "# filtrar por edad == 0\n",
        "df_filtrado = None\n",
        "\n",
        "# Hacer hist de df_filtrado"
      ],
      "metadata": {
        "id": "eX4XpqVGSxK8"
      },
      "execution_count": null,
      "outputs": []
    },
    {
      "cell_type": "markdown",
      "source": [
        "**2. Filtrar Trials de práctica y 2do Experimento**\n",
        "\n",
        "\n",
        "\n",
        "> El experimento se dividió en 60 trials de práctica y 60 de no-práctica. Además la tabla tiene datos de 2 experimentos, nos interesa solo los que son del blockType \"DIGIT\""
      ],
      "metadata": {
        "id": "HvflQU8hjWdW"
      }
    },
    {
      "cell_type": "code",
      "source": [
        "# Crear un nuevo df_filtrado (pisando el otro)\n",
        "df_filtrado = None\n"
      ],
      "metadata": {
        "id": "lyriemlUT1li"
      },
      "execution_count": null,
      "outputs": []
    },
    {
      "cell_type": "markdown",
      "source": [
        "# Calcular proporción de aciertos \n",
        "\n",
        "\n"
      ],
      "metadata": {
        "id": "POEgwOOclQJK"
      }
    },
    {
      "cell_type": "markdown",
      "source": [
        "## Ejercicios\n",
        "**1. Calcular la probabilidad de haber acertado T1**\n",
        "\n",
        "**2. Calcular la probabilidad de haber acertado T2**\n"
      ],
      "metadata": {
        "id": "21u4hzZpbyEB"
      }
    },
    {
      "cell_type": "code",
      "source": [
        "# Prob de acierto de T1\n",
        "print(\"Prob. T1:\", None)\n",
        "\n",
        "# Prob de acierto de T2\n",
        "print(\"Prob. T2:\", None)"
      ],
      "metadata": {
        "id": "5CxsqAPxlPpI",
        "colab": {
          "base_uri": "https://localhost:8080/"
        },
        "outputId": "7babee89-3a96-4cca-8598-00b910c865c7"
      },
      "execution_count": null,
      "outputs": [
        {
          "output_type": "stream",
          "name": "stdout",
          "text": [
            "Prob. T1: None\n",
            "Prob. T2: None\n"
          ]
        }
      ]
    },
    {
      "cell_type": "markdown",
      "source": [
        "La probabilidad de acierto de T2 que acabamos de calcular debería tener en cuenta sólo los casos donde tambiñen acertó T1 (recordemos que el AB es ver/no-ver T2 dado que se vio T1)\n",
        "\n",
        "**3. Cacular el acierto condicional de T2 dado que se acertó T1**"
      ],
      "metadata": {
        "id": "8xQkWEEBnyBq"
      }
    },
    {
      "cell_type": "code",
      "source": [
        "# Calcular el acerito condicional de T2 dado T1\n",
        "\n",
        "df_filtrado[\"T2_ACC_condicional\"] = None"
      ],
      "metadata": {
        "id": "qGHx6BvcZnjW"
      },
      "execution_count": null,
      "outputs": []
    },
    {
      "cell_type": "markdown",
      "source": [
        "**4. Calcular la probailidad condicional de T2 dado T1**"
      ],
      "metadata": {
        "id": "HwQEm0sJZztC"
      }
    },
    {
      "cell_type": "code",
      "source": [
        "print(\"Prob. T2|T1:\", None)"
      ],
      "metadata": {
        "id": "HOjMTqhuaGau"
      },
      "execution_count": null,
      "outputs": []
    },
    {
      "cell_type": "markdown",
      "source": [
        "Si vamos a ver los gráficos que suele haber de AB veremos que lo interesante está en analizar la probabilidad condicional de T2 dado T1 en función de la distancia entre los targets\n",
        "\n",
        "<img src = 'https://www.researchgate.net/profile/Philip-Barnard/publication/228783378/figure/fig5/AS:668347536523275@1536357878276/The-basic-Attentional-Blink-effect-for-letter-stimuli-adapted-from-Raymond-et-al.ppm'>  \n",
        "\n",
        "\n",
        "**5. Agrupar el dataframe por sujetos y lag, calculando la media de todas las columnas**"
      ],
      "metadata": {
        "id": "KGP__DUapb3H"
      }
    },
    {
      "cell_type": "code",
      "source": [
        "df_sujs = None"
      ],
      "metadata": {
        "id": "uplAAJrpamO0"
      },
      "execution_count": null,
      "outputs": []
    },
    {
      "cell_type": "markdown",
      "source": [
        "**6. Ahora agrupar solo por lag calculando media y error standar (sem).**\n",
        "\n",
        "Haber hecho el groupby en dos partes (primero dentro de sujetos y después entre sujetos) nos permite calcular el sem que queremos para la estadística (que no vamos a hacer acá)."
      ],
      "metadata": {
        "id": "hjiGH9_2ased"
      }
    },
    {
      "cell_type": "code",
      "source": [
        "df_agg = None"
      ],
      "metadata": {
        "id": "AM67GaM0bc-Z"
      },
      "execution_count": null,
      "outputs": []
    },
    {
      "cell_type": "markdown",
      "source": [
        "# Graficar el AB\n",
        "\n",
        "Llegamos! Ahora ya podemos graficar nuestro AB\n",
        "\n",
        "Si hicimos todo bien la siguiente celda nos tiene que dar el gráfico esperado"
      ],
      "metadata": {
        "id": "Tve873EFbgL_"
      }
    },
    {
      "cell_type": "code",
      "source": [
        "ax1 = df_agg.plot(kind='scatter', x=\"T1_T2_lag\", y=('T1_ACC','mean'), color='r')    \n",
        "df_agg.plot(kind='scatter', x=\"T1_T2_lag\", y=('T2_ACC_condicional','mean'), color='g', ax=ax1)\n",
        "df_agg.plot(kind='line', x=\"T1_T2_lag\", y=('T1_ACC','mean'), color='r', ax=ax1, yerr=df_agg[('T2_ACC_condicional','sem')])\n",
        "df_agg.plot(kind='line', x=\"T1_T2_lag\", y=('T2_ACC_condicional','mean'), color='g', ax=ax1, yerr=df_agg[('T2_ACC_condicional','sem')],ylim=[0,1])\n"
      ],
      "metadata": {
        "colab": {
          "base_uri": "https://localhost:8080/",
          "height": 301
        },
        "id": "zlXsZ3CcZd-T",
        "outputId": "9cbbfb02-713f-41bb-8bd5-60e0b25f6a81"
      },
      "execution_count": null,
      "outputs": [
        {
          "output_type": "execute_result",
          "data": {
            "text/plain": [
              "<matplotlib.axes._subplots.AxesSubplot at 0x7fa0015e54d0>"
            ]
          },
          "metadata": {},
          "execution_count": 326
        },
        {
          "output_type": "display_data",
          "data": {
            "text/plain": [
              "<Figure size 432x288 with 1 Axes>"
            ],
            "image/png": "[encoded data removed]"
          },
          "metadata": {
            "needs_background": "light"
          }
        }
      ]
    }
  ]
}
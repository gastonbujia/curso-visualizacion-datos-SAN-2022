{
  "nbformat": 4,
  "nbformat_minor": 0,
  "metadata": {
    "colab": {
      "provenance": [],
      "collapsed_sections": [],
      "toc_visible": true,
      "include_colab_link": true
    },
    "kernelspec": {
      "name": "python3",
      "display_name": "Python 3"
    }
  },
  "cells": [
    {
      "cell_type": "markdown",
      "metadata": {
        "id": "view-in-github",
        "colab_type": "text"
      },
      "source": [
        "<a href=\"https://colab.research.google.com/github/gastonbujia/curso-visualizacion-datos-SAN-2022/blob/main/notebooks/SAN_d%C3%ADa_0.ipynb\" target=\"_parent\"><img src=\"https://colab.research.google.com/assets/colab-badge.svg\" alt=\"Open In Colab\"/></a>"
      ]
    },
    {
      "cell_type": "markdown",
      "metadata": {
        "id": "IZlM9nheElSH"
      },
      "source": [
        "<a href='https://saneurociencias.org.ar/'> <img src=\"https://saneurociencias.org.ar/wp-content/uploads/2022/04/LOGO-SAN-WEB.png\" title=\"LOGO-SAN-WEB\" alt=\"LOGO-SAN-WEB\"></a>\n",
        "\n",
        "<br>\n",
        "<center>\n",
        "<h1><b>¡Bievenides!</b><h1>\n",
        "</center>\n",
        "\n",
        "<br>\n",
        "\n",
        "* **¿Qué es programar?** <br>\n",
        "  * Una definición sencilla sería: \"Darle órdenes a una computadora por medio de código para que realice una tarea\".\n",
        "<center>\n",
        "<img src = 'https://media.giphy.com/media/citBl9yPwnUOs/giphy.gif'>  \n",
        "</center>\n",
        "\n",
        "* **¿Qué es Python?** <br>\n",
        "  * Es un lenguaje interpretado (no hace falta compilarlo), dinámico (una variable puede tomar valores de distinto tipo) y multiplataforma (anda en prácticamente cualquier compu).\n",
        "\n",
        "  * Es de propósito general, esto quiere decir que puede servir para analizar datos, pero también para hacer una página web o muchas otras cosas divertidas.\n",
        "\n",
        "  * Funciona con librerías (código extra que podemos agregar para obtener nuevas funcionalidades) y se caracteriza por tener gran variedad para cómputo científico.\n",
        "\n",
        "  * Tiene una licencia Open Source, por lo que se puede usar y distribuir libremente, incluso para uso comercial.\n",
        "  \n",
        "  * Comunidad grande (lo que es muy útil para buscar respuestas a nuestras dudas).\n",
        "\n",
        "  * *Fun fact*: el nombre es un homenaje a [Monty Python](https://en.wikipedia.org/wiki/Monty_Python).\n",
        "\n",
        "\n",
        "\n",
        "\n",
        "\n",
        "\n",
        "<center> <img src=https://static.javatpoint.com/interview/images/advantages-of-python.png alt=\"Advantages of Python\"> </center>\n",
        "<center> Fuente de la imagen: www.javatpoint.com  </center>\n",
        "\n",
        "* **¿Y Google Colab?** <br>\n",
        "  * Es una plataforma de Google que nos da acceso a un Jupyter notebook (o cuaderno de Jupyter), una plataforma interactiva que funciona en nuestro navegador y está en la nube, donde podremos escribir código en Python, agregar texto con Markdown, mostrar imágenes, gráficos y mucho más. ¡Todo en un solo lugar y de manera gratuita!\n"
      ]
    },
    {
      "cell_type": "markdown",
      "source": [
        "# Jupyter Notebooks/Google Colab"
      ],
      "metadata": {
        "id": "7ANmNFe2EHaR"
      }
    },
    {
      "cell_type": "markdown",
      "source": [
        "TBD"
      ],
      "metadata": {
        "id": "lkekGwz1ERO2"
      }
    },
    {
      "cell_type": "markdown",
      "metadata": {
        "id": "-bQclOfuEiwj"
      },
      "source": [
        "# Tu primer programa\n",
        "\n"
      ]
    },
    {
      "cell_type": "markdown",
      "metadata": {
        "id": "mrF9ndlFoGSj"
      },
      "source": [
        "El documento que estamos usando es un `.ipynb`, o Jupyter Notebook que se puede ejecutar en otros entornos aparte del Colab (e.g. Anaconda).\n",
        "\n",
        "El documento está en modo lectura. Podés hacer una copia y guardarla en tu propio Drive, y así editar el código.\n",
        "\n",
        "Al apretar el botón ▶️ que aparece a la izquierda al posarse en una celda de código, podés ejecutar esa celda, y el output aparecerá abajo.\n",
        "\n",
        "Vamos a escribir nuestro primer programa:"
      ]
    },
    {
      "cell_type": "code",
      "metadata": {
        "id": "KosSKMlEhQBL",
        "colab": {
          "base_uri": "https://localhost:8080/"
        },
        "outputId": "3f79a08f-fe12-4032-8410-7578cf477ed4"
      },
      "source": [
        "# Presióna el símbolo ▶️ para ejecutar el programa\n",
        "print('Hola mundo!')"
      ],
      "execution_count": null,
      "outputs": [
        {
          "output_type": "stream",
          "name": "stdout",
          "text": [
            "Hola mundo!\n"
          ]
        }
      ]
    },
    {
      "cell_type": "markdown",
      "metadata": {
        "id": "1Z8tV5ePhr-l"
      },
      "source": [
        "¡Felicitaciones! Acabás de escribir tu primer programa en Python! \n",
        "\n",
        "Pero... ¿Qué pasó??\n",
        "\n",
        "![Más despacio cerebrito](https://media1.tenor.com/images/8e79d959633363b99eed8ca1f14c8498/tenor.gif?itemid=9870240)\n",
        "\n",
        "Resumidamente: \n",
        "* El intérprete de Python que tiene Google Colab leyó nuestra línea de código, la interpretó (pues a eso se dedica) y nos devolvió el resultado de esa ejecución como un bello objeto tipo string (`str`) con el contenido \"Hola mundo!\""
      ]
    },
    {
      "cell_type": "code",
      "metadata": {
        "id": "25kd859Ek926",
        "colab": {
          "base_uri": "https://localhost:8080/"
        },
        "outputId": "da00fdd2-14eb-461d-9907-96b75d80f469"
      },
      "source": [
        "# Mini ejercicio: siguiendo el ejemplo de 'Hola mundo!', imprimir la frase 'Despacio, cerebrito!'\n",
        "# Aclaración: borrar los guiones bajos, en los ejercicios están solo para indicar la parte de código que les toca escribir a ustedes :)\n",
        "# Y por cierto, las líneas como esta que comienzan con numeral son comentarios que NO se ejecutan\n",
        "\n",
        "print(___)"
      ],
      "execution_count": null,
      "outputs": [
        {
          "output_type": "stream",
          "text": [
            "\n"
          ],
          "name": "stdout"
        }
      ]
    },
    {
      "cell_type": "markdown",
      "metadata": {
        "id": "vbfbJpRkwjX3"
      },
      "source": [
        "# Funciones\n",
        "\n",
        "Una **subrutina o función** es un fragmento de código el cual permite resolver una tarea específica. Si Python es un lenguaje, una función se puede pensar como un verbo o acción que realizamos sobre otro objeto (lo que le demos como entrada o *input*). Lo que hicimos acá arriba fue llamar a la función `print` para que haga lo suyo (imprimir) con el input `'Despacio, cerebrito!'`.\n",
        "\n",
        "Podemos usar funciones:\n",
        "* Escritas por nosotrxs mismxs.\n",
        "* Utilizar las que vienen en Python como el caso de `print` (estas se denominan *built-in functions* y pueden ver una lista entrando [acá](https://docs.python.org/es/3.8/library/functions.html).\n",
        "* Hacer uso de las funciones que vienen dentro de librerías que importemos (lo veremos más adelante).\n",
        "\n",
        "<center>\n",
        "<div>\n",
        "<img src=\"https://upload.wikimedia.org/wikipedia/commons/thumb/3/3b/Function_machine2.svg/1200px-Function_machine2.svg.png\" width=\"300\" height=\"auto\"/>\n",
        "</div>\n",
        "Fuente de la imagen: https://en.wikipedia.org/wiki/Function_(mathematics) \n",
        "</center> <br><br>\n",
        "\n",
        "\n",
        "\n",
        "<center>\n",
        "<div>\n",
        "<img src=\"https://hcc-cs.weebly.com/uploads/2/4/5/3/24535251/1523299_orig.png\" width=\"450\" height=\"auto\"/>\n",
        "</div>\n",
        "Fuente de la imagen: http://hcc-cs.weebly.com/functions.html\n",
        "</center>\n",
        "\n",
        "\n",
        "\n"
      ]
    },
    {
      "cell_type": "code",
      "metadata": {
        "id": "nQrE4ouE-NgE"
      },
      "source": [
        "def TeSumo(a,b):\n",
        "  resultado = a + b\n",
        "  return resultado\n",
        "\n",
        "print(TeSumo(1,2))"
      ],
      "execution_count": null,
      "outputs": []
    },
    {
      "cell_type": "markdown",
      "metadata": {
        "id": "GSZ6Evj2h04t"
      },
      "source": [
        "# Variables\n",
        "\n",
        "- Una variable es un nombre que se refiere a un objeto que reside en la memoria. \n",
        "- Puede ser de distintos tipos: Texto, su tipo será <font color='blue'>str</font> (por string, o cadena de caracteres), numérica como <font color='blue'>int</font> (número entero) o <font color='blue'>float</font> (número con coma), <font color='blue'>boolean</font> con la posibilidad de ser verdadero (*True*) o falso (*False*), entre otras.\n",
        "* Para asignar un dato a una variable utilizaremos el signo **=** de un modo diferente a como lo hacíamos en matemática. Porque no se trata de una igualdad sino de una asignación.<br>\n",
        "Ejemplo: <br>\n",
        "variable = contenido_de_mi_variable\n",
        "\n",
        "Es una asignación:<br>\n",
        "variable <- contenido_de_mi_variable\n",
        "\n",
        "\n",
        "Esto quiere decir que reservamos un espacio de memoria llamado **variable** cuyo contenido será **contenido_de_mi_variable**\n",
        "\n",
        "**¡Ojo!** Las variables se sobreescriben y Python **no les va a avisar**."
      ]
    },
    {
      "cell_type": "code",
      "metadata": {
        "id": "b84qVdoMvlXu"
      },
      "source": [
        "variable = 1\n",
        "variable = 5\n",
        "\n",
        "print(variable)"
      ],
      "execution_count": null,
      "outputs": []
    },
    {
      "cell_type": "code",
      "metadata": {
        "id": "481BCYzNhzpD"
      },
      "source": [
        "# Definimos tres variables de tipo string (es la manera de referirse a algo que contiene texto).\n",
        "# Ya veremos más en detalle qué tipos de datos son string, pero les adelanto que el texto y los espacios lo son.\n",
        "nombre = 'Juana'\n",
        "espacio = ' '\n",
        "apellido = 'Pérez'"
      ],
      "execution_count": null,
      "outputs": []
    },
    {
      "cell_type": "markdown",
      "metadata": {
        "id": "YmnRzKhds545"
      },
      "source": [
        "Nota: Para escribir strings existen dos formas:\n",
        "*   Comillas simples: 'Hola'\n",
        "*   Comillas dobles: \"Hola\""
      ]
    },
    {
      "cell_type": "code",
      "metadata": {
        "id": "v2JC7ekcjdnD"
      },
      "source": [
        "# Y ahora podemos imprimirlas en pantalla como hicimos en nuestro primer programa usando la función \"print\"\n",
        "print(nombre + espacio + apellido)"
      ],
      "execution_count": null,
      "outputs": []
    },
    {
      "cell_type": "code",
      "metadata": {
        "id": "KNaMOzVtpQKz"
      },
      "source": [
        "# Probemos con otros tipos de datos\n",
        "edad = 64\n",
        "altura = 1.59"
      ],
      "execution_count": null,
      "outputs": []
    },
    {
      "cell_type": "code",
      "metadata": {
        "id": "VAVzQ1TbpamJ",
        "colab": {
          "base_uri": "https://localhost:8080/",
          "height": 164
        },
        "outputId": "0e4662af-57a4-4142-ddd4-ce1559e82d04"
      },
      "source": [
        "print(nombre + 'tiene' + edad + 'años' + 'y mide' + altura + 'metros')"
      ],
      "execution_count": null,
      "outputs": [
        {
          "output_type": "error",
          "ename": "TypeError",
          "evalue": "ignored",
          "traceback": [
            "\u001b[0;31m---------------------------------------------------------------------------\u001b[0m",
            "\u001b[0;31mTypeError\u001b[0m                                 Traceback (most recent call last)",
            "\u001b[0;32m<ipython-input-14-e42b8a440d02>\u001b[0m in \u001b[0;36m<module>\u001b[0;34m()\u001b[0m\n\u001b[0;32m----> 1\u001b[0;31m \u001b[0mprint\u001b[0m\u001b[0;34m(\u001b[0m\u001b[0mnombre\u001b[0m \u001b[0;34m+\u001b[0m \u001b[0;34m'tiene'\u001b[0m \u001b[0;34m+\u001b[0m \u001b[0medad\u001b[0m \u001b[0;34m+\u001b[0m \u001b[0;34m'años'\u001b[0m \u001b[0;34m+\u001b[0m \u001b[0;34m'y mide'\u001b[0m \u001b[0;34m+\u001b[0m \u001b[0maltura\u001b[0m \u001b[0;34m+\u001b[0m \u001b[0;34m'metros'\u001b[0m\u001b[0;34m)\u001b[0m\u001b[0;34m\u001b[0m\u001b[0;34m\u001b[0m\u001b[0m\n\u001b[0m",
            "\u001b[0;31mTypeError\u001b[0m: must be str, not int"
          ]
        }
      ]
    },
    {
      "cell_type": "markdown",
      "metadata": {
        "id": "zGdKqBNFpzhC"
      },
      "source": [
        "**¡¡ERROR!!**\n",
        "\n",
        "Si queremos aprender a programar vamos a tener que aprender a lidiar con los errores y aprovecharlos para mejorar.\n",
        "\n",
        "¿Qué sucedió? Por suerte Python nos dice cuál fue el problema:\n",
        "\n",
        "*TypeError: must be str, not int*\n",
        "\n",
        "Básicamente tuvimos un <font color='red'>error de tipo</font>, tratamos de mezclar peras con manzanas. El tipo de dato que recibe la función `print` tiene que ser una cadena de caracteres (o `str`), por lo tanto al intentar meterle números provoca un error.\n",
        "\n",
        "¿La solución?\n",
        "\n",
        "Transformar el dato número en su correspondiente dato en cadena de caracteres. Eso se hace fácilmente en Python con la función `str()`."
      ]
    },
    {
      "cell_type": "code",
      "metadata": {
        "id": "1oHghnZIqewT"
      },
      "source": [
        "# Usamos la función str() para transformar el dato de tipo numérico a tipo str (candena de caracteres o sencillamente texto).\n",
        "edad = str(64)\n",
        "altura = str(1.64)"
      ],
      "execution_count": null,
      "outputs": []
    },
    {
      "cell_type": "code",
      "metadata": {
        "id": "07e2rVyjpu_d"
      },
      "source": [
        "# Probamos otra vez la línea que había generado el error\n",
        "print(nombre + 'tiene' + edad + 'años' + 'y mide' + altura + 'metros')"
      ],
      "execution_count": null,
      "outputs": []
    },
    {
      "cell_type": "code",
      "metadata": {
        "id": "zDolYAV8q9cy"
      },
      "source": [
        "# ¡Funcionó! Aunque se ve medio feo, mejor agreguemos espacios\n",
        "print(nombre + espacio + 'tiene' + espacio + edad + espacio + 'años' + espacio + 'y mide' + espacio + altura + espacio + 'metros')"
      ],
      "execution_count": null,
      "outputs": []
    },
    {
      "cell_type": "code",
      "metadata": {
        "id": "56TKzxL6pamA"
      },
      "source": [
        "# Ejercicio: Lograr el mismo resultado que la celda de arriba sin utilizar la variable llamada \"espacio\".\n",
        "print(___)"
      ],
      "execution_count": null,
      "outputs": []
    },
    {
      "cell_type": "markdown",
      "metadata": {
        "id": "-BQie-ABvcsz"
      },
      "source": [
        "# Tipos de datos\n",
        "\n",
        "En Python, todo valor que pueda ser asignado a una variable tiene asociado un tipo de dato. \n",
        "\n"
      ]
    },
    {
      "cell_type": "markdown",
      "metadata": {
        "id": "pUlSmhzE8ozd"
      },
      "source": [
        "### Variables de tipo *numerico* (int, float, etc)\n",
        "\n",
        "TBD\n"
      ]
    },
    {
      "cell_type": "code",
      "source": [],
      "metadata": {
        "id": "2aGdk-MWDBVo"
      },
      "execution_count": null,
      "outputs": []
    },
    {
      "cell_type": "markdown",
      "metadata": {
        "id": "L4qsK3Lh8vhG"
      },
      "source": [
        "### Variables de tipo *string*\n",
        "\n",
        "TBD\n"
      ]
    },
    {
      "cell_type": "code",
      "source": [],
      "metadata": {
        "id": "Jn4q-HhWDB0u"
      },
      "execution_count": null,
      "outputs": []
    },
    {
      "cell_type": "markdown",
      "metadata": {
        "id": "TkbObGUHwWiw"
      },
      "source": [
        "### Variables de tipo *bool* o *booleanas*\n",
        "\n",
        "Puede tomar solo dos valores: True o False (¡atentis a la mayúscula!), y sirve para hacer [compuertas lógicas](https://www.logicbus.com.mx/compuertas-logicas.php).\n"
      ]
    },
    {
      "cell_type": "code",
      "metadata": {
        "id": "Wevws5QszeUQ"
      },
      "source": [
        "# Ejemplo de variables con valores booleanos\n",
        "verdadero = True\n",
        "falso = False\n",
        "\n",
        "print(type(verdadero))\n",
        "print(type(falso))"
      ],
      "execution_count": null,
      "outputs": []
    },
    {
      "cell_type": "code",
      "metadata": {
        "id": "fKx7w3pZzvBR"
      },
      "source": [
        "# Podemos operar con esas variables\n",
        "print(verdadero == verdadero) # Ojo: Acá estamos haciendo una comparación (==) y no una asignación(=).\n",
        "\n",
        "print(verdadero == falso)"
      ],
      "execution_count": null,
      "outputs": []
    },
    {
      "cell_type": "markdown",
      "metadata": {
        "id": "_X_XO9SH2f7H"
      },
      "source": [
        "La lista completa de operadores es:\n",
        "\n",
        "Mayor:  `a > b`\n",
        "\n",
        "Mayor o igual:  `a >= b`\n",
        "\n",
        "Menor:  `a < b`\n",
        "\n",
        "Menor o igual: `a <= b`\n",
        "\n",
        "Igual:  `a == b` (No confundir con la asignación de variables que se hace con un  solo signo <font color='green'>=</font> )\n",
        "\n",
        "Diferente: `a != b`"
      ]
    },
    {
      "cell_type": "markdown",
      "metadata": {
        "id": "RwKDQKB36Oou"
      },
      "source": [
        "Las compuertas lógicas que existen en Python son las siguientes: \n",
        "\n",
        "\n",
        "*  <font color='green'>and</font> : Es el \"y\" o la conjunción\n",
        "*  <font color='green'>or</font> : es el \"o\" o la disyunción \n",
        "*  <font color='green'>not</font> : es el \"no\" o la negación\n",
        "\n",
        "Y al utilizarlos obtenemos los siguientes resultados:\n",
        "\n",
        "* El resultado de **or** es verdadero cuando al menos uno de los operandos lo es.\n",
        "* El resultado de **and** es verdadero solo cuando ambos operandos lo son.\n",
        "* El operador **not** invierte el valor del operando.\n",
        "  \n",
        "\n",
        "\n",
        "\n"
      ]
    },
    {
      "cell_type": "code",
      "metadata": {
        "id": "gNI8DkxI3avW"
      },
      "source": [
        "# Vamos a pensar estos ejemplos juntxs\n",
        "\n",
        "primero = 1\n",
        "segundo = 2\n",
        "tercero = 3\n",
        "\n",
        "# ¿Cuál es el resultado? ¿True o False?"
      ],
      "execution_count": null,
      "outputs": []
    },
    {
      "cell_type": "code",
      "metadata": {
        "id": "G0Dgppr7IH3c"
      },
      "source": [
        "print(primero == segundo or primero == primero)\n"
      ],
      "execution_count": null,
      "outputs": []
    },
    {
      "cell_type": "code",
      "metadata": {
        "id": "mJXANbo6IJNa"
      },
      "source": [
        "print(primero < segundo and segundo > tercero)\n"
      ],
      "execution_count": null,
      "outputs": []
    },
    {
      "cell_type": "code",
      "metadata": {
        "id": "uF1h3TH4IKXT"
      },
      "source": [
        "print(not(primero == primero))"
      ],
      "execution_count": null,
      "outputs": []
    },
    {
      "cell_type": "markdown",
      "metadata": {
        "id": "bwNo1lQW83X7"
      },
      "source": [
        "**¿Qué sucedió?**\n",
        "\n",
        "<div>\n",
        "<img src=\"https://i.pinimg.com/originals/9a/1b/fa/9a1bfa80bc1ddc61f4fc28af06d9bc0f.png\" width=\"80\" height=\"auto\"/>\n",
        "</div>\n",
        "\n",
        "\n",
        "1. Caso 1: primero == segundo es falso, pero primero == primero es verdadero. Como falso **or** verdadero da verdadero, ese será el primer resultado.\n",
        "\n",
        "2. Caso 2: primero efectivamente es menor que segundo (da True), pero segundo no es mayor que tercero (False), por lo que la True **and** False da False.\n",
        "\n",
        "3. Caso 3: primero efectivamente es igual a sí mismo, pero como estamos aplicando el operador **not**, obtenemos False como resultado."
      ]
    },
    {
      "cell_type": "markdown",
      "metadata": {
        "id": "VuuJaYF33bBZ"
      },
      "source": [
        "Todavía puede que no se vea la gran utilidad de esta lógica, pero es indispensable para lograr cosas interesantes programando."
      ]
    },
    {
      "cell_type": "markdown",
      "metadata": {
        "id": "qy8TZ3mK-L4U"
      },
      "source": [
        "### Iterables\n",
        "\n",
        "Un iterador es un objeto que cuando se le llama, devuelve el siguiente elemento en la secuencia, cuando no queda nada para ser devuelto, lanza una excepción y se detiene la iteración.\n",
        "\n",
        "Algunos objetos iterables son las <font color='green'>listas</font>, las <font color='green'>tuplas</font>, los <font color='green'>sets</font> los <font color='green'>diccionarios</font> y los <font color='green'>strings</font>.\n",
        "\n",
        "Las listas son un objeto que contiene elementos de cualquier tipo y es mutable (se puede modificar)\n",
        "\n",
        "Una función importante que recibe un iterable como input es `len()` , la cual devuelve la cantidad de elementos."
      ]
    },
    {
      "cell_type": "code",
      "metadata": {
        "id": "LJXTD4wk93p5"
      },
      "source": [
        "# Lista con elementos de igual tipo\n",
        "soy_una_lista_del_mismo_tipo = [1,2,3]\n",
        "\n",
        "# Lista con elementos de distinto tipo\n",
        "soy_una_lista_de_distintos_tipos = [1,'hola',3.5]\n",
        "\n",
        "print(soy_una_lista_del_mismo_tipo)\n",
        "print(soy_una_lista_de_distintos_tipos)"
      ],
      "execution_count": null,
      "outputs": []
    },
    {
      "cell_type": "code",
      "metadata": {
        "id": "i9UD3-qQI2Mc"
      },
      "source": [
        "# ¿Largo de soy_una_lista_del_mismo_tipo? ¿Cómo lo obtengo?\n",
        "\n",
        "# ¿Largo de soy_una_lista_de_distintos_tipos?\n",
        "\n"
      ],
      "execution_count": null,
      "outputs": []
    },
    {
      "cell_type": "markdown",
      "metadata": {
        "id": "yDF6xCno802X"
      },
      "source": [
        "### Sobre tipos específicos de librerias\n",
        "Algunas librerias pueden generar sus tipos\n",
        "\n",
        "Tipos importantes para pandas:\n",
        "- dataframe\n",
        "- series\n",
        "\n",
        "Tipos importantes para numpy:\n",
        "- array\n",
        "\n"
      ]
    },
    {
      "cell_type": "markdown",
      "metadata": {
        "id": "QeFRIWlRt4tl"
      },
      "source": [
        "## Indexing\n",
        "Algo muy importante sobre este tipo de datos es entender como accedo a algún elemento en particular de los que la componen. Esto se llama indexación (o indexing en inglés).\n",
        "\n",
        "En Python el primer elemento es el elemento <strong><font color= 'green' > 0 </font></strong> y de ahí contamos hasta uno menos de lo que contaríamos con los dedos.\n",
        "\n",
        "O sea, si tengo 5 cosas voy del 0 al 4.\n",
        "\n",
        "Existen 2 maneras de acceder a los elementos:\n",
        "1. Comenzando desde el 0 en el primer elemento y sumando de a 1.\n",
        "2. Comenzando desde el -1 en el último elemento y restando de a 1.\n",
        "\n",
        "<img src=\"https://i.ibb.co/YdvDKjP/python-indexing.png\" alt=\"python-indexing\" width=\"300\" height=\"auto\">\n",
        "\n",
        "En Python se utilizan los corchetes (<strong><font color= 'green' > [ ] </font></strong>) para hacer la indexación.\n",
        "\n",
        "\n",
        "\n"
      ]
    },
    {
      "cell_type": "code",
      "metadata": {
        "id": "O5NAWC_Uwkyh"
      },
      "source": [
        "mi_string = 'PYTHON'\n",
        "mi_listita = ['pan', 'aceite', 'dentifrico', 'jabon','galletitas', 'vinagre', 'sal']\n"
      ],
      "execution_count": null,
      "outputs": []
    },
    {
      "cell_type": "code",
      "metadata": {
        "id": "zYGXAJbeDcv7"
      },
      "source": [
        "# Revisamos el tamaño del string\n",
        "len(mi_string)"
      ],
      "execution_count": null,
      "outputs": []
    },
    {
      "cell_type": "code",
      "metadata": {
        "id": "d2RjLEuEDmTI"
      },
      "source": [
        "# -y el tamaño de la lista\n",
        "len(mi_listita)"
      ],
      "execution_count": null,
      "outputs": []
    },
    {
      "cell_type": "code",
      "metadata": {
        "id": "8zzdzU_JxC8J"
      },
      "source": [
        "mi_listita[1]\n"
      ],
      "execution_count": null,
      "outputs": []
    },
    {
      "cell_type": "code",
      "metadata": {
        "id": "9aAKSh860Zzf"
      },
      "source": [
        "mi_string[-1]"
      ],
      "execution_count": null,
      "outputs": []
    },
    {
      "cell_type": "code",
      "metadata": {
        "id": "YcB_TyWmwrJZ"
      },
      "source": [
        "# Ejercicio: Demostrar por medio de una comparacion lógica que los elementos 0 y -6 del string 'PYTHON' son el mismo. \n"
      ],
      "execution_count": null,
      "outputs": []
    },
    {
      "cell_type": "markdown",
      "metadata": {
        "id": "0pPetVCMjO-G"
      },
      "source": [
        "# Slicing\n",
        "\n",
        "El slicing (rebanar?) es la técnica utilizada para quedarse con un subconjunto de los elementos de un iterable.\n",
        "\n",
        "En python para hacer esto se utilizan los corchetes como en la indexación pero además los dos puntos para designar el subconjunto.\n",
        "\n",
        "Es importante resaltar que la indexación incluye al primer elemento pero no al último, sino que evalúa uno antes.\n",
        "\n",
        "O sea que nos quedaría algo como lo siguiente:\n",
        "\n",
        "`iterable[comienzo, fin - 1]`\n",
        "\n",
        "Si no declara un número de comienzo o de fin, por defecto se utiliza el comienzo o el final del iterable.\n",
        "\n",
        "En todos los casos, la evalución es de izquierda a derecha.\n",
        "\n",
        "Veamos algunos ejemplos:"
      ]
    },
    {
      "cell_type": "code",
      "metadata": {
        "id": "Blz3PjMe1XQp"
      },
      "source": [
        "#formas de devolver todos los elementos\n",
        "# mi_string[:]\n",
        "# mi_string[0:]\n",
        "# mi_string[:6]\n",
        "mi_string[0:6]"
      ],
      "execution_count": null,
      "outputs": []
    },
    {
      "cell_type": "code",
      "metadata": {
        "id": "cszSmZP35B2Z"
      },
      "source": [
        "#Lo mismo vale para otros iterables, como una lista\n",
        "\n",
        "# Anteultimo y antepenúltimo elemento de la lista (elementos 4 y 5)\n",
        "# mi_listita[4:6]\n",
        "\n",
        "# O su equivalente con la indexación negativa\n",
        "# mi_listita[-3:-1]\n"
      ],
      "execution_count": null,
      "outputs": []
    },
    {
      "cell_type": "code",
      "metadata": {
        "id": "vt4oKXsK3c2o"
      },
      "source": [
        "# Ejercicio: Devolver los elementos de higiene personal de mi_listita\n",
        "\n",
        "mi_listita = ['pan', 'aceite', 'dentifrico', 'jabon','galletitas', 'vinagre', 'sal']\n",
        "\n",
        "\n",
        "\n"
      ],
      "execution_count": null,
      "outputs": []
    },
    {
      "cell_type": "markdown",
      "metadata": {
        "id": "dnuE1ouH1l1i"
      },
      "source": [
        "### ¿Cómo hacemos para saber qué tipo de dato tiene nuestra variable?\n",
        "\n",
        "Utilizamos la función `type()`"
      ]
    },
    {
      "cell_type": "code",
      "metadata": {
        "id": "nUW2H26_1vRg"
      },
      "source": [
        "soy_un_string = 'Hola'\n",
        "soy_un_numero_entero = 10\n",
        "soy_un_numero_con_coma = 1.5\n",
        "soy_un_booleano = True\n",
        "soy_una_funcion = print\n",
        "soy_una_lista = ['primer elemento', 2, print, ['hola'],2.5]\n",
        "\n",
        "\n",
        "print(type(soy_un_string))\n",
        "print(type(soy_un_numero_entero))\n",
        "print(type(soy_un_numero_con_coma))\n",
        "print(type(soy_un_booleano))\n",
        "print(type(soy_una_funcion))\n",
        "print(type(soy_una_lista))"
      ],
      "execution_count": null,
      "outputs": []
    },
    {
      "cell_type": "markdown",
      "metadata": {
        "id": "1nxguZILDVke"
      },
      "source": [
        "# Condicionales: if, elif, else\n",
        "Las palabras reservadas `if` (si condicional), `elif` (*else if*, sino) y `else` (de última [ *la traducción podría o no ser literal* ]) nos permiten ejecutar diferentes líneas de código dependiendo de si una condición previa es verdadera (True) o no lo es (False).\n",
        "\n",
        "¡Esta es una de las aplicaciones de los booleanos!\n",
        "\n",
        "`if`, `elif` y `else` siempre se colocan en ese orden. Solamente se ejecuta uno de ellos, el que corresponde primero que sea True. Si uno resulta True, Python lo ejecuta y no evalúa las siguientes condiciones.\n",
        "\n",
        "Empieza por el `if`, y luego los `elif` en orden descendente. Si ninguno de ellos es verdadero, el `else` por defecto lo será.\n",
        "<center>\n",
        "<div>\n",
        "<img src=\"https://i.ibb.co/hCB8YQq/if-flow.png\" width=\"400\" height=\"auto\"/>\n",
        "</div>\n",
        "</center>\n",
        "\n",
        "Cuando nuestro programa llega al condicional (**Inicio**), en ese momento se evalúa nuestra condición: si el resultado es verdadero (True) seguiremos por la rama izquierda y se ejecutará el código correspondiente (**Si la condición se cumple**), si al evaluarla el resultado es falso (False) lo hará el código correspondiente a la rama derecha (**Si la condición no se cumple**) y posteriormente el condicional terminará (**Fin**).\n",
        "\n",
        "\n"
      ]
    },
    {
      "cell_type": "code",
      "metadata": {
        "id": "1LLwbF4LEDOJ"
      },
      "source": [
        "# Podemos tener solamente un if \n",
        "\n",
        "cantidad_de_faltas = 51\n",
        "\n",
        "if cantidad_de_faltas > 50:\n",
        "  print('Oops, te quedaste libre!')\n",
        "\n",
        "# Si la condición del if es False, no se va a ejecutar nada."
      ],
      "execution_count": null,
      "outputs": []
    },
    {
      "cell_type": "code",
      "metadata": {
        "id": "x-6Z0WE02vxE"
      },
      "source": [
        "# Podemos tener if y elif (tantos elif como queramos) sin else\n",
        "# y de nuevo, si todos son falsos no se va a ejecutar nada\n",
        "\n",
        "edad = 5\n",
        "\n",
        "if 18 < edad < 65  :\n",
        "  print('Adulte')\n",
        "elif edad > 65:\n",
        "  print('Anciane')"
      ],
      "execution_count": null,
      "outputs": []
    },
    {
      "cell_type": "code",
      "metadata": {
        "id": "AGR3Vz8-2rsX"
      },
      "source": [
        "# Podemos combinar diferentes condiciones\n",
        "dia = 'sabado'\n",
        "\n",
        "if dia == 'sabado' or dia == 'domingo': \n",
        "  print('Trabajo igual porque estoy haciendo un doctorado!') "
      ],
      "execution_count": null,
      "outputs": []
    },
    {
      "cell_type": "markdown",
      "metadata": {
        "id": "g6QxTWXwDN26"
      },
      "source": [
        "# Condicionales: Ciclos While y For\n",
        "## While\n",
        "El ciclo (bucle o *loop*) `while` es un ciclo repetitivo que continúa mientras el resultado de una expresión lógica sea verdadero (True).\n",
        "\n",
        "<img src=\"https://i.ibb.co/98rnmNV/Flow-Diagram-do-while-loop.jpg\" alt=\"Flow-Diagram-do-while-loop\" width=\"600\" height=\"auto\">\n",
        "\n",
        "Cuando nuestro programa llega al condicional (**Inicio del ciclo While**), en ese momento se evalúa nuestra condición: si el resultado es verdadero (True) seguiremos por la rama izquierda y se ejecutará el código correspondiente (**Si la condición se cumple**), si al evaluarla el resultado es falso (False) lo hará el código correspondiente a la rama derecha (**Si la condición no se cumple**) y posteriormente el condicional terminará (**Fin**).\n",
        "\n",
        "## For\n",
        "El bucle `for` es una estructura de control en programación en la que se puede indicar de antemano el número máximo de iteraciones.\n"
      ]
    },
    {
      "cell_type": "code",
      "metadata": {
        "id": "2JYMAMnSDNOz"
      },
      "source": [
        "#Ejemplo de ciclo de ciclo while\n",
        "\n",
        "# Iniciamos un contador de manzanas\n",
        "cantidad_de_manzanas = 10\n",
        "\n",
        "while cantidad_de_manzanas > 0: # Mientras se cumpla esta condición ejecuto el código de abajo\n",
        "  print('me como una manzana')\n",
        "  cantidad_de_manzanas = cantidad_de_manzanas - 1 # Decrementamos el contador en 1\n",
        "  print('me quedan ' + str(cantidad_de_manzanas) + ' manzanas')\n",
        "\n",
        "print('Ya me comí todas') #Cuando salgo del While ejecuto esta línea que no está tabulada \n",
        "\n",
        "  "
      ],
      "execution_count": null,
      "outputs": []
    },
    {
      "cell_type": "code",
      "metadata": {
        "id": "KWDHxbKwT8pZ"
      },
      "source": [
        "# Atentes a este, van a tener que frenar la ejecución a mano tocando en el botón ⏹️ \n",
        "# Hay que ser cuidadosos con los ciclos que siempre cumplen la condición porque pueden agotar toda la memoria y llevar a errores.\n",
        "numero_de_iteracion = 0\n",
        "while True:\n",
        "  numero_de_iteracion = numero_de_iteracion + 1\n",
        "  print('Soy un ciclo infinito')\n",
        "  print('Iteración número: ' + str(numero_de_iteracion))\n",
        "print('Finalizo el ciclo') # Nunca salgo del ciclo así que esto jamás se va a ejecutar"
      ],
      "execution_count": null,
      "outputs": []
    },
    {
      "cell_type": "code",
      "metadata": {
        "id": "n2jfKbpc4Ylq"
      },
      "source": [
        "# Ejercicio\n",
        "# contruir un ciclo while que cuente días del 1 al 10 y cuando llegue a 10 imprima un mensaje que diga \"Pasaron 10 días!\"\n",
        "dia = ___\n",
        "\n",
        "while ___:\n",
        "  ______\n"
      ],
      "execution_count": null,
      "outputs": []
    },
    {
      "cell_type": "code",
      "metadata": {
        "id": "Y-3L88qEAK6l"
      },
      "source": [
        "# Ejemplo de ciclo for\n",
        "amigues = ['Carla', 'Nicolás', 'Eusebio', 'Hermenegilda']\n",
        "\n",
        "for amigue in amigues: # Itero sobre cada 'amigue', es decir, sobre cada elemento de la lista 'amigues'\n",
        "  print('Hola ' + amigue)"
      ],
      "execution_count": null,
      "outputs": []
    },
    {
      "cell_type": "code",
      "metadata": {
        "id": "a1vnIM4NNn3k"
      },
      "source": [
        "# Otro ciclo for pero con condiciones dentro del mismo\n",
        "\n",
        "numeros = [1,2,3,4,5,6,7,8]\n",
        "\n",
        "for numero in numeros:\n",
        "  if numero > 4:\n",
        "    print(str(numero) + ' es mayor a 4')\n",
        "  elif numero == 4:\n",
        "    print(str(numero) + ' es igual a 4')\n",
        "  else:\n",
        "    print(str(numero) + ' es menor a 4')"
      ],
      "execution_count": null,
      "outputs": []
    },
    {
      "cell_type": "markdown",
      "metadata": {
        "id": "mgNwTwJxpfOn"
      },
      "source": [
        "Este es un ejemplo adorable de `for` loop (pseudocódigo en R) por [Allison Horst](https://twitter.com/allison_horst/status/1290774616038809600/photo/1).\n",
        "\n",
        "<img src='https://pbs.twimg.com/media/Eem_Mp_U4AAkHMj?format=jpg&name=4096x4096' width=\"600\" height=\"auto\">"
      ]
    }
  ]
}